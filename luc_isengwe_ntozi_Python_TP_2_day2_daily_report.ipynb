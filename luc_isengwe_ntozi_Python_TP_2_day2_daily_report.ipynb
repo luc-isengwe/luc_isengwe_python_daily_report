{
 "cells": [
  {
   "cell_type": "markdown",
   "id": "d68c1dee",
   "metadata": {
    "id": "d68c1dee"
   },
   "source": [
    "# Practical_2: String and files"
   ]
  },
  {
   "cell_type": "markdown",
   "id": "xdlTAwkV29nf",
   "metadata": {
    "id": "xdlTAwkV29nf"
   },
   "source": [
    "### Exercise 1:\n",
    "Create a string variable `text` and assign it the value `\"Python is amazing!\"`.\n",
    "\n",
    "```python\n",
    "# Exercise 1"
   ]
  },
  {
   "cell_type": "code",
   "execution_count": null,
   "id": "MKaGQJhD4suF",
   "metadata": {
    "id": "MKaGQJhD4suF"
   },
   "outputs": [],
   "source": [
    "text = \"Python is amazing!\""
   ]
  },
  {
   "cell_type": "markdown",
   "id": "XxjtKEXC3AQv",
   "metadata": {
    "id": "XxjtKEXC3AQv"
   },
   "source": [
    "### Exercise 2:\n",
    "Find the length of the string `\"Hello, World!\"` and store it in a variable `length`.\n",
    "\n",
    "```python\n",
    "# Exercise 2"
   ]
  },
  {
   "cell_type": "code",
   "execution_count": null,
   "id": "zKKaKSig441x",
   "metadata": {
    "colab": {
     "base_uri": "https://localhost:8080/"
    },
    "id": "zKKaKSig441x",
    "outputId": "34ad0e2d-b3f4-49d9-8ffc-4fa05a888cb1"
   },
   "outputs": [
    {
     "name": "stdout",
     "output_type": "stream",
     "text": [
      "the length of string_1 equals 13\n"
     ]
    }
   ],
   "source": [
    "string_1 = \"Hello, World!\"\n",
    "length = len(string_1)\n",
    "print('the length of string_1 equals', length)"
   ]
  },
  {
   "cell_type": "markdown",
   "id": "on1SSRk53DVh",
   "metadata": {
    "id": "on1SSRk53DVh"
   },
   "source": [
    "### Exercise 3:\n",
    "Convert the string `\"python programming\"` to uppercase and store it in a variable `upper_text`.\n",
    "\n",
    "```python\n",
    "# Exercise 3"
   ]
  },
  {
   "cell_type": "code",
   "execution_count": null,
   "id": "oZ7b5qI9Bs-Q",
   "metadata": {
    "colab": {
     "base_uri": "https://localhost:8080/"
    },
    "id": "oZ7b5qI9Bs-Q",
    "outputId": "f4678de6-abed-4862-b9de-8a68244eaf65"
   },
   "outputs": [
    {
     "name": "stdout",
     "output_type": "stream",
     "text": [
      "PYTHON PROGRAMMING\n"
     ]
    }
   ],
   "source": [
    "string_2 = \"python programming\"\n",
    "upper_text = string_2.upper()\n",
    "print(upper_text)"
   ]
  },
  {
   "cell_type": "markdown",
   "id": "lCgN5fuG3GYb",
   "metadata": {
    "id": "lCgN5fuG3GYb"
   },
   "source": [
    "### Exercise 4:\n",
    "Extract the first 5 characters from the string `\"Artificial Intelligence\"`.\n",
    "\n",
    "```python\n",
    "# Exercise 4"
   ]
  },
  {
   "cell_type": "code",
   "execution_count": null,
   "id": "i3YF_NJvE_JO",
   "metadata": {
    "colab": {
     "base_uri": "https://localhost:8080/"
    },
    "id": "i3YF_NJvE_JO",
    "outputId": "d136d9ef-bea1-45c9-aa36-3a95222c18ea"
   },
   "outputs": [
    {
     "name": "stdout",
     "output_type": "stream",
     "text": [
      "Artif\n"
     ]
    }
   ],
   "source": [
    "string_3 = \"Artificial Intelligence\"\n",
    "five_c = string_3[:5]\n",
    "print(five_c)"
   ]
  },
  {
   "cell_type": "markdown",
   "id": "OUjwgAhv3J7i",
   "metadata": {
    "id": "OUjwgAhv3J7i"
   },
   "source": [
    "### Exercise 5:\n",
    "Concatenate the strings `\"Hello\"` and `\"World\"` with a space in between.\n",
    "\n",
    "```python\n",
    "# Exercise 5"
   ]
  },
  {
   "cell_type": "code",
   "execution_count": null,
   "id": "k2wh-zdWFuHZ",
   "metadata": {
    "colab": {
     "base_uri": "https://localhost:8080/"
    },
    "id": "k2wh-zdWFuHZ",
    "outputId": "ffa95597-bcd1-4ba7-84e6-2467fdc181ee"
   },
   "outputs": [
    {
     "name": "stdout",
     "output_type": "stream",
     "text": [
      "Hello World\n"
     ]
    }
   ],
   "source": [
    "St_1 = \"Hello\"\n",
    "St_2 = \"World\"\n",
    "print(St_1 +\" \"+ St_2)"
   ]
  },
  {
   "cell_type": "markdown",
   "id": "SVWtr00U3M5E",
   "metadata": {
    "id": "SVWtr00U3M5E"
   },
   "source": [
    "### Exercise 6:\n",
    "Replace the word `\"dog\"` with `\"cat\"` in the string `\"The quick brown dog jumps over the lazy dog.\"`.\n",
    "\n",
    "```python\n",
    "# Exercise 6"
   ]
  },
  {
   "cell_type": "code",
   "execution_count": null,
   "id": "RUaWAqDhGlPt",
   "metadata": {
    "colab": {
     "base_uri": "https://localhost:8080/"
    },
    "id": "RUaWAqDhGlPt",
    "outputId": "73e43954-f9a0-45d7-bfda-0f2b08cf0d1f"
   },
   "outputs": [
    {
     "name": "stdout",
     "output_type": "stream",
     "text": [
      "The quick brown cat jumps over the lazy cat.\n"
     ]
    }
   ],
   "source": [
    "string_4 = \"The quick brown dog jumps over the lazy dog.\"\n",
    "n_string_4 = string_4.replace('dog', 'cat')\n",
    "print(n_string_4)"
   ]
  },
  {
   "cell_type": "markdown",
   "id": "sZaeQ8oS3Par",
   "metadata": {
    "id": "sZaeQ8oS3Par"
   },
   "source": [
    "### Exercise 7:\n",
    "Split the string `\"apple,banana,orange\"` by commas and store the result in a list `fruits_list`.\n",
    "\n",
    "```python\n",
    "# Exercise 7"
   ]
  },
  {
   "cell_type": "code",
   "execution_count": null,
   "id": "HpgZyhR1JIsS",
   "metadata": {
    "colab": {
     "base_uri": "https://localhost:8080/"
    },
    "id": "HpgZyhR1JIsS",
    "outputId": "ecb63681-9931-4a0e-fb8f-3dcf4246471d"
   },
   "outputs": [
    {
     "name": "stdout",
     "output_type": "stream",
     "text": [
      "['apple', 'banana', 'orange']\n"
     ]
    }
   ],
   "source": [
    "string_5 = \"apple,banana,orange\"\n",
    "fruits_list = string_5.split(\",\")\n",
    "print(fruits_list)"
   ]
  },
  {
   "cell_type": "markdown",
   "id": "NzF6hO_x3Scm",
   "metadata": {
    "id": "NzF6hO_x3Scm"
   },
   "source": [
    "### Exercise 8:\n",
    "Use string formatting to create the sentence `\"My name is Alice and I am 25 years old.\"`, where the name and age are variables.\n",
    "\n",
    "```python\n",
    "# Exercise 8"
   ]
  },
  {
   "cell_type": "code",
   "execution_count": null,
   "id": "tSbitD9qanRY",
   "metadata": {
    "colab": {
     "base_uri": "https://localhost:8080/"
    },
    "id": "tSbitD9qanRY",
    "outputId": "78a945f0-0267-4807-b417-fa1ecabd0fa4"
   },
   "outputs": [
    {
     "name": "stdout",
     "output_type": "stream",
     "text": [
      "My name is Alice and I am 25 years old\n"
     ]
    }
   ],
   "source": [
    "name = \"Alice\"\n",
    "age = 25\n",
    "sentence = f\"My name is {name} and I am {age} years old\"\n",
    "print(sentence)"
   ]
  },
  {
   "cell_type": "markdown",
   "id": "Srx9UyzD3Vd9",
   "metadata": {
    "id": "Srx9UyzD3Vd9"
   },
   "source": [
    "### Exercise 9:\n",
    "Check if the string `\"python\"` is present in the sentence `\"I love python programming\"`.\n",
    "\n",
    "```python\n",
    "# Exercise 9"
   ]
  },
  {
   "cell_type": "code",
   "execution_count": null,
   "id": "AQZSfqeQihnN",
   "metadata": {
    "colab": {
     "base_uri": "https://localhost:8080/"
    },
    "id": "AQZSfqeQihnN",
    "outputId": "01d69e29-a097-4fe5-e4bc-4de12aeffe51"
   },
   "outputs": [
    {
     "name": "stdout",
     "output_type": "stream",
     "text": [
      "the word python is in the sentence\n"
     ]
    }
   ],
   "source": [
    "sentence = \"I love python programming\"\n",
    "check = \"python\"\n",
    "if check in sentence:\n",
    "  print(f\"the word {check} is in the sentence\")\n",
    "else:\n",
    "  print(f\"the word {check} is not in the sentence\")\n"
   ]
  },
  {
   "cell_type": "markdown",
   "id": "ew0HsfZx3X9H",
   "metadata": {
    "id": "ew0HsfZx3X9H"
   },
   "source": [
    "### Exercise 10:\n",
    "Count the number of occurrences of the letter `\"e\"` in the string `\"Elephant is an elegant animal\"`.\n",
    "\n",
    "```python\n",
    "# Exercise 10"
   ]
  },
  {
   "cell_type": "code",
   "execution_count": null,
   "id": "bQftR_QenYRx",
   "metadata": {
    "colab": {
     "base_uri": "https://localhost:8080/"
    },
    "id": "bQftR_QenYRx",
    "outputId": "72155794-58b8-48f3-f6b5-7dad346dea78"
   },
   "outputs": [
    {
     "name": "stdout",
     "output_type": "stream",
     "text": [
      "the letter 'e' appears 4 times\n"
     ]
    }
   ],
   "source": [
    "sentence_1 = \"Elephant is an elegant animal\"\n",
    "count_e = sentence_1.lower().count(\"e\")\n",
    "print(f\"the letter 'e' appears {count_e} times\")"
   ]
  },
  {
   "cell_type": "markdown",
   "id": "HiJ0Bh-u3a5g",
   "metadata": {
    "id": "HiJ0Bh-u3a5g"
   },
   "source": [
    "### Exercise 11:\n",
    "Remove any leading and trailing spaces from the string `\"   Data Science   \"`.\n",
    "\n",
    "```python\n",
    "# Exercise 11"
   ]
  },
  {
   "cell_type": "code",
   "execution_count": null,
   "id": "OJ_w5PVWqnMZ",
   "metadata": {
    "colab": {
     "base_uri": "https://localhost:8080/"
    },
    "id": "OJ_w5PVWqnMZ",
    "outputId": "7f4d5b3c-d38c-49ee-92f1-d870becf9e0f"
   },
   "outputs": [
    {
     "name": "stdout",
     "output_type": "stream",
     "text": [
      "DataScience\n"
     ]
    }
   ],
   "source": [
    "sentence_2 = \" Data Science \"\n",
    "lead_1 = sentence_2.replace(\" \",'')\n",
    "print(lead_1)"
   ]
  },
  {
   "cell_type": "markdown",
   "id": "gBabpkFe3d7U",
   "metadata": {
    "id": "gBabpkFe3d7U"
   },
   "source": [
    "### Exercise 12:\n",
    "Convert the string `\"100\"` into an integer and store it in a variable `int_value`.\n",
    "\n",
    "```python\n",
    "# Exercise 12"
   ]
  },
  {
   "cell_type": "code",
   "execution_count": null,
   "id": "yY5fKG1HuTgY",
   "metadata": {
    "colab": {
     "base_uri": "https://localhost:8080/"
    },
    "id": "yY5fKG1HuTgY",
    "outputId": "0333976f-d598-4ffe-b30e-639c0b9d3876"
   },
   "outputs": [
    {
     "name": "stdout",
     "output_type": "stream",
     "text": [
      "100 <class 'int'>\n"
     ]
    }
   ],
   "source": [
    "x = \"100\"\n",
    "int_value = int(x)\n",
    "print(int_value, type(int_value))\n"
   ]
  },
  {
   "cell_type": "markdown",
   "id": "taJSTon53hMO",
   "metadata": {
    "id": "taJSTon53hMO"
   },
   "source": [
    "### Exercise 13:\n",
    "Extract the substring `\"pro\"` from the string `\"programming\"`.\n",
    "\n",
    "```python\n",
    "# Exercise 13\n",
    "```"
   ]
  },
  {
   "cell_type": "code",
   "execution_count": null,
   "id": "zeFau9pivX5P",
   "metadata": {
    "colab": {
     "base_uri": "https://localhost:8080/"
    },
    "id": "zeFau9pivX5P",
    "outputId": "ea76fd7f-20e6-4db6-90fe-566f231549f4"
   },
   "outputs": [
    {
     "name": "stdout",
     "output_type": "stream",
     "text": [
      "pro\n"
     ]
    }
   ],
   "source": [
    "text_1 = \"programming\"\n",
    "subt_1 =text_1[0:3]\n",
    "print(subt_1)"
   ]
  },
  {
   "cell_type": "markdown",
   "id": "rA1_4xLj3kYu",
   "metadata": {
    "id": "rA1_4xLj3kYu"
   },
   "source": [
    "### Exercise 14:\n",
    "Check if the string `\"data\"` starts with `\"da\"` and ends with `\"ta\"`.\n",
    "\n",
    "```python\n",
    "# Exercise 14"
   ]
  },
  {
   "cell_type": "code",
   "execution_count": null,
   "id": "5Wr3Bw3vzDYF",
   "metadata": {
    "colab": {
     "base_uri": "https://localhost:8080/"
    },
    "id": "5Wr3Bw3vzDYF",
    "outputId": "ba74fccd-1e75-4016-a04d-4acf9608c575"
   },
   "outputs": [
    {
     "data": {
      "text/plain": [
       "True"
      ]
     },
     "execution_count": 24,
     "metadata": {},
     "output_type": "execute_result"
    }
   ],
   "source": [
    "text_2 = \"data\"\n",
    "text_2.startswith(\"da\")\n",
    "text_2.endswith(\"ta\")"
   ]
  },
  {
   "cell_type": "markdown",
   "id": "sldxqBLz3oOz",
   "metadata": {
    "id": "sldxqBLz3oOz"
   },
   "source": [
    "### Exercise 15:\n",
    "Reverse the string `\"machine learning\"` and store the result in `reversed_text`.\n",
    "\n",
    "```python\n",
    "# Exercise 15"
   ]
  },
  {
   "cell_type": "code",
   "execution_count": null,
   "id": "oULG8kfLz1xd",
   "metadata": {
    "colab": {
     "base_uri": "https://localhost:8080/"
    },
    "id": "oULG8kfLz1xd",
    "outputId": "ef50d43e-e4de-475f-9470-ae00e03c9ff0"
   },
   "outputs": [
    {
     "name": "stdout",
     "output_type": "stream",
     "text": [
      "gninrael enihcam\n"
     ]
    }
   ],
   "source": [
    "string_6 = \"machine learning\"\n",
    "reversed_text = string_6[::-1]\n",
    "print(reversed_text)"
   ]
  },
  {
   "cell_type": "markdown",
   "id": "eB7r5Y5B3rn3",
   "metadata": {
    "id": "eB7r5Y5B3rn3"
   },
   "source": [
    "### Exercise 16:\n",
    "Convert the first letter of each word in the string `\"machine learning is fun\"` to uppercase.\n",
    "\n",
    "```python\n",
    "# Exercise 16"
   ]
  },
  {
   "cell_type": "code",
   "execution_count": null,
   "id": "juMv2LsV12Ve",
   "metadata": {
    "colab": {
     "base_uri": "https://localhost:8080/"
    },
    "id": "juMv2LsV12Ve",
    "outputId": "1b2a3bbe-de56-4ef4-9f55-6fa17f16ae31"
   },
   "outputs": [
    {
     "name": "stdout",
     "output_type": "stream",
     "text": [
      "Machine Learning Is Fun\n"
     ]
    }
   ],
   "source": [
    "string_7 = \"machine learning is fun\"\n",
    "conve = string_7.title()\n",
    "print(conve)"
   ]
  },
  {
   "cell_type": "markdown",
   "id": "V98AokV_3wKT",
   "metadata": {
    "id": "V98AokV_3wKT"
   },
   "source": [
    "### Exercise 17:\n",
    "Create a multiline string representing a poem and store it in a variable `poem`.\n",
    "\n",
    "```python\n",
    "# Exercise 17"
   ]
  },
  {
   "cell_type": "code",
   "execution_count": null,
   "id": "QEGYyy4d25kV",
   "metadata": {
    "id": "QEGYyy4d25kV"
   },
   "outputs": [],
   "source": [
    "poem = \"\"\"Le vent murmure aux fleurs ses secrets légers,\n",
    "La lune veille, douce et sans égale,\n",
    "Sur les rêves d’un monde apaisé,\n",
    "Où chaque aurore renaît en beauté.\"\"\""
   ]
  },
  {
   "cell_type": "markdown",
   "id": "vQhN9Uby37go",
   "metadata": {
    "id": "vQhN9Uby37go"
   },
   "source": [
    "### Exercise 18:\n",
    "Write a string to a file named `\"output.txt\"`.\n",
    "\n",
    "```python\n",
    "# Exercise 18"
   ]
  },
  {
   "cell_type": "code",
   "execution_count": null,
   "id": "QuYRjZLU37oN",
   "metadata": {
    "colab": {
     "base_uri": "https://localhost:8080/"
    },
    "id": "QuYRjZLU37oN",
    "outputId": "430dbdf6-e074-4fad-848d-81887ebdccf7"
   },
   "outputs": [
    {
     "name": "stdout",
     "output_type": "stream",
     "text": [
      "This is the string I want to write to the file.\n"
     ]
    }
   ],
   "source": [
    "file_1 = \"This is the string I want to write to the file.\"\n",
    "\n",
    "with open(\"output.txt\", \"w\") as file:\n",
    "    file.write(file_1)\n",
    "with open(\"output.txt\") as file:\n",
    "  file_content = file.read()\n",
    "  print(file_content)\n"
   ]
  },
  {
   "cell_type": "markdown",
   "id": "3uAUgK9D3-Yh",
   "metadata": {
    "id": "3uAUgK9D3-Yh"
   },
   "source": [
    "### Exercise 19:\n",
    "Read the contents of a file named `\"data.txt\"` and print it line by line.\n",
    "\n",
    "```python\n",
    "# Exercise 19"
   ]
  },
  {
   "cell_type": "code",
   "execution_count": null,
   "id": "vi7opr3g5N_G",
   "metadata": {
    "colab": {
     "base_uri": "https://localhost:8080/"
    },
    "id": "vi7opr3g5N_G",
    "outputId": "aa65cb7f-51ad-4bc0-ce88-0d9ac8092bf7"
   },
   "outputs": [
    {
     "name": "stdout",
     "output_type": "stream",
     "text": [
      "T h i s   i s   t h e   s t r i n g   I   w a n t   t o   w r i t e   t o   t h e   f i l e . "
     ]
    }
   ],
   "source": [
    "file_1 = \"This is the string I want to write to the file.\"\n",
    "\n",
    "with open(\"data.txt\", \"w\") as file:\n",
    "    file.write(file_1)\n",
    "with open(\"output.txt\") as file:\n",
    "  file_content = file.read()\n",
    "  for i in file_content:\n",
    "    print(i, end=\" \")"
   ]
  },
  {
   "cell_type": "markdown",
   "id": "JDDAzvbX4BZr",
   "metadata": {
    "id": "JDDAzvbX4BZr"
   },
   "source": [
    "### Exercise 20:\n",
    "Check if a file `\"example.txt\"` exists before opening it.\n",
    "\n",
    "```python\n",
    "# Exercise 20"
   ]
  },
  {
   "cell_type": "code",
   "execution_count": null,
   "id": "RPTW1svK73cI",
   "metadata": {
    "colab": {
     "base_uri": "https://localhost:8080/"
    },
    "id": "RPTW1svK73cI",
    "outputId": "89c93da6-0eec-4607-da75-50a782d9a2f6"
   },
   "outputs": [
    {
     "name": "stdout",
     "output_type": "stream",
     "text": [
      "The file 'example.txt' does not exist.\n",
      "'example.txt' is not a regular file or does not exist.\n"
     ]
    }
   ],
   "source": [
    "import os\n",
    "\n",
    "file_name = \"example.txt\"\n",
    "\n",
    "if os.path.exists(file_name):\n",
    "    print(f\"The file '{file_name}' exists. Opening it now.\")\n",
    "    with open(file_name, 'r') as f:\n",
    "        content = f.read()\n",
    "        print(\"File content:\", content)\n",
    "else:\n",
    "    print(f\"The file '{file_name}' does not exist.\")\n",
    "\n",
    "# Alternatively, using os.path.isfile() for stricter file check\n",
    "if os.path.isfile(file_name):\n",
    "    print(f\"'{file_name}' is a regular file. Opening it.\")\n",
    "    with open(file_name, 'r') as f:\n",
    "        content = f.read()\n",
    "        print(\"File content:\", content)\n",
    "else:\n",
    "    print(f\"'{file_name}' is not a regular file or does not exist.\")"
   ]
  },
  {
   "cell_type": "markdown",
   "id": "ESKrT00O4E4Q",
   "metadata": {
    "id": "ESKrT00O4E4Q"
   },
   "source": [
    "### Exercise 21:\n",
    "Append a new line `\"This is a new line\"` to an existing file `\"notes.txt\"`.\n",
    "\n",
    "```python\n",
    "# Exercise 21"
   ]
  },
  {
   "cell_type": "code",
   "execution_count": 5,
   "id": "HXzSg7md74Q_",
   "metadata": {
    "id": "HXzSg7md74Q_"
   },
   "outputs": [],
   "source": [
    "with open(\"notes.txt\", \"a\") as file:\n",
    "    file.write(\"This is a new line\\n\")"
   ]
  },
  {
   "cell_type": "markdown",
   "id": "-ifGtEpp4IhP",
   "metadata": {
    "id": "-ifGtEpp4IhP"
   },
   "source": [
    "### Exercise 22:\n",
    "Read the contents of a file `\"log.txt\"` and store each line in a list `log_lines`.\n",
    "\n",
    "```python\n",
    "# Exercise 22"
   ]
  },
  {
   "cell_type": "code",
   "execution_count": 6,
   "id": "3bf155ab-1ccb-4c9f-b91f-772d7c4a5b75",
   "metadata": {
    "colab": {
     "base_uri": "https://localhost:8080/",
     "height": 158
    },
    "id": "3bf155ab-1ccb-4c9f-b91f-772d7c4a5b75",
    "outputId": "5ae818d9-2f31-4211-beeb-6f9c2f95f8e2"
   },
   "outputs": [],
   "source": [
    "with open(\"log.txt\", \"r\") as file:\n",
    "    log_lines = [line.strip() for line in file]"
   ]
  },
  {
   "cell_type": "markdown",
   "id": "8KKVixwQ4Lkw",
   "metadata": {
    "id": "8KKVixwQ4Lkw"
   },
   "source": [
    "### Exercise 23:\n",
    "Create a new file `\"report.txt\"` and write the string `\"Data analysis report\"` to it.\n",
    "\n",
    "```python\n",
    "# Exercise 23"
   ]
  },
  {
   "cell_type": "code",
   "execution_count": null,
   "id": "oaGfeTGi75qP",
   "metadata": {
    "id": "oaGfeTGi75qP"
   },
   "outputs": [],
   "source": [
    "with open(\"report.txt\", \"w\") as file:\n",
    "    file.write(\"Data analysis report\")"
   ]
  },
  {
   "cell_type": "markdown",
   "id": "gDDyM6CW4PNy",
   "metadata": {
    "id": "gDDyM6CW4PNy"
   },
   "source": [
    "### Exercise 24:\n",
    "Replace the word `\"error\"` with `\"issue\"` in a file `\"log.txt\"`.\n",
    "\n",
    "```python\n",
    "# Exercise 24"
   ]
  },
  {
   "cell_type": "code",
   "execution_count": 7,
   "id": "zElKPzV1rtEv",
   "metadata": {
    "colab": {
     "base_uri": "https://localhost:8080/",
     "height": 211
    },
    "id": "zElKPzV1rtEv",
    "outputId": "b1737e75-7b7e-4a0a-86fb-946362d06acb"
   },
   "outputs": [
    {
     "name": "stdout",
     "output_type": "stream",
     "text": [
      "Replacement completed successfully!\n"
     ]
    }
   ],
   "source": [
    "with open('log.txt', 'w') as file:\n",
    "    file.writelines('This is an error')\n",
    "file.close()\n",
    "# Open the file in reading mode\n",
    "with open('log.txt', 'r', encoding='utf-8') as file:\n",
    "    content = file.read()\n",
    "\n",
    "# After reading, the variable content help us to replace the word \"error\" with \"issue\"\n",
    "content = content.replace('error', 'issue')\n",
    "\n",
    "# and then we write the modify content back to the file\n",
    "with open('log.txt', 'w', encoding='utf-8') as file:\n",
    "    file.write(content)\n",
    "\n",
    "print(\"Replacement completed successfully!\")"
   ]
  },
  {
   "cell_type": "markdown",
   "id": "ataNhU3d4T9-",
   "metadata": {
    "id": "ataNhU3d4T9-"
   },
   "source": [
    "### Exercise 25:\n",
    "Count the number of words in a text file `\"document.txt\"`.\n",
    "\n",
    "```python\n",
    "# Exercise 25"
   ]
  },
  {
   "cell_type": "code",
   "execution_count": 5,
   "id": "dxMMSsbt77S5",
   "metadata": {
    "colab": {
     "base_uri": "https://localhost:8080/"
    },
    "id": "dxMMSsbt77S5",
    "outputId": "069d9a81-56c2-46c7-e371-7cc333da1cf2"
   },
   "outputs": [
    {
     "name": "stdout",
     "output_type": "stream",
     "text": [
      "the number of the text file is  12\n"
     ]
    }
   ],
   "source": [
    "tex = \"document.txt\"\n",
    "print(\"the number of the text file is \", len(tex))"
   ]
  },
  {
   "cell_type": "markdown",
   "id": "4mlMuutc4XgR",
   "metadata": {
    "id": "4mlMuutc4XgR"
   },
   "source": [
    "### Exercise 26:\n",
    "Write a Python script that reads a file `\"essay.txt\"` and prints the total number of lines, words, and characters.\n",
    "\n",
    "```python\n",
    "# Exercise 26"
   ]
  },
  {
   "cell_type": "code",
   "execution_count": 8,
   "id": "vmDYEoy4uLsb",
   "metadata": {
    "id": "vmDYEoy4uLsb"
   },
   "outputs": [
    {
     "name": "stdout",
     "output_type": "stream",
     "text": [
      "The number of line : 1\n",
      "The number of word : 5\n",
      "The number of caractor : 22\n"
     ]
    }
   ],
   "source": [
    "# We create the file\n",
    "with open('essay.txt', 'w') as file:\n",
    "    file.writelines('This banana is so good')\n",
    "file.close()\n",
    "# We open the file for reading\n",
    "with open(\"essay.txt\", \"r\") as file:\n",
    "    lines = file.readlines()\n",
    "\n",
    "fichier = open(\"essay.txt\", \"r\", encoding=\"utf-8\")\n",
    "\n",
    "text = fichier.read()\n",
    "\n",
    "# Comptages\n",
    "lines = text.count(\"\\n\") + 1\n",
    "words = len(text.split())\n",
    "caractors = len(text)\n",
    "\n",
    "fichier.close()\n",
    "\n",
    "print(\"The number of line :\", lines)\n",
    "print(\"The number of word :\", words)\n",
    "print(\"The number of caractor :\", caractors)\n"
   ]
  },
  {
   "cell_type": "markdown",
   "id": "VDKY6u6I4ctz",
   "metadata": {
    "id": "VDKY6u6I4ctz"
   },
   "source": [
    "### Exercise 27:\n",
    "Copy the contents of one file `\"source.txt\"` to another file `\"destination.txt\"`.\n",
    "\n",
    "```python\n",
    "# Exercise 27"
   ]
  },
  {
   "cell_type": "code",
   "execution_count": 8,
   "id": "06aa2a4c-6923-456f-8f35-b495e1f7d119",
   "metadata": {},
   "outputs": [
    {
     "name": "stdout",
     "output_type": "stream",
     "text": [
      "done, success copy !\n"
     ]
    }
   ],
   "source": [
    "\n",
    "#Here i reate two files\n",
    "with open('source.txt', 'w') as file:\n",
    "    file.writelines('This banana is so good')\n",
    "file.close()\n",
    "with open('destination.txt', 'w') as file:\n",
    "    file.writelines('This apple is so bad')\n",
    "file.close()\n",
    "# Open the file to the reading\n",
    "source = open(\"source.txt\", \"r\", encoding=\"utf-8\")\n",
    "\n",
    "# Here we read the containt\n",
    "contenu = source.read()\n",
    "\n",
    "# To open the way of the file\n",
    "destination = open(\"destination.txt\", \"w\", encoding=\"utf-8\")\n",
    "\n",
    "# Writing the containt in the file\n",
    "destination.write(contenu)\n",
    "\n",
    "# And at the end we close the code\n",
    "source.close()\n",
    "destination.close()\n",
    "\n",
    "print(\"done, success copy !\")"
   ]
  },
  {
   "cell_type": "markdown",
   "id": "kDIzJOZA4gTT",
   "metadata": {
    "id": "kDIzJOZA4gTT"
   },
   "source": [
    "### Exercise 28:\n",
    "Write a Python function that takes a filename as input and returns the number of lines in the file.\n",
    "\n",
    "```python\n",
    "# Exercise 28"
   ]
  },
  {
   "cell_type": "code",
   "execution_count": 16,
   "id": "qGrAyfaLWoR1",
   "metadata": {
    "id": "qGrAyfaLWoR1"
   },
   "outputs": [
    {
     "name": "stdout",
     "output_type": "stream",
     "text": [
      "The file has 1 lines.\n"
     ]
    }
   ],
   "source": [
    "# We define the function\n",
    "def count_lines(filename):\n",
    "    with open(filename, \"r\") as file:\n",
    "        return len(file.readlines())\n",
    "num_lines = count_lines(\"log.txt\")\n",
    "print(f\"The file has {num_lines} lines.\")"
   ]
  },
  {
   "cell_type": "markdown",
   "id": "3kzsETf94kJb",
   "metadata": {
    "id": "3kzsETf94kJb"
   },
   "source": [
    "### Exercise 29:\n",
    "Extract all the words from a text file `\"article.txt\"` that contain more than 5 characters.\n",
    "\n",
    "```python\n",
    "# Exercise 29"
   ]
  },
  {
   "cell_type": "code",
   "execution_count": 9,
   "id": "c760b8ae-b040-46b3-95d4-6ab9aecc3368",
   "metadata": {},
   "outputs": [
    {
     "name": "stdout",
     "output_type": "stream",
     "text": [
      "word with more than 5 caractor :\n",
      "lucasi\n"
     ]
    }
   ],
   "source": [
    "# reate the text file\n",
    "with open('article.txt', 'w') as file:\n",
    "    file.writelines('banan , okays , lucasi , orke')\n",
    "file.close()\n",
    "\n",
    "# open the file\n",
    "file = open(\"article.txt\", \"r\", encoding=\"utf-8\")\n",
    "\n",
    "text = file.read()\n",
    "\n",
    "# Separate the word\n",
    "word = text.split()\n",
    "\n",
    "print(\"word with more than 5 caractor :\")\n",
    "\n",
    "# try to print the long word\n",
    "for words in word:\n",
    "    if len(words) > 5:\n",
    "        print(words)\n",
    "\n",
    "file.close()"
   ]
  },
  {
   "cell_type": "markdown",
   "id": "s-A0-YtJ4nmP",
   "metadata": {
    "id": "s-A0-YtJ4nmP"
   },
   "source": [
    "### Exercise 30:\n",
    "Convert the contents of a file `\"notes.txt\"` to uppercase and save the result in another file `\"uppercase_notes.txt\"`.\n",
    "\n",
    "```python\n",
    "# Exercise 30"
   ]
  },
  {
   "cell_type": "code",
   "execution_count": 11,
   "id": "32e310fb-34e8-4650-816a-912ac0c20fb0",
   "metadata": {},
   "outputs": [
    {
     "name": "stdout",
     "output_type": "stream",
     "text": [
      "Convert done !\n"
     ]
    }
   ],
   "source": [
    "# open the file only reading\n",
    "source = open(\"notes.txt\", \"r\", encoding=\"utf-8\")\n",
    "\n",
    "# read the containt\n",
    "texte = source.read()\n",
    "\n",
    "# Convert in majuscule\n",
    "texte_maj = texte.upper()\n",
    "\n",
    "# Open the destination of the file \n",
    "destination = open(\"uppercase_notes.txt\", \"w\", encoding=\"utf-8\")\n",
    "\n",
    "# Here we write the convert text\n",
    "destination.write(texte_maj)\n",
    "\n",
    "# we can close files\n",
    "source.close()\n",
    "destination.close()\n",
    "\n",
    "print(\"Convert done !\")"
   ]
  },
  {
   "cell_type": "markdown",
   "id": "4acb06d2-0925-4d40-8c9d-811852baa49b",
   "metadata": {},
   "source": [
    "### Exercise 31:\n",
    "Write a Python script that reads a file and removes all empty lines.\n",
    "\n",
    "```python\n",
    "# Exercise 31"
   ]
  },
  {
   "cell_type": "code",
   "execution_count": 12,
   "id": "acdd2e5c-fb9a-4a71-9c02-39fe3f6b110e",
   "metadata": {},
   "outputs": [
    {
     "name": "stdout",
     "output_type": "stream",
     "text": [
      "All empty lines have been removed.\n"
     ]
    }
   ],
   "source": [
    "# reate the text file\n",
    "with open('file.txt', 'w') as file:\n",
    "    file.writelines('banan  okays  lucasi  orke')\n",
    "file.close()\n",
    "\n",
    "# Open the original file in reading mode\n",
    "file = open(\"file.txt\", \"r\", encoding=\"utf-8\")\n",
    "\n",
    "# here we read all lines\n",
    "lines = file.readlines()\n",
    "file.close()\n",
    "\n",
    "# Open the file in write mode to save non-empty lines\n",
    "file = open(\"file.txt\", \"w\", encoding=\"utf-8\")\n",
    "\n",
    "for line in lines:\n",
    "# here we check if the line is not empty\n",
    "    if line.strip() != \"\":\n",
    "        file.write(line)\n",
    "\n",
    "file.close()\n",
    "\n",
    "print(\"All empty lines have been removed.\")"
   ]
  },
  {
   "cell_type": "markdown",
   "id": "81a0fe0f-d788-4816-8953-e2280b7261bd",
   "metadata": {},
   "source": [
    "### Exercise 32:\n",
    "Open a file `\"config.txt\"` in both read and write mode.\n",
    "\n",
    "```python\n",
    "# Exercise 32"
   ]
  },
  {
   "cell_type": "code",
   "execution_count": 13,
   "id": "cb00649a-c588-4e78-bb82-5616a99a3f51",
   "metadata": {},
   "outputs": [
    {
     "name": "stdout",
     "output_type": "stream",
     "text": [
      "File content:\n",
      "banan\n"
     ]
    }
   ],
   "source": [
    "#We creae the file\n",
    "with open('config.txt', 'w') as file:\n",
    "    file.writelines('banan')\n",
    "file.close()\n",
    "\n",
    "file = open(\"config.txt\", \"r+\", encoding=\"utf-8\")\n",
    "\n",
    "# Now we can read and write \n",
    "#Example for reading\n",
    "content = file.read()\n",
    "print(\"File content:\")\n",
    "print(content)\n",
    "\n",
    "# Example of writing something\n",
    "file.write(\"\\nNew configuration added!\")\n",
    "\n",
    "file.close()"
   ]
  },
  {
   "cell_type": "markdown",
   "id": "7fc4bad0-90a5-439e-ac63-a6f8fbda03dc",
   "metadata": {},
   "source": [
    "### Exercise 33:\n",
    "Write a Python function that reads a file and prints the longest line in the file.\n",
    "\n",
    "```python\n",
    "# Exercise 33"
   ]
  },
  {
   "cell_type": "code",
   "execution_count": 14,
   "id": "b11ee612-6cbf-4644-806c-3b09cb153170",
   "metadata": {},
   "outputs": [
    {
     "name": "stdout",
     "output_type": "stream",
     "text": [
      "The longest line is:\n",
      "This banana is so good\n"
     ]
    }
   ],
   "source": [
    "def longest_line(filename):\n",
    "    file = open(filename, \"r\", encoding=\"utf-8\")\n",
    "\n",
    "    longest = \"\"\n",
    "\n",
    "    for line in file:\n",
    "        if len(line) > len(longest):\n",
    "            longest = line\n",
    "\n",
    "    file.close()\n",
    "\n",
    "    print(\"The longest line is:\")\n",
    "    print(longest)\n",
    "\n",
    "\n",
    "# Example use\n",
    "longest_line(\"essay.txt\")"
   ]
  },
  {
   "cell_type": "markdown",
   "id": "b40bf68e-d90e-4b02-b45c-85c3d0cc0081",
   "metadata": {},
   "source": [
    "### Exercise 34:\n",
    "Write a Python script to count the frequency of each letter in a text file `\"message.txt\"`.\n",
    "\n",
    "```python\n",
    "# Exercise 34"
   ]
  },
  {
   "cell_type": "code",
   "execution_count": 15,
   "id": "3093e2a7-7de9-4afc-ae58-19a946b0b05c",
   "metadata": {},
   "outputs": [
    {
     "name": "stdout",
     "output_type": "stream",
     "text": [
      "i : 4\n",
      "a : 5\n",
      "m : 2\n",
      "t : 3\n",
      "u : 1\n",
      "n : 2\n",
      "v : 1\n",
      "e : 3\n",
      "r : 1\n",
      "s : 3\n",
      "y : 1\n",
      "g : 1\n",
      "l : 1\n"
     ]
    }
   ],
   "source": [
    "#Create a life\n",
    "with open('message.txt', 'w') as file:\n",
    "    file.writelines('i am at university at AIMS-Senegal')\n",
    "file.close()\n",
    "\n",
    "file = open(\"message.txt\", \"r\")\n",
    "\n",
    "text = file.read()\n",
    "file.close()\n",
    "\n",
    "# the dictionary to count letters\n",
    "frequency = {}\n",
    "for charactor in text:\n",
    "    if charactor.isalpha():          # Check if it's a letter\n",
    "        charactor = charactor.lower()     # Convert to lowercase\n",
    "        if charactor in frequency:\n",
    "            frequency[charactor] += 1\n",
    "        else:\n",
    "            frequency[charactor] = 1\n",
    "\n",
    "# Display results\n",
    "for letter in frequency:\n",
    "    print(letter, \":\", frequency[letter])"
   ]
  },
  {
   "cell_type": "markdown",
   "id": "3cfc7ce1-4c2d-4150-9f78-a0be4bc19f56",
   "metadata": {},
   "source": [
    "### Exercise 35:\n",
    "Write a Python script that reads a file and prints the total number of characters, excluding spaces.\n",
    "\n",
    "```python\n",
    "# Exercise 35"
   ]
  },
  {
   "cell_type": "code",
   "execution_count": 47,
   "id": "7c0c8bbc-f831-4434-9fd0-a4398c8b5b9d",
   "metadata": {},
   "outputs": [
    {
     "name": "stdout",
     "output_type": "stream",
     "text": [
      "The total caractors (excluding spaces) :  29\n"
     ]
    }
   ],
   "source": [
    "#Create a life\n",
    "with open('ok.txt', 'w') as file:\n",
    "    file.writelines('i am at university at AIMS-Senegal')\n",
    "file.close()\n",
    "\n",
    "file = open(\"ok.txt\", \"r\")\n",
    "\n",
    "text = file.read()\n",
    "file.close()\n",
    "#reinitialize count\n",
    "count = 0\n",
    "#Condition\n",
    "for charactor in text:\n",
    "    if charactor != ' ':          # To ignore the space\n",
    "       count += 1\n",
    "# Display results\n",
    "print(\"The total caractors (excluding spaces) : \", count)"
   ]
  },
  {
   "cell_type": "markdown",
   "id": "51891b7e-c579-4c35-bdc9-62cd9f6e0992",
   "metadata": {},
   "source": [
    "### Exercise 36:\n",
    "Create a Python script to check whether a file is empty or not.\n",
    "\n",
    "```python\n",
    "# Exercise 36"
   ]
  },
  {
   "cell_type": "code",
   "execution_count": 16,
   "id": "04353923-915e-4640-b8be-dd9e8ffa1c71",
   "metadata": {},
   "outputs": [
    {
     "name": "stdout",
     "output_type": "stream",
     "text": [
      "The file is not empty.\n"
     ]
    }
   ],
   "source": [
    "#We create file\n",
    "with open('word.txt', 'w') as file:\n",
    "    file.writelines('Hello world')\n",
    "file.close()\n",
    "# We open the file\n",
    "file = open(\"word.txt\", \"r\")\n",
    "\n",
    "#We read the file\n",
    "content = file.read()\n",
    "file.close()\n",
    "\n",
    "#We put a condition\n",
    "if content == \" \":\n",
    "    print(\"The file is empty.\")\n",
    "else:\n",
    "    print(\"The file is not empty.\")"
   ]
  },
  {
   "cell_type": "markdown",
   "id": "9365a20a-8fd8-443d-8c24-d3c1e3b667f9",
   "metadata": {},
   "source": [
    "### Exercise 37:\n",
    "Write a Python function that reads a file and removes all punctuation marks from the text.\n",
    "\n",
    "```python\n",
    "# Exercise 37"
   ]
  },
  {
   "cell_type": "code",
   "execution_count": 17,
   "id": "fd744239-8db1-4079-ab5e-53024343e8d7",
   "metadata": {},
   "outputs": [
    {
     "name": "stdout",
     "output_type": "stream",
     "text": [
      " Hello world\n"
     ]
    }
   ],
   "source": [
    "#We create file\n",
    "with open('wor.txt', 'w') as file:\n",
    "    file.writelines('//Hel;lo! worl/d§§§§')\n",
    "file.close()\n",
    "\n",
    "# We define the function\n",
    "def remov_punctuation(name):\n",
    "    file = open(name, \"r\")\n",
    "    text = file.read()\n",
    "    file.close()\n",
    "\n",
    "    # To affect the variable punctuation the list of some common punctuation\n",
    "    punctuation = \",.!?;:'\\\"()[]{}-_/\\\\§\"\n",
    "\n",
    "    new_text = \" \"\n",
    "\n",
    "    for charactor in text:\n",
    "        if charactor not in punctuation:\n",
    "            new_text = new_text + charactor\n",
    "\n",
    "    print(new_text)\n",
    "\n",
    "# For example :\n",
    "remov_punctuation(\"wor.txt\")"
   ]
  },
  {
   "cell_type": "markdown",
   "id": "8280a474-753b-4b92-930f-3c75328bc1f4",
   "metadata": {},
   "source": [
    "### Exercise 38:\n",
    "Create a Python function that writes a list of strings to a file, each string on a new line.\n",
    "\n",
    "```python\n",
    "# Exercise 38"
   ]
  },
  {
   "cell_type": "code",
   "execution_count": 18,
   "id": "e05517e3-4a04-46b9-a676-0374ca606dcf",
   "metadata": {},
   "outputs": [
    {
     "name": "stdout",
     "output_type": "stream",
     "text": [
      "Writing completed!\n"
     ]
    }
   ],
   "source": [
    "#We define the function with two parameters\n",
    "def write_lines(name1, name2):\n",
    "    file = open(name1, \"w\")\n",
    "\n",
    "    for line in name2:\n",
    "        file.write(line + \"\\n\")\n",
    "\n",
    "    file.close()\n",
    "    print(\"Writing completed!\")\n",
    "    \n",
    "#the end of the code\n",
    "my_list = [\"Hello\", \"Python is fun\", \"File writing is easy\"]\n",
    "write_lines(\"output.txt\", my_list)"
   ]
  },
  {
   "cell_type": "markdown",
   "id": "11235123-6bfb-439a-b700-b096c9d4db00",
   "metadata": {},
   "source": [
    "### Exercise 39:\n",
    "Write a Python script to count the number of lines that start with a specific letter (e.g., \"A\") in a text file.\n",
    "\n",
    "```python\n",
    "# Exercise 39"
   ]
  },
  {
   "cell_type": "code",
   "execution_count": 22,
   "id": "f61893ca-3af0-4c35-a9ee-5ef0e8a8bc32",
   "metadata": {},
   "outputs": [
    {
     "name": "stdout",
     "output_type": "stream",
     "text": [
      "Number of lines starting with 'A': 0\n"
     ]
    }
   ],
   "source": [
    "# Letter to check\n",
    "letter = \"A\"\n",
    "\n",
    "# Counter for lines starting with the letter\n",
    "count = 0\n",
    "\n",
    "# Create and open the file and read it line by line\n",
    "with open(\"notes.txt\", \"r\") as file:\n",
    "    for line in file:\n",
    "        \n",
    "        if line.lstrip().startswith(letter):\n",
    "            count = count + 1\n",
    "\n",
    "print(f\"Number of lines starting with '{letter}': {count}\")"
   ]
  },
  {
   "cell_type": "markdown",
   "id": "60cc5412-7c1a-4b67-b5f1-e8b49a2dcb4e",
   "metadata": {},
   "source": [
    "### Exercise 40:\n",
    "Write a Python function that takes a string as input and writes it to a file `\"output.txt\"` in reverse order.\n",
    "\n",
    "```python\n",
    "# Exercise 40"
   ]
  },
  {
   "cell_type": "code",
   "execution_count": 23,
   "id": "e9ec9bab-c575-45ff-8e44-37754381f9bd",
   "metadata": {},
   "outputs": [
    {
     "name": "stdout",
     "output_type": "stream",
     "text": [
      " The reverse text to output.txt is :  nohtyP olleH\n"
     ]
    }
   ],
   "source": [
    "def write_reverse(text):\n",
    "   \n",
    "# Reverse the string\n",
    "    reversed_text = text[::-1]\n",
    "\n",
    "# we open the file in writing mode\n",
    "    file = open(\"output.txt\", \"w\")\n",
    "    file.write(reversed_text)\n",
    "    file.close()\n",
    "\n",
    "    print(\" The reverse text to output.txt is : \",  reversed_text )\n",
    "\n",
    "write_reverse(\"Hello Python\")\n"
   ]
  },
  {
   "cell_type": "markdown",
   "id": "e0a6cdbf-b4b2-4404-8403-4e9958ee97bc",
   "metadata": {},
   "source": [
    "### Exercise 41:\n",
    "Write a Python script that reads a file and prints all the lines that contain the word `\"Python\"`.\n",
    "\n",
    "```python\n",
    "# Exercise 41"
   ]
  },
  {
   "cell_type": "code",
   "execution_count": 41,
   "id": "18782a6f-736a-4c72-97c2-01f3db910f94",
   "metadata": {},
   "outputs": [],
   "source": [
    "filename = 'your_file.txt'\n",
    "\n",
    "try:\n",
    "    with open(filename, 'r', encoding='latin-1') as file:\n",
    "        for line in file:\n",
    "            if 'Python' in line:\n",
    "                print(line, end='')\n",
    "except FileNotFoundError:\n",
    "    print(f\"Error: The file '{filename}' was not found.\")"
   ]
  },
  {
   "cell_type": "markdown",
   "id": "1ac47f9b-4a87-4287-8a9a-7bd804f909e3",
   "metadata": {},
   "source": [
    "### Exercise 42:\n",
    "Write a Python script that opens a file and removes all numeric digits from the file's content.\n",
    "\n",
    "```python\n",
    "# Exercise 42"
   ]
  },
  {
   "cell_type": "code",
   "execution_count": 43,
   "id": "d4d04277-4060-4757-bf0e-579678a4113d",
   "metadata": {},
   "outputs": [
    {
     "name": "stdout",
     "output_type": "stream",
     "text": [
      "All digits have been removed from the file.\n"
     ]
    }
   ],
   "source": [
    "filename = \"notes.txt\"\n",
    "\n",
    "# Read the content of the file\n",
    "with open(filename, \"r\", encoding=\"utf-8\") as file:\n",
    "    content = file.read()\n",
    "\n",
    "# Remove all digits\n",
    "cleaned_content = \"\".join(char for char in content if not char.isdigit())\n",
    "\n",
    "# Write the cleaned content back to the same file\n",
    "with open(filename, \"w\", encoding=\"utf-8\") as file:\n",
    "    file.write(cleaned_content)\n",
    "\n",
    "print(\"All digits have been removed from the file.\")"
   ]
  },
  {
   "cell_type": "markdown",
   "id": "d7d8ce3d-769f-43ed-a630-fefe4d12a264",
   "metadata": {},
   "source": [
    "### Exercise 43:\n",
    "Write a Python script to find the most frequent word in a text file `\"book.txt\"`.\n",
    "\n",
    "```python\n",
    "# Exercise 43"
   ]
  },
  {
   "cell_type": "code",
   "execution_count": 46,
   "id": "6068efa8-9aa7-4498-90f3-892748bd9b12",
   "metadata": {},
   "outputs": [
    {
     "name": "stdout",
     "output_type": "stream",
     "text": [
      "Error: The file 'book.txt' was not found.\n"
     ]
    }
   ],
   "source": [
    "from collections import Counter\n",
    "import re\n",
    "\n",
    "filename = \"book.txt\"\n",
    "\n",
    "try:\n",
    "    with open(filename, 'r', encoding='utf-8') as file:\n",
    "        text = file.read().lower()  # Convert to lowercase for uniformity\n",
    "    \n",
    "    # Extract words using regular expressions\n",
    "    words = re.findall(r'\\b\\w+\\b', text)\n",
    "    \n",
    "    if not words:\n",
    "        print(\"No words found in the file.\")\n",
    "    else:\n",
    "        # Count the frequency of each word\n",
    "        word_counts = Counter(words)\n",
    "        \n",
    "        # Find the most common word\n",
    "        most_common_word, frequency = word_counts.most_common(1)[0]\n",
    "        print(f\"The most frequent word is '{most_common_word}' with {frequency} occurrences.\")\n",
    "\n",
    "except FileNotFoundError:\n",
    "    print(f\"Error: The file '{filename}' was not found.\")"
   ]
  },
  {
   "cell_type": "markdown",
   "id": "230f4c2e-a83a-4fa2-b681-715212e4c9cf",
   "metadata": {},
   "source": [
    "### Exercise 44:\n",
    "Write a Python script that reads a file and prints all the lines that contain exactly 5 words.\n",
    "\n",
    "```python\n",
    "# Exercise 44"
   ]
  },
  {
   "cell_type": "markdown",
   "id": "0d3ff883-1331-4657-a2b0-f1acb492afb4",
   "metadata": {},
   "source": [
    "### Exercise 45:\n",
    "Write a Python script to read a file and print the first and last line of the file.\n",
    "\n",
    "```python\n",
    "# Exercise 45"
   ]
  },
  {
   "cell_type": "code",
   "execution_count": 60,
   "id": "973b108d-aa88-4182-a8f8-68fa5a02f828",
   "metadata": {},
   "outputs": [
    {
     "name": "stdout",
     "output_type": "stream",
     "text": [
      "First line: This is a new line\n",
      "Last line: This is a new line\n"
     ]
    }
   ],
   "source": [
    "filename = \"notes.txt\"\n",
    "\n",
    "with open(filename, \"r\", encoding=\"utf-8\") as file:      # open and read all lines from the file\n",
    "    lines = file.readlines()\n",
    "\n",
    "# Check if file is not empty\n",
    "if len(lines) > 0:\n",
    "    print(\"First line:\", lines[0], end=\"\")\n",
    "    print(\"Last line:\", lines[-1], end=\"\")\n",
    "else:\n",
    "    print(\"The file is empty.\")"
   ]
  },
  {
   "cell_type": "markdown",
   "id": "4536441e-a1d5-4f9a-b389-895d1375ab89",
   "metadata": {},
   "source": [
    "### Exercise 46:\n",
    "Write a Python script that checks if a file `\"students.txt\"` is writable.\n",
    "\n",
    "```python\n",
    "# Exercise 46"
   ]
  },
  {
   "cell_type": "code",
   "execution_count": 49,
   "id": "545fdc54-e4a0-4423-a588-ffada57d1e04",
   "metadata": {},
   "outputs": [
    {
     "name": "stdout",
     "output_type": "stream",
     "text": [
      "The file 'students.txt' is not writable or does not exist.\n",
      "The file 'students.txt' is writable.\n"
     ]
    }
   ],
   "source": [
    "import os\n",
    "\n",
    "filename = \"students.txt\"\n",
    "\n",
    "# Method 1: Using os.access()\n",
    "if os.path.exists(filename) and os.access(filename, os.W_OK):\n",
    "    print(f\"The file '{filename}' is writable.\")\n",
    "else:\n",
    "    print(f\"The file '{filename}' is not writable or does not exist.\")\n",
    "\n",
    "# Method 2: Attempting to open the file in append mode\n",
    "try:\n",
    "    with open(filename, 'a', encoding='utf-8'):\n",
    "        print(f\"The file '{filename}' is writable.\")\n",
    "except IOError:\n",
    "    print(f\"The file '{filename}' is not writable.\")"
   ]
  },
  {
   "cell_type": "markdown",
   "id": "1f3db605-a007-480a-9d92-eec26c98e661",
   "metadata": {},
   "source": [
    "### Exercise 47:\n",
    "Create a Python function that opens a file and returns the number of unique words in the file.\n",
    "\n",
    "```python\n",
    "# Exercise 47"
   ]
  },
  {
   "cell_type": "code",
   "execution_count": 59,
   "id": "5b024448-8c8c-438b-a2bc-b8910a9cdef8",
   "metadata": {},
   "outputs": [
    {
     "ename": "IndentationError",
     "evalue": "unindent does not match any outer indentation level (<string>, line 8)",
     "output_type": "error",
     "traceback": [
      "  \u001b[36mFile \u001b[39m\u001b[32m<string>:8\u001b[39m\n\u001b[31m    \u001b[39m\u001b[31mwords = text.split()    # Split text into words separated by spaces\u001b[39m\n                                                                       ^\n\u001b[31mIndentationError\u001b[39m\u001b[31m:\u001b[39m unindent does not match any outer indentation level\n"
     ]
    }
   ],
   "source": [
    "def count_unique_words(filename):\n",
    "    # Open and read the file\n",
    "    with open(filename, \"r\", encoding=\"utf-8\") as file:\n",
    "        text = file.read()\n",
    "\n",
    "    text = text.lower()   # Put all text in lowercase to avoid duplicates like \"Python\" vs \"python\"\n",
    "\n",
    "   words = text.split()    # Split text into words separated by spaces\n",
    "\n",
    "    unique_words = set(words)    # Convert list to a set\n",
    "\n",
    "    return len(unique_words)     # Return how many unique words exist\n",
    "\n",
    "file_name = \"notes.txt\"\n",
    "result = count_unique_words(file_name)\n",
    "print(f\"Number of unique words in '{file_name}': {result}\")"
   ]
  },
  {
   "cell_type": "markdown",
   "id": "3f011c32-8319-4cdc-8485-fdf84b220ef5",
   "metadata": {},
   "source": [
    "### Exercise 48:\n",
    "Write a Python script that reads a file and prints all lines in reverse order.\n",
    "\n",
    "```python\n",
    "# Exercise 48"
   ]
  },
  {
   "cell_type": "code",
   "execution_count": 57,
   "id": "5b57a7fb-068d-4072-8cfb-954e55b59f91",
   "metadata": {},
   "outputs": [
    {
     "name": "stdout",
     "output_type": "stream",
     "text": [
      "This is a new line\n",
      "This is a new line\n",
      "This is a new line\n",
      "This is a new line\n",
      "This is a new line\n"
     ]
    }
   ],
   "source": [
    "filename = \"notes.txt\"\n",
    "\n",
    "# Read all lines from the file\n",
    "with open(filename, \"r\", encoding=\"utf-8\") as file:\n",
    "    lines = file.readlines()\n",
    "\n",
    "# Print lines in reverse order\n",
    "for line in reversed(lines):\n",
    "    print(line, end=\"\")  "
   ]
  },
  {
   "cell_type": "markdown",
   "id": "8bf06a71-28b0-4799-b486-8b8b7c904051",
   "metadata": {},
   "source": [
    "### Exercise 49:\n",
    "Write a Python function that reads a file and returns the most common letter in the text.\n",
    "\n",
    "```python\n",
    "# Exercise 49"
   ]
  },
  {
   "cell_type": "code",
   "execution_count": 55,
   "id": "645dc8cc-86af-4f6d-a5ad-a2d80ad65657",
   "metadata": {},
   "outputs": [
    {
     "name": "stdout",
     "output_type": "stream",
     "text": [
      "The most common letter is 'l' with 1 occurrences.\n"
     ]
    }
   ],
   "source": [
    "def most_common_letter(filename):\n",
    "    try:\n",
    "        file = open(filename, 'r')          # Open the file in read mode\n",
    "        text = file.read().lower()          # Read all text and make it in lowercase\n",
    "        file.close()                        # Close the file\n",
    "\n",
    "        counts = {}  # Dictionary for storing letter counts\n",
    "\n",
    "        for char in text:\n",
    "            if charactor.isalpha():              # Only consider letters\n",
    "                if char in counts:\n",
    "                    counts[charactor] += 1\n",
    "                else:\n",
    "                    counts[charactor] = 1\n",
    "\n",
    "        if not counts:\n",
    "            return None\n",
    "\n",
    "        # Find the letter with the highest count\n",
    "        most_common = max(counts, key=counts.get)\n",
    "        return most_common, counts[most_common]\n",
    "\n",
    "    except FileNotFoundError:\n",
    "        print(\"The file was not found.\")\n",
    "        return None\n",
    "\n",
    "# Example usage\n",
    "result = most_common_letter(\"your_file.txt\")\n",
    "if result:\n",
    "    letter, count = result\n",
    "    print(f\"The most common letter is '{letter}' with {count} occurrences.\")\n",
    "else:\n",
    "    print(\"No letters found.\")"
   ]
  },
  {
   "cell_type": "markdown",
   "id": "22d9d15f-4774-4ab5-94b9-6a96474d0f98",
   "metadata": {},
   "source": [
    "### Exercise 50:\n",
    "Write a Python script that reads a file and replaces every occurrence of `\"Python\"` with `\"Java\"`.\n",
    "\n",
    "```python\n",
    "# Exercise 50"
   ]
  },
  {
   "cell_type": "code",
   "execution_count": 54,
   "id": "dcf6ca38",
   "metadata": {
    "id": "dcf6ca38"
   },
   "outputs": [
    {
     "name": "stdout",
     "output_type": "stream",
     "text": [
      "All occurrences of 'Python' have been replaced with 'Java'.\n"
     ]
    }
   ],
   "source": [
    "# Open the file in read mode\n",
    "file = open(\"file.txt\", \"r\", encoding=\"utf-8\")\n",
    "\n",
    "# Read the content\n",
    "text = file.read()\n",
    "file.close()\n",
    "\n",
    "# Replace \"Python\" with \"Java\"\n",
    "modified_text = text.replace(\"Python\", \"Java\")\n",
    "\n",
    "# Open the file in write mode to save the changes\n",
    "file = open(\"file.txt\", \"w\", encoding=\"utf-8\")\n",
    "file.write(modified_text)\n",
    "file.close()\n",
    "\n",
    "print(\"All occurrences of 'Python' have been replaced with 'Java'.\")"
   ]
  }
 ],
 "metadata": {
  "colab": {
   "provenance": []
  },
  "kernelspec": {
   "display_name": "Python 3 (ipykernel)",
   "language": "python",
   "name": "python3"
  },
  "language_info": {
   "codemirror_mode": {
    "name": "ipython",
    "version": 3
   },
   "file_extension": ".py",
   "mimetype": "text/x-python",
   "name": "python",
   "nbconvert_exporter": "python",
   "pygments_lexer": "ipython3",
   "version": "3.13.5"
  }
 },
 "nbformat": 4,
 "nbformat_minor": 5
}
