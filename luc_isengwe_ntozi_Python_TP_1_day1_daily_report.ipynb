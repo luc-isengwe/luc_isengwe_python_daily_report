{
  "cells": [
    {
      "cell_type": "markdown",
      "id": "426486dd",
      "metadata": {
        "id": "426486dd"
      },
      "source": [
        "\n",
        "\n",
        "# Practical_1: Variables and Assignments"
      ]
    },
    {
      "cell_type": "markdown",
      "source": [
        "----\n",
        "\n",
        "### Exercise 1:\n",
        "Declare a variable `x` and assign it the value `10`.\n",
        "\n",
        "```python\n",
        "# Exercise 1"
      ],
      "metadata": {
        "id": "gWTWU8Ssqw57"
      },
      "id": "gWTWU8Ssqw57"
    },
    {
      "cell_type": "code",
      "source": [
        "x = 10"
      ],
      "metadata": {
        "id": "uCXvDMapriKE"
      },
      "id": "uCXvDMapriKE",
      "execution_count": null,
      "outputs": []
    },
    {
      "cell_type": "markdown",
      "source": [
        "### Exercise 2:\n",
        "Assign the value `True` to a variable called `is_valid`.\n",
        "\n",
        "```python\n",
        "# Exercise 2"
      ],
      "metadata": {
        "id": "PvP9hFijq_s0"
      },
      "id": "PvP9hFijq_s0"
    },
    {
      "cell_type": "code",
      "source": [
        "is_valid = True"
      ],
      "metadata": {
        "id": "Kqn06oS7rmgx"
      },
      "id": "Kqn06oS7rmgx",
      "execution_count": null,
      "outputs": []
    },
    {
      "cell_type": "markdown",
      "source": [
        "### Exercise 3:\n",
        "Create a string variable `name` with the value \"Python Programming\".\n",
        "\n",
        "```python\n",
        "# Exercise 3"
      ],
      "metadata": {
        "id": "-ml0UkjFrEQS"
      },
      "id": "-ml0UkjFrEQS"
    },
    {
      "cell_type": "code",
      "source": [
        "name = \"Python Programming\""
      ],
      "metadata": {
        "id": "cJXaRdgurtNb"
      },
      "id": "cJXaRdgurtNb",
      "execution_count": null,
      "outputs": []
    },
    {
      "cell_type": "markdown",
      "source": [
        "### Exercise 4:\n",
        "Assign the result of `5 + 3` to a variable `sum_result`.\n",
        "\n",
        "```python\n",
        "# Exercise 4"
      ],
      "metadata": {
        "id": "9K_07AIOrHk-"
      },
      "id": "9K_07AIOrHk-"
    },
    {
      "cell_type": "code",
      "source": [
        "sum_result = 5 + 3"
      ],
      "metadata": {
        "id": "xObCOUnBr3SO"
      },
      "id": "xObCOUnBr3SO",
      "execution_count": null,
      "outputs": []
    },
    {
      "cell_type": "markdown",
      "source": [
        "### Exercise 5:\n",
        "Assign multiple variables in one line: `a = 5`, `b = 10`, `c = 15`.\n",
        "\n",
        "```python\n",
        "# Exercise 5"
      ],
      "metadata": {
        "id": "SzVu_q3lrKvt"
      },
      "id": "SzVu_q3lrKvt"
    },
    {
      "cell_type": "code",
      "source": [
        "a, b, c = 5, 10, 15"
      ],
      "metadata": {
        "id": "_c58bsRqsEtB"
      },
      "id": "_c58bsRqsEtB",
      "execution_count": null,
      "outputs": []
    },
    {
      "cell_type": "markdown",
      "source": [
        "### Exercise 6:\n",
        "Assign the value of one variable `x` to another variable `y`.\n",
        "\n",
        "```python\n",
        "# Exercise 6"
      ],
      "metadata": {
        "id": "FMX9kNdbrPAw"
      },
      "id": "FMX9kNdbrPAw"
    },
    {
      "cell_type": "code",
      "source": [
        "x = 2\n",
        "y = x"
      ],
      "metadata": {
        "id": "IArrfqC5sq4s"
      },
      "id": "IArrfqC5sq4s",
      "execution_count": null,
      "outputs": []
    },
    {
      "cell_type": "markdown",
      "source": [
        "### Exercise 7:\n",
        "Assign a floating-point number `9.8` to a variable `gravity`.\n",
        "\n",
        "```python\n",
        "# Exercise 7"
      ],
      "metadata": {
        "id": "cz_P4MBIrTH0"
      },
      "id": "cz_P4MBIrTH0"
    },
    {
      "cell_type": "code",
      "source": [
        "gravity = 9.8"
      ],
      "metadata": {
        "id": "4WGCMEwMtApc"
      },
      "id": "4WGCMEwMtApc",
      "execution_count": null,
      "outputs": []
    },
    {
      "cell_type": "markdown",
      "source": [
        "### Exercise 8:\n",
        "Create a variable `country` and assign it the string value of your favorite country.\n",
        "\n",
        "```python\n",
        "# Exercise 8"
      ],
      "metadata": {
        "id": "CUSORN9VrWt9"
      },
      "id": "CUSORN9VrWt9"
    },
    {
      "cell_type": "code",
      "source": [
        "country = 'DRC'\n"
      ],
      "metadata": {
        "id": "Por9g35QtG4R"
      },
      "id": "Por9g35QtG4R",
      "execution_count": null,
      "outputs": []
    },
    {
      "cell_type": "markdown",
      "source": [
        "### Exercise 9:\n",
        "Change the value of variable `age` from `25` to `26` in two separate steps.\n",
        "\n",
        "```python\n",
        "# Exercise 9"
      ],
      "metadata": {
        "id": "CC6zYWm0rb6f"
      },
      "id": "CC6zYWm0rb6f"
    },
    {
      "cell_type": "code",
      "source": [
        "#step1\n",
        "age = 25\n",
        "age_1 = age + 1\n",
        "print(age_1)\n"
      ],
      "metadata": {
        "id": "-9zUZxg6tVTW",
        "outputId": "c00e7f2b-189e-4957-a524-e65d171b1502",
        "colab": {
          "base_uri": "https://localhost:8080/"
        }
      },
      "id": "-9zUZxg6tVTW",
      "execution_count": null,
      "outputs": [
        {
          "output_type": "stream",
          "name": "stdout",
          "text": [
            "26\n"
          ]
        }
      ]
    },
    {
      "cell_type": "markdown",
      "source": [
        "### Exercise 10:\n",
        "Use one variable to store the result of subtracting two numbers `20 - 7`.\n",
        "\n",
        "```python\n",
        "# Exercise 10"
      ],
      "metadata": {
        "id": "Sz80SGQgwydm"
      },
      "id": "Sz80SGQgwydm"
    },
    {
      "cell_type": "code",
      "source": [
        "x = 20\n",
        "y = 7\n",
        "result = (x-y)\n",
        "print(x)"
      ],
      "metadata": {
        "id": "tjjtEj30w7hV",
        "outputId": "0ef67e93-6a47-4f8f-c148-ab041172d78a",
        "colab": {
          "base_uri": "https://localhost:8080/"
        }
      },
      "id": "tjjtEj30w7hV",
      "execution_count": null,
      "outputs": [
        {
          "output_type": "stream",
          "name": "stdout",
          "text": [
            "20\n"
          ]
        }
      ]
    },
    {
      "cell_type": "markdown",
      "source": [
        "### Exercise 11:\n",
        "Assign an integer value and a floating-point value to two different variables.\n",
        "\n",
        "```python\n",
        "# Exercise 11"
      ],
      "metadata": {
        "id": "DsEWpLG-xmTh"
      },
      "id": "DsEWpLG-xmTh"
    },
    {
      "cell_type": "code",
      "source": [
        "x = 2\n",
        "y = 2.5"
      ],
      "metadata": {
        "id": "I9ZVs4I7yxU2"
      },
      "id": "I9ZVs4I7yxU2",
      "execution_count": null,
      "outputs": []
    },
    {
      "cell_type": "markdown",
      "source": [
        "### Exercise 12:\n",
        "Assign a boolean value `False` to a variable `is_completed`.\n",
        "\n",
        "```python\n",
        "# Exercise 12"
      ],
      "metadata": {
        "id": "93o50Z12xp3Y"
      },
      "id": "93o50Z12xp3Y"
    },
    {
      "cell_type": "code",
      "source": [
        "is_completed = False"
      ],
      "metadata": {
        "id": "4KTaPg57zHdx"
      },
      "id": "4KTaPg57zHdx",
      "execution_count": null,
      "outputs": []
    },
    {
      "cell_type": "markdown",
      "source": [
        "### Exercise 13:\n",
        "Swap the values of two variables `x` and `y`.\n",
        "\n",
        "```python\n",
        "# Exercise 13"
      ],
      "metadata": {
        "id": "kpYRVuBCxt4G"
      },
      "id": "kpYRVuBCxt4G"
    },
    {
      "cell_type": "code",
      "source": [
        "x = 5\n",
        "y = 8\n",
        "x = x+y; y = x-y; x = x-y\n",
        "print(x,y)"
      ],
      "metadata": {
        "id": "ulkVofme0koq",
        "outputId": "9b9fd9a9-bb62-47d1-ff03-ab44f9a20e8d",
        "colab": {
          "base_uri": "https://localhost:8080/"
        }
      },
      "id": "ulkVofme0koq",
      "execution_count": null,
      "outputs": [
        {
          "output_type": "stream",
          "name": "stdout",
          "text": [
            "8 5\n"
          ]
        }
      ]
    },
    {
      "cell_type": "markdown",
      "source": [
        "### Exercise 14:\n",
        "Assign a complex number `3 + 4j` to a variable `complex_num`.\n",
        "\n",
        "```python\n",
        "# Exercise 14"
      ],
      "metadata": {
        "id": "Z9sNMYMMxwrG"
      },
      "id": "Z9sNMYMMxwrG"
    },
    {
      "cell_type": "code",
      "source": [
        "complex_number = 3 + 4j\n",
        "type(complex_number)"
      ],
      "metadata": {
        "id": "X5qfp1wx1lAk",
        "outputId": "7a00980e-a1a5-46de-8edd-e1b3e95b3846",
        "colab": {
          "base_uri": "https://localhost:8080/"
        }
      },
      "id": "X5qfp1wx1lAk",
      "execution_count": null,
      "outputs": [
        {
          "output_type": "execute_result",
          "data": {
            "text/plain": [
              "complex"
            ]
          },
          "metadata": {},
          "execution_count": 31
        }
      ]
    },
    {
      "cell_type": "markdown",
      "source": [
        "### Exercise 15:\n",
        "Reassign a variable from an integer to a string\n",
        "\n",
        "```python\n",
        "# Exercise 15"
      ],
      "metadata": {
        "id": "AsLPaj45yLaS"
      },
      "id": "AsLPaj45yLaS"
    },
    {
      "cell_type": "code",
      "source": [
        "x = 15\n",
        "y = str(x)\n",
        "type(y)"
      ],
      "metadata": {
        "id": "dSVlaZNu2Cor",
        "outputId": "e09f032d-4cf0-42ee-f9cb-6e4f157bf181",
        "colab": {
          "base_uri": "https://localhost:8080/"
        }
      },
      "id": "dSVlaZNu2Cor",
      "execution_count": null,
      "outputs": [
        {
          "output_type": "execute_result",
          "data": {
            "text/plain": [
              "str"
            ]
          },
          "metadata": {},
          "execution_count": 33
        }
      ]
    },
    {
      "cell_type": "markdown",
      "source": [
        "### Exercise 16:\n",
        "Create two variables `first_name` and `last_name`, and assign them your first and last names.\n",
        "\n",
        "```python\n",
        "# Exercise 16"
      ],
      "metadata": {
        "id": "cN9jo7EVyMkA"
      },
      "id": "cN9jo7EVyMkA"
    },
    {
      "cell_type": "code",
      "source": [
        "first_name = 'Luc'\n",
        "last_name = 'Isengwe'"
      ],
      "metadata": {
        "id": "ri8susQl2dB_"
      },
      "id": "ri8susQl2dB_",
      "execution_count": null,
      "outputs": []
    },
    {
      "cell_type": "markdown",
      "source": [
        "### Exercise 17:\n",
        "Create a variable `temperature` and assign it the value of `35.5`.\n",
        "\n",
        "```python\n",
        "# Exercise 17"
      ],
      "metadata": {
        "id": "jzQO9nM-yc1Z"
      },
      "id": "jzQO9nM-yc1Z"
    },
    {
      "cell_type": "code",
      "source": [
        "temperature = 35.5"
      ],
      "metadata": {
        "id": "O7PUNsa33cao"
      },
      "id": "O7PUNsa33cao",
      "execution_count": null,
      "outputs": []
    },
    {
      "cell_type": "markdown",
      "source": [
        "### Exercise 18:\n",
        "Assign the result of the multiplication of two numbers `8 * 6` to a variable `product`.\n",
        "\n",
        "```python\n",
        "# Exercise 18"
      ],
      "metadata": {
        "id": "OBGjudEcygst"
      },
      "id": "OBGjudEcygst"
    },
    {
      "cell_type": "code",
      "source": [
        "x = 8\n",
        "y = 6\n",
        "Product = x*y\n",
        "print(Product)"
      ],
      "metadata": {
        "id": "3oAduszL3jkR",
        "outputId": "fd5db96a-da54-4ffe-cfc1-7233c5c394e9",
        "colab": {
          "base_uri": "https://localhost:8080/"
        }
      },
      "id": "3oAduszL3jkR",
      "execution_count": null,
      "outputs": [
        {
          "output_type": "stream",
          "name": "stdout",
          "text": [
            "48\n"
          ]
        }
      ]
    },
    {
      "cell_type": "markdown",
      "source": [
        "### Exercise 19:\n",
        "Assign a sentence of your choice to a variable `sentence`.\n",
        "\n",
        "```python\n",
        "# Exercise 19"
      ],
      "metadata": {
        "id": "Vmip2lTnykBk"
      },
      "id": "Vmip2lTnykBk"
    },
    {
      "cell_type": "code",
      "source": [
        "sentence = \"Maman va au marché\""
      ],
      "metadata": {
        "id": "vYFotXh23-2K"
      },
      "id": "vYFotXh23-2K",
      "execution_count": null,
      "outputs": []
    },
    {
      "cell_type": "markdown",
      "source": [
        "### Exercise 20:\n",
        "Use an assignment to convert a string `'50'` into an integer variable `int_value`.\n",
        "\n",
        "```python\n",
        "# Exercise 20"
      ],
      "metadata": {
        "id": "BvuP059LynjP"
      },
      "id": "BvuP059LynjP"
    },
    {
      "cell_type": "code",
      "source": [
        "x = 50.0\n",
        "int_value = int(x)\n",
        "type(int_value)"
      ],
      "metadata": {
        "id": "9kS7lIoL4TsZ",
        "outputId": "33db9664-6d0c-42bf-cfa7-50bf985b6602",
        "colab": {
          "base_uri": "https://localhost:8080/"
        }
      },
      "id": "9kS7lIoL4TsZ",
      "execution_count": null,
      "outputs": [
        {
          "output_type": "execute_result",
          "data": {
            "text/plain": [
              "int"
            ]
          },
          "metadata": {},
          "execution_count": 38
        }
      ]
    },
    {
      "cell_type": "markdown",
      "source": [
        "### Exercise 21:\n",
        "Assign the result of dividing `144` by `12` to a variable `quotient`.\n",
        "\n",
        "```python\n",
        "# Exercise 21"
      ],
      "metadata": {
        "id": "VFTxFI8y45Ad"
      },
      "id": "VFTxFI8y45Ad"
    },
    {
      "cell_type": "code",
      "source": [
        "a = 144\n",
        "b = 12\n",
        "quotient = a/b\n",
        "print(quotient)"
      ],
      "metadata": {
        "id": "VM3XABvv5mh7",
        "outputId": "4ae0821c-c9d1-4c5a-ccaa-7b969f387852",
        "colab": {
          "base_uri": "https://localhost:8080/"
        }
      },
      "id": "VM3XABvv5mh7",
      "execution_count": null,
      "outputs": [
        {
          "output_type": "stream",
          "name": "stdout",
          "text": [
            "12.0\n"
          ]
        }
      ]
    },
    {
      "cell_type": "markdown",
      "source": [
        "### Exercise 22:\n",
        "Assign the remainder of `47 divided by 5` to a variable `remainder`.\n",
        "\n",
        "```python\n",
        "# Exercise 22"
      ],
      "metadata": {
        "id": "2O2Prfms4-oW"
      },
      "id": "2O2Prfms4-oW"
    },
    {
      "cell_type": "code",
      "source": [
        "a = 47\n",
        "b = 5\n",
        "remainder = a%b\n",
        "print(\"remainder = \", remainder)"
      ],
      "metadata": {
        "id": "Tr1Nx7zT50vc",
        "outputId": "9adc1dfe-de07-4da8-8671-fcae789a54e2",
        "colab": {
          "base_uri": "https://localhost:8080/"
        }
      },
      "id": "Tr1Nx7zT50vc",
      "execution_count": null,
      "outputs": [
        {
          "output_type": "stream",
          "name": "stdout",
          "text": [
            "remainder =  2\n"
          ]
        }
      ]
    },
    {
      "cell_type": "markdown",
      "source": [
        "### Exercise 23:\n",
        "Create a variable `is_student` and assign it the value `True`.\n",
        "\n",
        "```python\n",
        "# Exercise 23"
      ],
      "metadata": {
        "id": "Y2PCc4An5DO8"
      },
      "id": "Y2PCc4An5DO8"
    },
    {
      "cell_type": "code",
      "source": [
        "is_student = True"
      ],
      "metadata": {
        "id": "xovPP5NY6SwU"
      },
      "id": "xovPP5NY6SwU",
      "execution_count": null,
      "outputs": []
    },
    {
      "cell_type": "markdown",
      "source": [
        "### Exercise 24:\n",
        "Use a variable to store the result of a modulo operation: `45 % 4`.\n",
        "\n",
        "```python\n",
        "# Exercise 24"
      ],
      "metadata": {
        "id": "8yIBkJ2x5HFW"
      },
      "id": "8yIBkJ2x5HFW"
    },
    {
      "cell_type": "code",
      "source": [
        "a = 45\n",
        "b = 4\n",
        "c = a%b\n",
        "print(\"c = \", c)"
      ],
      "metadata": {
        "id": "YE-mzN-H7GX4",
        "outputId": "0f9eaba7-9776-4c9b-c888-bede22faf221",
        "colab": {
          "base_uri": "https://localhost:8080/"
        }
      },
      "id": "YE-mzN-H7GX4",
      "execution_count": null,
      "outputs": [
        {
          "output_type": "stream",
          "name": "stdout",
          "text": [
            "c =  1\n"
          ]
        }
      ]
    },
    {
      "cell_type": "markdown",
      "source": [
        "### Exercise 25:\n",
        "Create a variable `pi` and assign it the value `3.14159`.\n",
        "\n",
        "```python\n",
        "# Exercise 25"
      ],
      "metadata": {
        "id": "L6x1cb-M5KrY"
      },
      "id": "L6x1cb-M5KrY"
    },
    {
      "cell_type": "code",
      "source": [
        "pi = 3.14159"
      ],
      "metadata": {
        "id": "wUuuz6s37pk0"
      },
      "id": "wUuuz6s37pk0",
      "execution_count": null,
      "outputs": []
    },
    {
      "cell_type": "markdown",
      "source": [
        "### Exercise 26:\n",
        "Create two variables `length` and `width`, assign them values, and calculate the area of a rectangle.\n",
        "\n",
        "```python\n",
        "# Exercise 26"
      ],
      "metadata": {
        "id": "DtZ25pD-5QYM"
      },
      "id": "DtZ25pD-5QYM"
    },
    {
      "cell_type": "code",
      "source": [
        "lengh = 15\n",
        "width = 4\n",
        "area_of_rectangle = lengh*width\n",
        "print('The area_of_rectangle equals', area_of_rectangle)"
      ],
      "metadata": {
        "id": "TA2QDFFs7u7-",
        "outputId": "13c0edbb-f3d4-4fb9-a59e-b4a84ec0b70b",
        "colab": {
          "base_uri": "https://localhost:8080/"
        }
      },
      "id": "TA2QDFFs7u7-",
      "execution_count": null,
      "outputs": [
        {
          "output_type": "stream",
          "name": "stdout",
          "text": [
            "The area_of_rectangle equals 60\n"
          ]
        }
      ]
    },
    {
      "cell_type": "markdown",
      "source": [
        "### Exercise 27:\n",
        "Assign a negative number to a variable `negative_value`.\n",
        "\n",
        "```python\n",
        "# Exercise 27"
      ],
      "metadata": {
        "id": "Y36U1y1Q5UbX"
      },
      "id": "Y36U1y1Q5UbX"
    },
    {
      "cell_type": "code",
      "source": [
        "negative_value = -45"
      ],
      "metadata": {
        "id": "dchUzYuH8TIP"
      },
      "id": "dchUzYuH8TIP",
      "execution_count": null,
      "outputs": []
    },
    {
      "cell_type": "markdown",
      "source": [
        "### Exercise 28:\n",
        "Assign a string containing a special character (e.g., \"Hello, World!\") to a variable `greeting`.\n",
        "\n",
        "```python\n",
        "# Exercise 28"
      ],
      "metadata": {
        "id": "BGuYg-Di5Yg_"
      },
      "id": "BGuYg-Di5Yg_"
    },
    {
      "cell_type": "code",
      "source": [
        "greeting = \"Hello, dear\""
      ],
      "metadata": {
        "id": "Wssgt9Lp8ZqT"
      },
      "id": "Wssgt9Lp8ZqT",
      "execution_count": null,
      "outputs": []
    },
    {
      "cell_type": "markdown",
      "source": [
        "### Exercise 29:\n",
        "Create a variable `population` and assign it a large integer value (in billions).\n",
        "\n",
        "```python\n",
        "# Exercise 29"
      ],
      "metadata": {
        "id": "Lz3psAgn5cW0"
      },
      "id": "Lz3psAgn5cW0"
    },
    {
      "cell_type": "code",
      "source": [
        "population = 1030708060000"
      ],
      "metadata": {
        "id": "NxTtBwVD8tS5"
      },
      "id": "NxTtBwVD8tS5",
      "execution_count": null,
      "outputs": []
    },
    {
      "cell_type": "markdown",
      "source": [
        "### Exercise 30:\n",
        "Use a variable to store the result of raising `2` to the power of `8`.\n",
        "\n",
        "```python\n",
        "# Exercise 30"
      ],
      "metadata": {
        "id": "InDwLhaf5ieU"
      },
      "id": "InDwLhaf5ieU"
    },
    {
      "cell_type": "code",
      "source": [
        "x = 2\n",
        "y = 8\n",
        "c = x**y\n",
        "c"
      ],
      "metadata": {
        "id": "9MOmiDvj88aX",
        "outputId": "d0cc6273-7412-4ebc-9540-cdb382bcd29f",
        "colab": {
          "base_uri": "https://localhost:8080/"
        }
      },
      "id": "9MOmiDvj88aX",
      "execution_count": null,
      "outputs": [
        {
          "output_type": "execute_result",
          "data": {
            "text/plain": [
              "256"
            ]
          },
          "metadata": {},
          "execution_count": 54
        }
      ]
    },
    {
      "cell_type": "markdown",
      "source": [
        "### Exercise 31:\n",
        "Assign a list of your favorite fruits to a variable `fruits`.\n",
        "\n",
        "```python\n",
        "# Exercise 31"
      ],
      "metadata": {
        "id": "NHzkRjap9zXy"
      },
      "id": "NHzkRjap9zXy"
    },
    {
      "cell_type": "code",
      "source": [
        "fruits = [\"ananas\", \"citron\", \"orange\"]"
      ],
      "metadata": {
        "id": "g-44CWUn_nVE"
      },
      "id": "g-44CWUn_nVE",
      "execution_count": null,
      "outputs": []
    },
    {
      "cell_type": "markdown",
      "source": [
        "### Exercise 32:\n",
        "Assign a tuple of three numbers to a variable `coordinates`.\n",
        "\n",
        "```python\n",
        "# Exercise 32"
      ],
      "metadata": {
        "id": "YXFrR_Bg-jb7"
      },
      "id": "YXFrR_Bg-jb7"
    },
    {
      "cell_type": "code",
      "source": [
        "coordinates = (10, 15, 16)"
      ],
      "metadata": {
        "id": "DgZrUkhW_-hI"
      },
      "id": "DgZrUkhW_-hI",
      "execution_count": null,
      "outputs": []
    },
    {
      "cell_type": "markdown",
      "source": [
        "### Exercise 33:\n",
        "Assign a dictionary with keys `name` and `age` to a variable `person`.\n",
        "\n",
        "```python\n",
        "# Exercise 33"
      ],
      "metadata": {
        "id": "Tp03lLOt-70A"
      },
      "id": "Tp03lLOt-70A"
    },
    {
      "cell_type": "code",
      "source": [
        "person = {\"name\": \"Luc\", \"age\": 30}\n",
        "print(person)"
      ],
      "metadata": {
        "id": "Dkq1DJB6JzXl",
        "outputId": "d5f35a83-561a-473d-adf5-cbaff8a99801",
        "colab": {
          "base_uri": "https://localhost:8080/"
        }
      },
      "id": "Dkq1DJB6JzXl",
      "execution_count": null,
      "outputs": [
        {
          "output_type": "stream",
          "name": "stdout",
          "text": [
            "{'name': 'Luc', 'age': 30}\n"
          ]
        }
      ]
    },
    {
      "cell_type": "markdown",
      "source": [
        "### Exercise 34:\n",
        "Use variables to store the sum of two floating-point numbers.\n",
        "\n",
        "```python\n",
        "# Exercise 34"
      ],
      "metadata": {
        "id": "uPe9LSrL-_z2"
      },
      "id": "uPe9LSrL-_z2"
    },
    {
      "cell_type": "code",
      "source": [
        "number_1 = 16.7\n",
        "number_2 = 15.6\n",
        "zi = number_1+number_2\n",
        "print(\"zi =\", zi)"
      ],
      "metadata": {
        "id": "geI9JvOjKtX1",
        "outputId": "72eee0b5-61a5-4f46-e56c-a82d1d15bbb0",
        "colab": {
          "base_uri": "https://localhost:8080/"
        }
      },
      "id": "geI9JvOjKtX1",
      "execution_count": null,
      "outputs": [
        {
          "output_type": "stream",
          "name": "stdout",
          "text": [
            "zi = 32.3\n"
          ]
        }
      ]
    },
    {
      "cell_type": "markdown",
      "source": [
        "### Exercise 35:\n",
        "Create a variable `is_sunny` and assign it the result of a comparison `10 > 5`.\n",
        "\n",
        "```python\n",
        "# Exercise 35"
      ],
      "metadata": {
        "id": "g5JRWc6V_JRo"
      },
      "id": "g5JRWc6V_JRo"
    },
    {
      "cell_type": "code",
      "source": [
        "is_sunny = 10 > 5"
      ],
      "metadata": {
        "id": "pYMzkG2jLTOw"
      },
      "id": "pYMzkG2jLTOw",
      "execution_count": null,
      "outputs": []
    },
    {
      "cell_type": "markdown",
      "source": [
        "### Exercise 36:\n",
        "Assign a string and an integer to two different variables, then print both on one line.\n",
        "\n",
        "```python\n",
        "# Exercise 36"
      ],
      "metadata": {
        "id": "EVOEw_Da_QPM"
      },
      "id": "EVOEw_Da_QPM"
    },
    {
      "cell_type": "code",
      "source": [
        "var_1 = \"Luc\"\n",
        "var_2 = 25\n",
        "print(var_1, var_2)"
      ],
      "metadata": {
        "id": "yEtXikgzMSIV",
        "outputId": "ceb3f49a-0197-48cb-e62c-c7ba3dcebb29",
        "colab": {
          "base_uri": "https://localhost:8080/"
        }
      },
      "id": "yEtXikgzMSIV",
      "execution_count": null,
      "outputs": [
        {
          "output_type": "stream",
          "name": "stdout",
          "text": [
            "Luc 25\n"
          ]
        }
      ]
    },
    {
      "cell_type": "markdown",
      "source": [
        "### Exercise 37:\n",
        "Reassign a variable that originally held a number to a boolean value.\n",
        "\n",
        "```python\n",
        "# Exercise 37"
      ],
      "metadata": {
        "id": "3WTjOzyO_UT5"
      },
      "id": "3WTjOzyO_UT5"
    },
    {
      "cell_type": "code",
      "source": [
        "my_number = 38\n",
        "print(type(my_number))\n",
        "my_number = True\n",
        "\n",
        "print(\"=======================\", '\\n')\n",
        "print(type(my_number))"
      ],
      "metadata": {
        "id": "eaApzADjNcnm",
        "outputId": "c726a0b9-f58b-4020-d117-f03366e5bcac",
        "colab": {
          "base_uri": "https://localhost:8080/"
        }
      },
      "id": "eaApzADjNcnm",
      "execution_count": null,
      "outputs": [
        {
          "output_type": "stream",
          "name": "stdout",
          "text": [
            "<class 'int'>\n",
            "======================= \n",
            "\n",
            "<class 'bool'>\n"
          ]
        }
      ]
    },
    {
      "cell_type": "markdown",
      "source": [
        "### Exercise 38:\n",
        "Create a variable `is_weekend` and assign it the result of `False`.\n",
        "\n",
        "```python\n",
        "# Exercise 38"
      ],
      "metadata": {
        "id": "igcVri8G_ZNW"
      },
      "id": "igcVri8G_ZNW"
    },
    {
      "cell_type": "code",
      "source": [
        "is_weekend = False"
      ],
      "metadata": {
        "id": "YhRlRCtpOYPw"
      },
      "id": "YhRlRCtpOYPw",
      "execution_count": null,
      "outputs": []
    },
    {
      "cell_type": "markdown",
      "source": [
        "### Exercise 39:\n",
        "Assign a multi-line string to a variable `description`.\n",
        "\n",
        "```python\n",
        "# Exercise 39"
      ],
      "metadata": {
        "id": "2NyQtHnT_db5"
      },
      "id": "2NyQtHnT_db5"
    },
    {
      "cell_type": "code",
      "source": [
        "description = ''' Bonsoir à vous\n",
        "j'espère que vous\n",
        "êtes bien portant'''\n",
        "print(description)"
      ],
      "metadata": {
        "id": "l0UUfdjCOgds",
        "outputId": "31b3b19a-6e19-499d-fdc3-93b7f91df9f2",
        "colab": {
          "base_uri": "https://localhost:8080/"
        }
      },
      "id": "l0UUfdjCOgds",
      "execution_count": null,
      "outputs": [
        {
          "output_type": "stream",
          "name": "stdout",
          "text": [
            " Bonsoir à vous\n",
            "j'espère que vous \n",
            "êtes bien portant\n"
          ]
        }
      ]
    },
    {
      "cell_type": "markdown",
      "source": [
        "### Exercise 40:\n",
        "Use variables to store the result of the absolute value of `-25`.\n",
        "\n",
        "```python\n",
        "# Exercise 40"
      ],
      "metadata": {
        "id": "yTwrMe9b_juX"
      },
      "id": "yTwrMe9b_juX"
    },
    {
      "cell_type": "code",
      "source": [
        "V_1 = -25\n",
        "print(abs(V_1))"
      ],
      "metadata": {
        "id": "VRYGxAuE-nJ0",
        "outputId": "8193dbc4-ce8e-46ce-9c17-be846f45d7de",
        "colab": {
          "base_uri": "https://localhost:8080/"
        }
      },
      "id": "VRYGxAuE-nJ0",
      "execution_count": null,
      "outputs": [
        {
          "output_type": "stream",
          "name": "stdout",
          "text": [
            "25\n"
          ]
        }
      ]
    },
    {
      "cell_type": "markdown",
      "source": [
        "### Exercise 41:\n",
        "Assign the result of a floor division `100 // 6` to a variable `floor_div_result`.\n",
        "\n",
        "```python\n",
        "# Exercise 41"
      ],
      "metadata": {
        "id": "3sEwoL9sRawn"
      },
      "id": "3sEwoL9sRawn"
    },
    {
      "cell_type": "code",
      "source": [
        "h = 100\n",
        "i = 6\n",
        "floor_div_result = h//i\n",
        "print(floor_div_result)"
      ],
      "metadata": {
        "id": "ASdah91rSOnq",
        "colab": {
          "base_uri": "https://localhost:8080/"
        },
        "outputId": "15afb887-e90b-4cbf-808e-07c9a6361164"
      },
      "id": "ASdah91rSOnq",
      "execution_count": null,
      "outputs": [
        {
          "output_type": "stream",
          "name": "stdout",
          "text": [
            "16\n"
          ]
        }
      ]
    },
    {
      "cell_type": "markdown",
      "source": [
        "### Exercise 42:\n",
        "Assign the result of adding a floating-point number to an integer to a variable `mixed_sum`.\n",
        "\n",
        "```python\n",
        "# Exercise 42"
      ],
      "metadata": {
        "id": "i9nnL5_wRfmW"
      },
      "id": "i9nnL5_wRfmW"
    },
    {
      "cell_type": "code",
      "source": [
        "i_n = 27\n",
        "f_n = 10.7\n",
        "mixed_sum = i_n + f_n\n",
        "print(\"mixed_sum = \", mixed_sum)"
      ],
      "metadata": {
        "id": "IrTsyx-8SPsp",
        "colab": {
          "base_uri": "https://localhost:8080/"
        },
        "outputId": "6f2f5f60-293b-4e64-bf47-949d74f88e76"
      },
      "id": "IrTsyx-8SPsp",
      "execution_count": null,
      "outputs": [
        {
          "output_type": "stream",
          "name": "stdout",
          "text": [
            "mixed_sum =  37.7\n"
          ]
        }
      ]
    },
    {
      "cell_type": "markdown",
      "source": [
        "### Exercise 43:\n",
        "Assign a boolean value based on the comparison of two variables `a = 10` and `b = 15`.\n",
        "\n",
        "```python\n",
        "# Exercise 43"
      ],
      "metadata": {
        "id": "eovKDZ0BRk69"
      },
      "id": "eovKDZ0BRk69"
    },
    {
      "cell_type": "code",
      "source": [
        "a = 10\n",
        "b = 15\n",
        "comparison = (a!=b)\n",
        "print('the comparison is ',comparison)"
      ],
      "metadata": {
        "id": "HjnEL2eySQhf",
        "colab": {
          "base_uri": "https://localhost:8080/"
        },
        "outputId": "e270d6a1-2bd7-4ff9-d0ff-28bf31681e61"
      },
      "id": "HjnEL2eySQhf",
      "execution_count": null,
      "outputs": [
        {
          "output_type": "stream",
          "name": "stdout",
          "text": [
            "the comparison is  True\n"
          ]
        }
      ]
    },
    {
      "cell_type": "markdown",
      "source": [
        "### Exercise 44:\n",
        "Assign a long sentence to a variable and count its characters using `len()`.\n",
        "\n",
        "```python\n",
        "# Exercise 44"
      ],
      "metadata": {
        "id": "kb9Om2t2Ryxd"
      },
      "id": "kb9Om2t2Ryxd"
    },
    {
      "cell_type": "code",
      "source": [
        "chaine_de_caract = 'He is very funny'\n",
        "len(chaine_de_caract)"
      ],
      "metadata": {
        "id": "jRH3QOR6SRP0",
        "colab": {
          "base_uri": "https://localhost:8080/"
        },
        "outputId": "9951b026-fc70-420b-86b4-5d5a4cf906de"
      },
      "id": "jRH3QOR6SRP0",
      "execution_count": null,
      "outputs": [
        {
          "output_type": "execute_result",
          "data": {
            "text/plain": [
              "16"
            ]
          },
          "metadata": {},
          "execution_count": 8
        }
      ]
    },
    {
      "cell_type": "markdown",
      "source": [
        "### Exercise 45:\n",
        "Assign a fractional result `7 / 3` to a variable `division_result`.\n",
        "\n",
        "```python\n",
        "# Exercise 45"
      ],
      "metadata": {
        "id": "gG2FulgAR3E9"
      },
      "id": "gG2FulgAR3E9"
    },
    {
      "cell_type": "code",
      "source": [
        "\n",
        "division_result = 7/3\n",
        "print('division_result = ', division_result)"
      ],
      "metadata": {
        "id": "-SLeeL6JSSB0",
        "colab": {
          "base_uri": "https://localhost:8080/"
        },
        "outputId": "b06c004f-3735-4cae-c73e-e387584c3e5f"
      },
      "id": "-SLeeL6JSSB0",
      "execution_count": null,
      "outputs": [
        {
          "output_type": "stream",
          "name": "stdout",
          "text": [
            "division_result =  2.3333333333333335\n"
          ]
        }
      ]
    },
    {
      "cell_type": "markdown",
      "source": [
        "### Exercise 46:\n",
        "Create a variable `speed` and assign it the value of 100 kilometers per hour.\n",
        "\n",
        "```python\n",
        "# Exercise 46"
      ],
      "metadata": {
        "id": "fD8Ot9PlR8nU"
      },
      "id": "fD8Ot9PlR8nU"
    },
    {
      "cell_type": "code",
      "source": [
        "speed = 100\n",
        "print('speed = ', speed, 'Km/h')"
      ],
      "metadata": {
        "id": "_9EmAp-tSS2I",
        "colab": {
          "base_uri": "https://localhost:8080/"
        },
        "outputId": "cc86822e-2fe4-4cb4-eb9e-ef1bf7018c3c"
      },
      "id": "_9EmAp-tSS2I",
      "execution_count": null,
      "outputs": [
        {
          "output_type": "stream",
          "name": "stdout",
          "text": [
            "speed =  100 Km/h\n"
          ]
        }
      ]
    },
    {
      "cell_type": "markdown",
      "source": [
        "### Exercise 47:\n",
        "Assign a multi-variable equation like `y = 3x + 5` where `x = 4` to a variable `y`.\n",
        "\n",
        "```python\n",
        "# Exercise 47"
      ],
      "metadata": {
        "id": "sO4kkUTOSB6t"
      },
      "id": "sO4kkUTOSB6t"
    },
    {
      "cell_type": "code",
      "source": [
        "x = 4\n",
        "y =3*x + 5\n",
        "print(y)"
      ],
      "metadata": {
        "id": "cEZZB9uHSTp9",
        "colab": {
          "base_uri": "https://localhost:8080/"
        },
        "outputId": "101b586f-e8c1-4317-ff24-82040e263237"
      },
      "id": "cEZZB9uHSTp9",
      "execution_count": null,
      "outputs": [
        {
          "output_type": "stream",
          "name": "stdout",
          "text": [
            "17\n"
          ]
        }
      ]
    },
    {
      "cell_type": "markdown",
      "source": [
        "### Exercise 48:\n",
        "Use variables to calculate and store the average of three numbers.\n",
        "\n",
        "```python\n",
        "# Exercise 48"
      ],
      "metadata": {
        "id": "uIrtpuRWSGr8"
      },
      "id": "uIrtpuRWSGr8"
    },
    {
      "cell_type": "code",
      "source": [
        "a = 3\n",
        "b = 7\n",
        "c = 5\n",
        "average =(a+b+c)/3\n",
        "print('the average is ', average)"
      ],
      "metadata": {
        "id": "3sMros5SSUa7",
        "colab": {
          "base_uri": "https://localhost:8080/"
        },
        "outputId": "13c57dd3-2b9f-4972-b25e-5463090e28f2"
      },
      "id": "3sMros5SSUa7",
      "execution_count": null,
      "outputs": [
        {
          "output_type": "stream",
          "name": "stdout",
          "text": [
            "the average is  5.0\n"
          ]
        }
      ]
    }
  ],
  "metadata": {
    "colab": {
      "provenance": []
    },
    "kernelspec": {
      "display_name": "Python 3 (ipykernel)",
      "language": "python",
      "name": "python3"
    },
    "language_info": {
      "codemirror_mode": {
        "name": "ipython",
        "version": 3
      },
      "file_extension": ".py",
      "mimetype": "text/x-python",
      "name": "python",
      "nbconvert_exporter": "python",
      "pygments_lexer": "ipython3",
      "version": "3.13.8"
    }
  },
  "nbformat": 4,
  "nbformat_minor": 5
}