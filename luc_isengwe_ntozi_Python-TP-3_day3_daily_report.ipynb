{
 "cells": [
  {
   "cell_type": "markdown",
   "id": "d68c1dee",
   "metadata": {
    "id": "d68c1dee"
   },
   "source": [
    "# Practical_3: Iterable objects or Containers"
   ]
  },
  {
   "cell_type": "markdown",
   "id": "894b27ae-4c75-48af-bfbb-dc91618533fb",
   "metadata": {},
   "source": [
    "\n",
    "### Exercise 1:\n",
    "Create a list of integers from 1 to 10.\n",
    "\n",
    "```python\n",
    "# Exercise 1"
   ]
  },
  {
   "cell_type": "code",
   "execution_count": 4,
   "id": "3996399a-2295-49c7-a790-6db6db8df981",
   "metadata": {},
   "outputs": [
    {
     "name": "stdout",
     "output_type": "stream",
     "text": [
      "[1, 2, 3, 4, 5, 6, 7, 8, 9, 10]\n"
     ]
    }
   ],
   "source": [
    "list_1 = [1,2,3,4,5,6,7,8,9,10]\n",
    "print(list_1)"
   ]
  },
  {
   "cell_type": "markdown",
   "id": "7172cf6d-ef48-4cb7-be5c-da2e7ef585c1",
   "metadata": {},
   "source": [
    "### Exercise 2:\n",
    "Create a tuple containing the elements `\"apple\"`, `\"banana\"`, and `\"cherry\"`.\n",
    "\n",
    "```python\n",
    "# Exercise 2"
   ]
  },
  {
   "cell_type": "code",
   "execution_count": 6,
   "id": "ccb3fd02-b4b1-4a6e-a253-438616759d9b",
   "metadata": {},
   "outputs": [
    {
     "name": "stdout",
     "output_type": "stream",
     "text": [
      "('apple', 'banana', 'cherry')\n"
     ]
    }
   ],
   "source": [
    "tuple_1 = (\"apple\", \"banana\",\"cherry\")\n",
    "print(tuple_1)"
   ]
  },
  {
   "cell_type": "markdown",
   "id": "d39eff8c-7ddd-4cd0-b6c0-60df5d67e785",
   "metadata": {},
   "source": [
    "### Exercise 3:\n",
    "Convert the list `numbers = [10, 20, 30, 40]` into a tuple.\n",
    "\n",
    "```python\n",
    "# Exercise 3\n"
   ]
  },
  {
   "cell_type": "code",
   "execution_count": 7,
   "id": "2de4d1a4-044e-4141-ab4a-97c970692a1d",
   "metadata": {},
   "outputs": [
    {
     "name": "stdout",
     "output_type": "stream",
     "text": [
      "tuple[10, 20, 30, 40]\n"
     ]
    }
   ],
   "source": [
    "numbers = [10, 20, 30, 40]\n",
    "convert_numbers= tuple [10, 20, 30, 40]\n",
    "print(convert_numbers)"
   ]
  },
  {
   "cell_type": "markdown",
   "id": "50bdcfa0-0e55-499a-aa2f-49b6ca51e692",
   "metadata": {},
   "source": [
    "### Exercise 4:\n",
    "Create a set containing the elements `1, 2, 3, 4, 5`.\n",
    "\n",
    "```python\n",
    "# Exercise 4"
   ]
  },
  {
   "cell_type": "code",
   "execution_count": 8,
   "id": "0abc8035-c315-44ec-bef3-abc9182a49e4",
   "metadata": {},
   "outputs": [
    {
     "name": "stdout",
     "output_type": "stream",
     "text": [
      "{1, 2, 3, 4, 5}\n"
     ]
    }
   ],
   "source": [
    "set_1 = {1, 2, 3, 4, 5}\n",
    "print(set_1)"
   ]
  },
  {
   "cell_type": "markdown",
   "id": "342dcb46-803c-4d8f-86e1-720b3dfae1de",
   "metadata": {},
   "source": [
    "### Exercise 5:\n",
    "Create a dictionary `student` with the keys `\"name\"`, `\"age\"`, and `\"grade\"` and corresponding values `\"Alice\"`, `20`, and `\"A\"`.\n",
    "\n",
    "```python\n",
    "# Exercise 5\n",
    "```"
   ]
  },
  {
   "cell_type": "code",
   "execution_count": 13,
   "id": "43d9789a-594b-49f4-94b8-45ebebfe6944",
   "metadata": {},
   "outputs": [
    {
     "name": "stdout",
     "output_type": "stream",
     "text": [
      "{'name': 'Alice', 'age': 20, 'grade': 'A'}\n"
     ]
    }
   ],
   "source": [
    "student = {\"name\" : \"Alice\" ,  \"age\" :  20, \"grade\" : \"A\"}\n",
    "print(student)"
   ]
  },
  {
   "cell_type": "markdown",
   "id": "09234ee5-787d-4eb9-8190-6a9875bd8b0b",
   "metadata": {},
   "source": [
    "### Exercise 6:\n",
    "Access the second element of the list `[10, 20, 30, 40, 50]` using indexing.\n",
    "\n",
    "```python\n",
    "# Exercise 6\n",
    "```"
   ]
  },
  {
   "cell_type": "code",
   "execution_count": 14,
   "id": "7294a347-bee9-42b1-96ab-d590d5657c9d",
   "metadata": {},
   "outputs": [
    {
     "name": "stdout",
     "output_type": "stream",
     "text": [
      "20\n"
     ]
    }
   ],
   "source": [
    "list_2 = [10, 20, 30, 40, 50]\n",
    "print(list_2[1])"
   ]
  },
  {
   "cell_type": "markdown",
   "id": "9c8f24b9-9508-4964-a059-df2b0100730e",
   "metadata": {},
   "source": [
    "### Exercise 7:\n",
    "Change the third element of the list `fruits = [\"apple\", \"banana\", \"cherry\", \"orange\"]` to `\"mango\"`.\n",
    "\n",
    "```python\n",
    "# Exercise 7\n",
    "```"
   ]
  },
  {
   "cell_type": "code",
   "execution_count": 23,
   "id": "c29c7427-33ef-47bc-a1a9-c27b8f679b83",
   "metadata": {},
   "outputs": [
    {
     "name": "stdout",
     "output_type": "stream",
     "text": [
      "['apple', 'banana', 'cherry', 'mango']\n"
     ]
    }
   ],
   "source": [
    "fruits = [\"apple\", \"banana\", \"cherry\", \"orange\"]\n",
    "fruits[3] = \"mango\"\n",
    "print(fruits)"
   ]
  },
  {
   "cell_type": "markdown",
   "id": "f6fc3791-000f-49a9-9578-7d7986ce2ea9",
   "metadata": {},
   "source": [
    "### Exercise 8:\n",
    "Add the number `6` to the set `numbers = {1, 2, 3, 4, 5}`.\n",
    "\n",
    "```python\n",
    "# Exercise 8"
   ]
  },
  {
   "cell_type": "code",
   "execution_count": 27,
   "id": "dc7c777e-16d3-4975-ba11-92cac4f6c358",
   "metadata": {},
   "outputs": [
    {
     "data": {
      "text/plain": [
       "{1, 2, 3, 4, 5, 6}"
      ]
     },
     "execution_count": 27,
     "metadata": {},
     "output_type": "execute_result"
    }
   ],
   "source": [
    "set_1 = {1, 2, 3, 4, 5}\n",
    "Add_number = set_1.add(6)\n",
    "set_1"
   ]
  },
  {
   "cell_type": "markdown",
   "id": "3c93a8e4-0750-492f-ae62-0db8aae56dae",
   "metadata": {},
   "source": [
    "### Exercise 9:\n",
    "Remove the key `\"age\"` from the dictionary `person = {\"name\": \"John\", \"age\": 25, \"city\": \"New York\"}`.\n",
    "\n",
    "```python\n",
    "# Exercise 9\n",
    "```"
   ]
  },
  {
   "cell_type": "code",
   "execution_count": 31,
   "id": "a718ece2-be6e-4768-9c57-58555d83169d",
   "metadata": {},
   "outputs": [
    {
     "data": {
      "text/plain": [
       "{'name': 'John', 'city': 'New York'}"
      ]
     },
     "execution_count": 31,
     "metadata": {},
     "output_type": "execute_result"
    }
   ],
   "source": [
    "person = {\"name\": \"John\", \"age\": 25, \"city\": \"New York\"}\n",
    "del person[\"age\"]\n",
    "person"
   ]
  },
  {
   "cell_type": "markdown",
   "id": "8362dc9c-b9bc-450e-84b5-b77be25b9e62",
   "metadata": {},
   "source": [
    "### Exercise 10:\n",
    "Create a range object starting from 0 to 9.\n",
    "\n",
    "```python\n",
    "# Exercise 10"
   ]
  },
  {
   "cell_type": "code",
   "execution_count": null,
   "id": "2bc7c982-055b-419b-9d19-93105be18f10",
   "metadata": {},
   "outputs": [],
   "source": [
    "star_1 = ('1,2,3,4,5,6,7,8,9')\n",
    "star_1.line\n"
   ]
  },
  {
   "cell_type": "markdown",
   "id": "c19871fd-770d-46a7-8201-afbf5bf32975",
   "metadata": {},
   "source": [
    "### Exercise 11:\n",
    "Use a list comprehension to create a list of squares of numbers from 1 to 10.\n",
    "\n",
    "```python\n",
    "# Exercise 11"
   ]
  },
  {
   "cell_type": "code",
   "execution_count": 8,
   "id": "dacc38ee-956f-492f-ad10-24b7228479af",
   "metadata": {},
   "outputs": [
    {
     "name": "stdout",
     "output_type": "stream",
     "text": [
      "[1, 4, 9, 16, 25, 36, 49, 64, 81, 100]\n"
     ]
    }
   ],
   "source": [
    "squares =[i**2 for i in range(1, 11)]\n",
    "print(squares)"
   ]
  },
  {
   "cell_type": "markdown",
   "id": "978b71a0-e5ef-4392-beaa-de4fdda9df26",
   "metadata": {},
   "source": [
    "### Exercise 12:\n",
    "Create a tuple of even numbers between 2 and 10 using a tuple comprehension.\n",
    "\n",
    "```python\n",
    "# Exercise 12"
   ]
  },
  {
   "cell_type": "code",
   "execution_count": 6,
   "id": "9b6294f4-f84b-48db-94f3-d480ff96d207",
   "metadata": {},
   "outputs": [
    {
     "name": "stdout",
     "output_type": "stream",
     "text": [
      "(2, 4, 6, 8, 10)\n"
     ]
    }
   ],
   "source": [
    "even_numbers = tuple(i for i in range(2, 11) if i % 2 == 0)\n",
    "print(even_numbers)"
   ]
  },
  {
   "cell_type": "markdown",
   "id": "7f028739-bebf-4ac5-b4f7-a08e3048baae",
   "metadata": {},
   "source": [
    "### Exercise 13:\n",
    "Use a for loop to iterate through the list `fruits = [\"apple\", \"banana\", \"cherry\"]` and print each element.\n",
    "\n",
    "```python\n",
    "# Exercise 13"
   ]
  },
  {
   "cell_type": "code",
   "execution_count": 18,
   "id": "7eab2afd-8cb8-47b5-a996-d51c5bfccde1",
   "metadata": {},
   "outputs": [
    {
     "name": "stdout",
     "output_type": "stream",
     "text": [
      "apple\n",
      "banana\n",
      "cherry\n"
     ]
    }
   ],
   "source": [
    "fruits = [\"apple\", \"banana\", \"cherry\"]\n",
    "for i in fruits :\n",
    "    print(i)"
   ]
  },
  {
   "cell_type": "code",
   "execution_count": null,
   "id": "c2abd3ae-bb82-4b66-bc74-577e5cfb5a6b",
   "metadata": {},
   "outputs": [],
   "source": [
    "### Exercise 14:\n",
    "Check if the value `3` exists in the set `numbers = {1, 2, 3, 4, 5}`.\n",
    "\n",
    "```python\n",
    "# Exercise 14\n",
    "```"
   ]
  },
  {
   "cell_type": "code",
   "execution_count": 21,
   "id": "6a60da73-9c3b-443a-82fc-e35e110244c2",
   "metadata": {},
   "outputs": [
    {
     "name": "stdout",
     "output_type": "stream",
     "text": [
      "x exist in the set\n"
     ]
    }
   ],
   "source": [
    "numbers = {1, 2, 3, 4, 5}\n",
    "x = 3\n",
    "if x in numbers:\n",
    "    print('x exist in the set')\n",
    "else :\n",
    "    print('x is not exist in the set')"
   ]
  },
  {
   "cell_type": "code",
   "execution_count": null,
   "id": "f58edda0-3732-416d-af1f-170281b2ffa2",
   "metadata": {},
   "outputs": [],
   "source": [
    "### Exercise 15:\n",
    "Use the `len()` function to find the length of the tuple `numbers = (10, 20, 30)`.\n",
    "\n",
    "```python\n",
    "# Exercise 15"
   ]
  },
  {
   "cell_type": "code",
   "execution_count": 22,
   "id": "6037e3db-a3d3-4de0-baf0-53de5c4d54c7",
   "metadata": {},
   "outputs": [
    {
     "name": "stdout",
     "output_type": "stream",
     "text": [
      "the length of the numbers is :  3\n"
     ]
    }
   ],
   "source": [
    "numbers = (10, 20, 30)\n",
    "x =len(numbers)\n",
    "print('the length of the numbers is : ', x)"
   ]
  },
  {
   "cell_type": "markdown",
   "id": "5b0875f5-e072-4dd7-b9a8-ebcd8d04af84",
   "metadata": {},
   "source": [
    "### Exercise 16:\n",
    "Add the value `100` at the end of the list `scores = [80, 85, 90, 95]`.\n",
    "\n",
    "```python\n",
    "# Exercise 16"
   ]
  },
  {
   "cell_type": "code",
   "execution_count": 26,
   "id": "e46ce6b3-8bd8-4d26-bdfb-e9d2a175678b",
   "metadata": {},
   "outputs": [
    {
     "name": "stdout",
     "output_type": "stream",
     "text": [
      "[80, 85, 90, 95, 100]\n"
     ]
    }
   ],
   "source": [
    "scores = [80, 85, 90, 95]\n",
    "scores.append(100)\n",
    "print(scores)"
   ]
  },
  {
   "cell_type": "markdown",
   "id": "115e4547-8667-4d59-bd12-5746130fbcf0",
   "metadata": {},
   "source": [
    "### Exercise 17:\n",
    "Write a function that takes a list as input and returns the sum of all elements in the list.\n",
    "\n",
    "```python\n",
    "# Exercise 17"
   ]
  },
  {
   "cell_type": "code",
   "execution_count": 32,
   "id": "98fc2eb3-197f-4567-b838-dbb773667cc4",
   "metadata": {},
   "outputs": [
    {
     "name": "stdout",
     "output_type": "stream",
     "text": [
      "The sum of numbers is :  15\n"
     ]
    }
   ],
   "source": [
    "def sum_list(lista):\n",
    "    total = 0\n",
    "    for num in lista:\n",
    "        total += num\n",
    "    return total\n",
    "\n",
    "numbers = [1, 2, 3, 4, 5]\n",
    "print('The sum of numbers is : ',sum_list(numbers)) \n"
   ]
  },
  {
   "cell_type": "markdown",
   "id": "616948e7-61f8-4cd8-b206-a99a534a8511",
   "metadata": {},
   "source": [
    "### Exercise 18:\n",
    "Create a set containing the unique elements of the list `numbers = [1, 2, 2, 3, 4, 4, 5]`.\n",
    "\n",
    "```python\n",
    "# Exercise 18"
   ]
  },
  {
   "cell_type": "code",
   "execution_count": 35,
   "id": "6d12934b-fad5-442d-9ced-96777616fc77",
   "metadata": {},
   "outputs": [
    {
     "name": "stdout",
     "output_type": "stream",
     "text": [
      "{1, 2, 3, 4, 5}\n"
     ]
    }
   ],
   "source": [
    "numbers = [1, 2, 2, 3, 4, 4, 5]\n",
    "unique_elements = set(numbers)\n",
    "print(unique_elements)"
   ]
  },
  {
   "cell_type": "markdown",
   "id": "fc0e574a-fd6f-4c92-a806-fca52d527aed",
   "metadata": {},
   "source": [
    "### Exercise 19:\n",
    "Convert the string `\"hello\"` into a list of characters.\n",
    "\n",
    "```python\n",
    "# Exercise 19"
   ]
  },
  {
   "cell_type": "code",
   "execution_count": 37,
   "id": "f6e9df11-bfc0-49ed-88b9-411e6e448156",
   "metadata": {},
   "outputs": [
    {
     "name": "stdout",
     "output_type": "stream",
     "text": [
      "{'o', 'e', 'h', 'l'}\n"
     ]
    }
   ],
   "source": [
    "string_1 = \"hello\"\n",
    "Char = set(string_1)\n",
    "print(Char)"
   ]
  },
  {
   "cell_type": "markdown",
   "id": "cb72587a-466e-4cb5-a95e-0849f3dd3d2f",
   "metadata": {},
   "source": [
    "### Exercise 20:\n",
    "Write a Python function that reverses a tuple `(1, 2, 3, 4)`.\n",
    "\n",
    "```python\n",
    "# Exercise 20"
   ]
  },
  {
   "cell_type": "code",
   "execution_count": 40,
   "id": "b6107daa-cb5c-4be9-8ee2-8b23834fc27b",
   "metadata": {},
   "outputs": [
    {
     "name": "stdout",
     "output_type": "stream",
     "text": [
      "(4, 3, 2, 1)\n"
     ]
    }
   ],
   "source": [
    "def reverse_tuple(enter_tuple):\n",
    "  \"\"\"\n",
    "  Reverses the elements of a tuple that given .\n",
    "\n",
    "  parameter:\n",
    "    enter_tuple: The tuple to be reversed.\n",
    "\n",
    "  Returns:\n",
    "    A new tuple with the elements in reverse order.\n",
    "  \"\"\"\n",
    "  return enter_tuple[::-1]\n",
    "\n",
    "my_tuple = (1, 2, 3, 4)\n",
    "print(reversed_tuple)"
   ]
  },
  {
   "cell_type": "markdown",
   "id": "8c29810b-a53a-49dd-a1e8-accebd021b1c",
   "metadata": {},
   "source": [
    "### Exercise 21:\n",
    "Merge two dictionaries `dict1 = {\"a\": 1, \"b\": 2}` and `dict2 = {\"c\": 3, \"d\": 4}` into a single dictionary.\n",
    "\n",
    "```python\n",
    "# Exercise 21\n",
    "```"
   ]
  },
  {
   "cell_type": "code",
   "execution_count": 42,
   "id": "9f2d0389-758b-4f98-b920-bc37acd827e5",
   "metadata": {},
   "outputs": [
    {
     "name": "stdout",
     "output_type": "stream",
     "text": [
      "{'a': 1, 'b': 2, 'c': 3, 'd': 4}\n"
     ]
    }
   ],
   "source": [
    "dict1 = {\"a\": 1, \"b\": 2}\n",
    "dict2 = {\"c\": 3, \"d\": 4}\n",
    "dic = dict1 | dict2\n",
    "print(dic)"
   ]
  },
  {
   "cell_type": "markdown",
   "id": "1f9c0ed3-d282-4c23-ba7d-cc79aa5dd2fd",
   "metadata": {},
   "source": [
    "### Exercise 22:\n",
    "Create a dictionary where keys are numbers from 1 to 5, and values are their squares.\n",
    "\n",
    "```python\n",
    "# Exercise 22"
   ]
  },
  {
   "cell_type": "code",
   "execution_count": 44,
   "id": "5059c445-0b7d-4f72-ab68-c16c572c1dca",
   "metadata": {},
   "outputs": [
    {
     "name": "stdout",
     "output_type": "stream",
     "text": [
      "{1: 1, 2: 4, 3: 9, 4: 16, 5: 25}\n"
     ]
    }
   ],
   "source": [
    "dicti = {number: number**2 for number in range(1, 6)}\n",
    "print(dicti)"
   ]
  },
  {
   "cell_type": "markdown",
   "id": "9c1d4aee-e4bd-47ad-96c0-61bc5209f951",
   "metadata": {},
   "source": [
    "### Exercise 23:\n",
    "Write a Python program to iterate through a dictionary and print each key-value pair.\n",
    "\n",
    "```python\n",
    "# Exercise 23"
   ]
  },
  {
   "cell_type": "code",
   "execution_count": 53,
   "id": "7ef13f85-94d6-4841-b7c2-d06f9faf9482",
   "metadata": {},
   "outputs": [
    {
     "name": "stdout",
     "output_type": "stream",
     "text": [
      "Key: name, Value: Luc\n",
      "Key: age, Value: 25\n",
      "Key: city, Value: Mbour\n",
      "Key: occupation, Value: Student\n"
     ]
    }
   ],
   "source": [
    "def print_dictionary(my_dict):\n",
    "  \"\"\"\n",
    "  Iterates through a dictionary and prints each key-value pair.\n",
    "\n",
    "  parameter:\n",
    "    my_dict: The dictionary to iterate.\n",
    "  \"\"\"\n",
    "  for key, value in my_dict.items():\n",
    "    print(f\"Key: {key}, Value: {value}\")\n",
    "\n",
    "AIMS = {\"name\": \"Luc\",\"age\": 25,\"city\": \"Mbour\",\"occupation\": \"Student\"}\n",
    "\n",
    "print_dictionary(AIMS)"
   ]
  },
  {
   "cell_type": "markdown",
   "id": "5295db62-b1b8-445b-ab9d-6f6586772307",
   "metadata": {},
   "source": [
    "### Exercise 24:\n",
    "Create a list of the first 5 letters of the alphabet using the `chr()` function.\n",
    "\n",
    "```python\n",
    "# Exercise 24"
   ]
  },
  {
   "cell_type": "code",
   "execution_count": 55,
   "id": "24100d97-a5d0-48de-af12-d57c6fc13be3",
   "metadata": {},
   "outputs": [
    {
     "name": "stdout",
     "output_type": "stream",
     "text": [
      "['a', 'b', 'c', 'd', 'e']\n"
     ]
    }
   ],
   "source": [
    "letters = [chr(i) for i in range(97, 102)]  # Code ASCII  for 'a' to 'e'\n",
    "print(letters)\n"
   ]
  },
  {
   "cell_type": "markdown",
   "id": "de35a3c4-177e-4f66-b2f0-39a61e8425cc",
   "metadata": {},
   "source": [
    "### Exercise 25:\n",
    "Use the `zip()` function to combine two lists `[1, 2, 3]` and `[\"a\", \"b\", \"c\"]` into a list of tuples.\n",
    "\n",
    "```python\n",
    "# Exercise 25"
   ]
  },
  {
   "cell_type": "code",
   "execution_count": 57,
   "id": "ec90225f-4fc8-4716-a55f-550cbd18a65f",
   "metadata": {},
   "outputs": [
    {
     "name": "stdout",
     "output_type": "stream",
     "text": [
      "[(1, 'a'), (2, 'b'), (3, 'c')]\n"
     ]
    }
   ],
   "source": [
    "numbers = [1, 2, 3]\n",
    "letters = [\"a\", \"b\", \"c\"]\n",
    "sum1 = list(zip(numbers, letters))\n",
    "print(sum1)"
   ]
  },
  {
   "cell_type": "markdown",
   "id": "825494b9-7b25-4ecb-9c5e-c02797d48dfa",
   "metadata": {},
   "source": [
    "### Exercise 26:\n",
    "Find the index of the value `50` in the list `[10, 20, 30, 40, 50]`.\n",
    "\n",
    "```python\n",
    "# Exercise 26"
   ]
  },
  {
   "cell_type": "code",
   "execution_count": 58,
   "id": "9cb3f449-a142-4539-bd16-aea7605a56c2",
   "metadata": {},
   "outputs": [
    {
     "name": "stdout",
     "output_type": "stream",
     "text": [
      "4\n"
     ]
    }
   ],
   "source": [
    "list1 = [10, 20, 30, 40, 50]\n",
    "position = list1.index(50)\n",
    "print(position)"
   ]
  },
  {
   "cell_type": "markdown",
   "id": "101199aa-6e9a-4245-964f-a585401b5042",
   "metadata": {},
   "source": [
    "### Exercise 27:\n",
    "Sort the list `names = [\"Alice\", \"Bob\", \"Charlie\", \"David\"]` in alphabetical order.\n",
    "\n",
    "```python\n",
    "# Exercise 27"
   ]
  },
  {
   "cell_type": "code",
   "execution_count": 62,
   "id": "751b5574-cda2-4506-99fe-5b028415859d",
   "metadata": {},
   "outputs": [
    {
     "name": "stdout",
     "output_type": "stream",
     "text": [
      "['Alice', 'Bob', 'Charlie', 'David']\n"
     ]
    }
   ],
   "source": [
    "names = [\"Alice\", \"Bob\", \"Charlie\", \"David\"]\n",
    "names.sort()\n",
    "print(names)"
   ]
  },
  {
   "cell_type": "markdown",
   "id": "33f19030-ed36-4264-a58a-81f3ee6b2ab0",
   "metadata": {},
   "source": [
    "### Exercise 28:\n",
    "Write a Python function that takes a list of integers as input and returns the largest number.\n",
    "\n",
    "```python\n",
    "# Exercise 28\n",
    "```"
   ]
  },
  {
   "cell_type": "code",
   "execution_count": 65,
   "id": "27c6c473-9290-44a9-b784-ffd76ef1d95f",
   "metadata": {},
   "outputs": [
    {
     "name": "stdout",
     "output_type": "stream",
     "text": [
      "9\n"
     ]
    }
   ],
   "source": [
    "def find_largest(numbers):\n",
    "    return max(numbers)\n",
    "\n",
    "my_list = [3, 7, 2, 9, 5, 4, 9]\n",
    "print(find_largest(my_list))\n"
   ]
  },
  {
   "cell_type": "markdown",
   "id": "40ae94dc-ba59-4569-b53a-38f0b2c407c8",
   "metadata": {},
   "source": [
    "### Exercise 29:\n",
    "Use the `count()` method to count how many times `\"apple\"` appears in the list `fruits = [\"apple\", \"banana\", \"apple\", \"orange\"]`.\n",
    "\n",
    "```python\n",
    "# Exercise 29"
   ]
  },
  {
   "cell_type": "code",
   "execution_count": 72,
   "id": "b260b921-1209-40d3-a024-3da6d19d1c49",
   "metadata": {},
   "outputs": [
    {
     "name": "stdout",
     "output_type": "stream",
     "text": [
      "the word apple is 2 times in the list fruits\n"
     ]
    }
   ],
   "source": [
    "fruits = [\"apple\", \"banana\", \"apple\", \"orange\"]\n",
    "x = fruits.count('apple')\n",
    "print('the word apple is', x, 'times in the list fruits')"
   ]
  },
  {
   "cell_type": "markdown",
   "id": "83cd5927-be8e-4576-a74a-d903e6ffaf08",
   "metadata": {},
   "source": [
    "### Exercise 30:\n",
    "Create a dictionary `person` where keys are `\"name\"`, `\"age\"`, and `\"city\"`, and values are `\"Alice\"`, `25`, and `\"New York\"` respectively. Then access the value of the `\"city\"` key.\n",
    "\n",
    "```python\n",
    "# Exercise 30"
   ]
  },
  {
   "cell_type": "code",
   "execution_count": 73,
   "id": "a240acc3-2311-4c64-bc26-4351b50b743a",
   "metadata": {},
   "outputs": [
    {
     "name": "stdout",
     "output_type": "stream",
     "text": [
      "New York\n"
     ]
    }
   ],
   "source": [
    "dict1 = {\"name\" : \"Alice\", \"age\" : 25, \"city\" : \"New York\"}   # create the dictionnary\n",
    "value_city = dict1[\"city\"]  # To access the value of the city key\n",
    "print(value_city)"
   ]
  },
  {
   "cell_type": "markdown",
   "id": "bf8d60a4-401b-4389-8370-74958083bbe5",
   "metadata": {},
   "source": [
    "### Exercise 31:\n",
    "Write a Python function that takes a list as input and returns a new list with all duplicates removed.\n",
    "\n",
    "```python\n",
    "# Exercise 31\n",
    "```"
   ]
  },
  {
   "cell_type": "code",
   "execution_count": 74,
   "id": "c043f428-9a18-483d-a5ac-0c65ffa69512",
   "metadata": {},
   "outputs": [
    {
     "name": "stdout",
     "output_type": "stream",
     "text": [
      "[1, 2, 3, 4, 5, 7]\n"
     ]
    }
   ],
   "source": [
    "def remove_duplicates(lst):   # create the dictionnary\n",
    "    return list(set(lst))  # do the list in set and the set doesn't containt duplicates\n",
    "\n",
    "my_list = [1, 2, 2, 3, 4, 4, 5, 7]\n",
    "new_list = remove_duplicates(my_list)   # call the function\n",
    "print(new_list)"
   ]
  },
  {
   "cell_type": "markdown",
   "id": "58b7c257-f877-4647-ad76-c0fc32c52cd6",
   "metadata": {},
   "source": [
    "### Exercise 32:\n",
    "Write a Python function that takes two lists and returns their intersection.\n",
    "\n",
    "```python\n",
    "# Exercise 32"
   ]
  },
  {
   "cell_type": "code",
   "execution_count": 76,
   "id": "93597419-3074-413f-b618-77449bc0115c",
   "metadata": {},
   "outputs": [
    {
     "name": "stdout",
     "output_type": "stream",
     "text": [
      "[3, 4, 6]\n"
     ]
    }
   ],
   "source": [
    "def intersection(list1, list2):\n",
    "    return list(set(list1) & set(list2)) \n",
    "\n",
    "list_a = [1, 2, 3, 4, 6]\n",
    "list_b = [3, 4, 5, 6]\n",
    "result = intersection(list_a, list_b)\n",
    "print(result)"
   ]
  },
  {
   "cell_type": "markdown",
   "id": "e102479d-d4c4-494f-ab22-70e05b1d3f37",
   "metadata": {},
   "source": [
    "### Exercise 33:\n",
    "Create a generator that yields the squares of numbers from 1 to 10.\n",
    "\n",
    "```python\n",
    "# Exercise 33"
   ]
  },
  {
   "cell_type": "code",
   "execution_count": 78,
   "id": "0897448c-b6c6-4960-a43e-912bd3540979",
   "metadata": {},
   "outputs": [
    {
     "name": "stdout",
     "output_type": "stream",
     "text": [
      "1\n",
      "4\n",
      "9\n",
      "16\n",
      "25\n",
      "36\n",
      "49\n",
      "64\n",
      "81\n",
      "100\n"
     ]
    }
   ],
   "source": [
    "# Define the generator\n",
    "def square_generator():\n",
    "    for i in range(1, 11):\n",
    "        yield i ** 2\n",
    "for square in square_generator():\n",
    "    print(square)"
   ]
  },
  {
   "cell_type": "markdown",
   "id": "03027a13-85aa-4abb-821b-61862b3f5615",
   "metadata": {},
   "source": [
    "### Exercise 34:\n",
    "Write a Python function that takes a dictionary as input and returns the sum of all its values.\n",
    "\n",
    "```python\n",
    "# Exercise 34"
   ]
  },
  {
   "cell_type": "code",
   "execution_count": 79,
   "id": "281cec07-6f4a-4837-a61c-85f4bc8b4f45",
   "metadata": {},
   "outputs": [
    {
     "name": "stdout",
     "output_type": "stream",
     "text": [
      "60\n"
     ]
    }
   ],
   "source": [
    "def sum_values(z):\n",
    "    return sum(z.values())\n",
    "\n",
    "my_dict = {\"a\": 10, \"b\": 20, \"c\": 30}\n",
    "result = sum_values(my_dict)\n",
    "print(result)"
   ]
  },
  {
   "cell_type": "markdown",
   "id": "a2940314-14b6-471d-849d-12ca1b78d291",
   "metadata": {},
   "source": [
    "### Exercise 35:\n",
    "Use the `sorted()` function to sort the list `[3, 1, 4, 1, 5, 9]` in ascending order.\n",
    "\n",
    "```python\n",
    "# Exercise 35"
   ]
  },
  {
   "cell_type": "code",
   "execution_count": 80,
   "id": "de6e6071-271d-43bd-aa1b-7297d90e2a95",
   "metadata": {},
   "outputs": [
    {
     "name": "stdout",
     "output_type": "stream",
     "text": [
      "[1, 1, 3, 4, 5, 9]\n"
     ]
    }
   ],
   "source": [
    "numbers = [3, 1, 4, 1, 5, 9]\n",
    "sorted_numbers = sorted(numbers)\n",
    "print(sorted_numbers)"
   ]
  },
  {
   "cell_type": "markdown",
   "id": "0f54991d-fd02-4d0b-93e1-0b67d9accdc0",
   "metadata": {},
   "source": [
    "### Exercise 36:\n",
    "Write a Python function that takes a list of strings as input and returns the longest string.\n",
    "\n",
    "```python\n",
    "# Exercise 36"
   ]
  },
  {
   "cell_type": "code",
   "execution_count": 82,
   "id": "14875719-e2c1-44ea-a203-1547b85c19da",
   "metadata": {},
   "outputs": [
    {
     "name": "stdout",
     "output_type": "stream",
     "text": [
      "Aims-Senegal\n"
     ]
    }
   ],
   "source": [
    "def longest_string(strings):\n",
    "    if not strings:\n",
    "        return None  # Return None if the list is empty\n",
    "    return max(strings, key=len)\n",
    "\n",
    "my_list = [\"apple\", \"banana\", \"cherry\", \"date\", \"Aims-Senegal\"]\n",
    "result = longest_string(my_list)\n",
    "print(result)"
   ]
  },
  {
   "cell_type": "markdown",
   "id": "863b6e62-1d71-4ae1-b063-ca38b5f8d009",
   "metadata": {},
   "source": [
    "### Exercise 37:\n",
    "Check if all the elements in the list `[1, 2, 3, 4, 5]` are greater than 0 using the `all()` function.\n",
    "\n",
    "```python\n",
    "# Exercise 37\n",
    "```"
   ]
  },
  {
   "cell_type": "code",
   "execution_count": 84,
   "id": "fdc0ae59-c0b7-475e-801e-e0f639cb9741",
   "metadata": {},
   "outputs": [
    {
     "name": "stdout",
     "output_type": "stream",
     "text": [
      "True\n"
     ]
    }
   ],
   "source": [
    "numbers = [1, 2, 3, 4, 5]\n",
    "# Check if all numbers are greater than 0\n",
    "all_greater_than_zero = all(n > 0 for n in numbers)\n",
    "print(all_greater_than_zero)\n"
   ]
  },
  {
   "cell_type": "markdown",
   "id": "cb3c6455-4f63-4a78-803e-2f0826b34b42",
   "metadata": {},
   "source": [
    "### Exercise 38:\n",
    "Create a list of tuples where each tuple contains a number and its square for numbers from 1 to 5.\n",
    "\n",
    "```python\n",
    "# Exercise 38\n",
    "```"
   ]
  },
  {
   "cell_type": "code",
   "execution_count": 85,
   "id": "ca28dc6d-5b02-46a7-b146-decf622e78f1",
   "metadata": {},
   "outputs": [
    {
     "name": "stdout",
     "output_type": "stream",
     "text": [
      "[(1, 1), (2, 4), (3, 9), (4, 16), (5, 25)]\n"
     ]
    }
   ],
   "source": [
    "numbers_and_squares = [(i, i**2) for i in range(1, 6)]\n",
    "print(numbers_and_squares)"
   ]
  },
  {
   "cell_type": "markdown",
   "id": "0f80fc64-85a7-49e7-9437-da34ce162496",
   "metadata": {},
   "source": [
    "### Exercise 39:\n",
    "Write a Python function that takes a list of tuples and returns a list of the second elements from each tuple.\n",
    "\n",
    "```python\n",
    "# Exercise 39"
   ]
  },
  {
   "cell_type": "code",
   "execution_count": 86,
   "id": "c17be5bb-02d4-4f43-8550-2653c293a8f1",
   "metadata": {},
   "outputs": [
    {
     "name": "stdout",
     "output_type": "stream",
     "text": [
      "['a', 'b', 'c']\n"
     ]
    }
   ],
   "source": [
    "def second_elements(tuple_list):\n",
    "    return [t[1] for t in tuple_list]\n",
    "my_tuples = [(1, 'a'), (2, 'b'), (3, 'c')]\n",
    "result = second_elements(my_tuples)\n",
    "print(result)"
   ]
  },
  {
   "cell_type": "markdown",
   "id": "7c6979a3-d14d-47b9-a3bb-c5c951dbe05b",
   "metadata": {},
   "source": [
    "### Exercise 40:\n",
    "Write a Python function that flattens a list of lists into a single list.\n",
    "\n",
    "```python\n",
    "# Exercise 40\n",
    "```"
   ]
  },
  {
   "cell_type": "code",
   "execution_count": 1,
   "id": "a9b29d00-f76a-4bd0-ad4b-0c55d77185a6",
   "metadata": {},
   "outputs": [
    {
     "name": "stdout",
     "output_type": "stream",
     "text": [
      "[1, 2, 3, 4, 5]\n"
     ]
    }
   ],
   "source": [
    "def flatten_list(list_of_lists):\n",
    "    return [item for sublist in list_of_lists for item in sublist]\n",
    "nested_list = [[1, 2], [3, 4], [5]]\n",
    "flat_list = flatten_list(nested_list)\n",
    "print(flat_list)"
   ]
  },
  {
   "cell_type": "markdown",
   "id": "a5d5e93f-b402-450c-be79-12f0517e3daf",
   "metadata": {},
   "source": [
    "### Exercise 41:\n",
    "Use the `enumerate()` function to iterate through the list `[\"apple\", \"banana\", \"cherry\"]` and print the index and value.\n",
    "\n",
    "```python\n",
    "# Exercise 41"
   ]
  },
  {
   "cell_type": "code",
   "execution_count": 2,
   "id": "efad59ed-2cb7-435f-9be8-377cabcab32e",
   "metadata": {},
   "outputs": [
    {
     "name": "stdout",
     "output_type": "stream",
     "text": [
      "0 apple\n",
      "1 banana\n",
      "2 cherry\n"
     ]
    }
   ],
   "source": [
    "fruits = [\"apple\", \"banana\", \"cherry\"]\n",
    "\n",
    "for index, value in enumerate(fruits):\n",
    "    print(index, value)"
   ]
  },
  {
   "cell_type": "markdown",
   "id": "e98d61e1-bb4e-4a18-bad7-88311be17397",
   "metadata": {},
   "source": [
    "### Exercise 42:\n",
    "Write a Python program that checks if a tuple is empty.\n",
    "\n",
    "```python\n",
    "# Exercise 42"
   ]
  },
  {
   "cell_type": "code",
   "execution_count": 5,
   "id": "df835160-6f4c-4b0b-8d1f-f819d3f48e20",
   "metadata": {},
   "outputs": [
    {
     "name": "stdout",
     "output_type": "stream",
     "text": [
      "True\n",
      "False\n"
     ]
    }
   ],
   "source": [
    "# create tuples\n",
    "tuple1 = ()\n",
    "tuple2 = (1, 2, 3)\n",
    "\n",
    "# Function to check if a tuples is empty\n",
    "def is_empty_tuple(tuple12):\n",
    "    return len(tuple12) == 0\n",
    "\n",
    "# Test the function\n",
    "print(is_empty_tuple(tuple1))  \n",
    "print(is_empty_tuple(tuple2))  "
   ]
  },
  {
   "cell_type": "markdown",
   "id": "a1be2815-3769-4ab6-81e4-016a1ba052d6",
   "metadata": {},
   "source": [
    "### Exercise 43:\n",
    "Create a list of even numbers between 1 and 20 using the `range()` function.\n",
    "\n",
    "```python\n",
    "# Exercise 43"
   ]
  },
  {
   "cell_type": "code",
   "execution_count": 91,
   "id": "e8bb0531-7308-4daa-b93c-c863b9cfd809",
   "metadata": {},
   "outputs": [
    {
     "name": "stdout",
     "output_type": "stream",
     "text": [
      "[2, 4, 6, 8, 10, 12, 14, 16, 18, 20]\n"
     ]
    }
   ],
   "source": [
    "# Use the range fonction(start, stop, step)\n",
    "even_numbers = list(range(2, 21, 2))\n",
    "print(even_numbers)"
   ]
  },
  {
   "cell_type": "markdown",
   "id": "ab3a388e-53c8-421a-bc6d-562b0b7fc521",
   "metadata": {},
   "source": [
    "### Exercise 44:\n",
    "Write a Python function that takes a list of numbers as input and returns the list in reverse order.\n",
    "\n",
    "```python\n",
    "# Exercise 44"
   ]
  },
  {
   "cell_type": "code",
   "execution_count": 96,
   "id": "0827aa0b-9bc9-455f-bbed-32d5fba5161e",
   "metadata": {},
   "outputs": [
    {
     "name": "stdout",
     "output_type": "stream",
     "text": [
      "[10, 19, 8, 7, 4, 3, 1]\n"
     ]
    }
   ],
   "source": [
    "def numbers(liste):\n",
    "    return liste[::-1]\n",
    "my_liste = [1, 3, 4, 7, 8, 19, 10]\n",
    "numbers = numbers(my_liste)\n",
    "print(numbers)"
   ]
  },
  {
   "cell_type": "markdown",
   "id": "c437f3e7-0c20-418f-ac7b-2bd4c40aebdb",
   "metadata": {},
   "source": [
    "### Exercise 45:\n",
    "Create a dictionary comprehension that maps numbers from 1 to 5 to their cubes.\n",
    "\n",
    "```python\n",
    "# Exercise 45"
   ]
  },
  {
   "cell_type": "code",
   "execution_count": 97,
   "id": "409a059b-bdf0-4c7c-9f26-7e1e7f6f373e",
   "metadata": {},
   "outputs": [
    {
     "name": "stdout",
     "output_type": "stream",
     "text": [
      "{1: 1, 2: 8, 3: 27, 4: 64, 5: 125}\n"
     ]
    }
   ],
   "source": [
    "cubes = {x: x**3 for x in range(1, 6)}\n",
    "print(cubes)"
   ]
  },
  {
   "cell_type": "markdown",
   "id": "3d7a7738-dc65-4947-b74a-d4679a3c50c5",
   "metadata": {},
   "source": [
    "### Exercise 46:\n",
    "Write a Python program that creates a new list containing only the unique elements of the list `[1, 2, 2, 3, 4, 4, 5]`.\n",
    "\n",
    "```python\n",
    "# Exercise 46\n",
    "```"
   ]
  },
  {
   "cell_type": "code",
   "execution_count": 98,
   "id": "c90b3fe7-02e4-45b6-b6fd-1a6834cf04a7",
   "metadata": {},
   "outputs": [
    {
     "name": "stdout",
     "output_type": "stream",
     "text": [
      "[1, 2, 3, 4, 5]\n"
     ]
    }
   ],
   "source": [
    "#  list\n",
    "numbers = [1, 2, 2, 3, 4, 4, 5]\n",
    "\n",
    "# Using set() to remove duplicates\n",
    "unique_numbers = list(set(numbers))\n",
    "print(unique_numbers)"
   ]
  },
  {
   "cell_type": "markdown",
   "id": "09e6d499-3d1d-4601-a6ca-f3dbc00749cd",
   "metadata": {},
   "source": [
    "### Exercise 47:\n",
    "Write a Python function that takes a list of dictionaries and returns a list of the values for a given key.\n",
    "\n",
    "```python\n",
    "# Exercise 47"
   ]
  },
  {
   "cell_type": "code",
   "execution_count": 99,
   "id": "fb88d7fd-ab93-45c0-9dd7-9474b1a861fb",
   "metadata": {},
   "outputs": [
    {
     "name": "stdout",
     "output_type": "stream",
     "text": [
      "['Alice', 'Bob', 'Charlie']\n"
     ]
    }
   ],
   "source": [
    "def get_values(dict_list, key):\n",
    "    return [d[key] for d in dict_list if key in d]\n",
    "\n",
    "people = [{\"name\": \"Alice\", \"age\": 25},{\"name\": \"Bob\", \"age\": 30},{\"name\": \"Charlie\", \"age\": 22}]\n",
    "\n",
    "names = get_values(people, \"name\")\n",
    "print(names)"
   ]
  },
  {
   "cell_type": "markdown",
   "id": "cfa3d0ab-2e1d-4cbc-99fb-6f2fbf3ffd91",
   "metadata": {},
   "source": [
    "### Exercise 48:\n",
    "Write a Python function that uses a generator to yield the Fibonacci sequence up to `n` terms.\n",
    "\n",
    "```python\n",
    "# Exercise 48\n",
    "```"
   ]
  },
  {
   "cell_type": "code",
   "execution_count": 7,
   "id": "d89c0d6c-c833-43be-83cd-8a22d9dcbda9",
   "metadata": {},
   "outputs": [
    {
     "name": "stdout",
     "output_type": "stream",
     "text": [
      "0\n",
      "1\n",
      "1\n",
      "2\n",
      "3\n",
      "5\n",
      "8\n",
      "13\n",
      "21\n",
      "34\n"
     ]
    }
   ],
   "source": [
    "def fibonacci(n):\n",
    "    a, b = 0, 1\n",
    "    for i in range(n):\n",
    "        yield a\n",
    "        a, b = b, a + b\n",
    "\n",
    "for num in fibonacci(10):\n",
    "    print(num)"
   ]
  },
  {
   "cell_type": "markdown",
   "id": "7447e35a-99b7-49ea-b1bb-c719719a24ac",
   "metadata": {},
   "source": [
    "### Exercise 49:\n",
    "Write a Python function that takes a string and returns a list of all unique characters in the string.\n",
    "\n",
    "```python\n",
    "# Exercise 49"
   ]
  },
  {
   "cell_type": "code",
   "execution_count": 103,
   "id": "4822b83a-e6dd-4a11-aec8-b11a96ef630f",
   "metadata": {},
   "outputs": [
    {
     "name": "stdout",
     "output_type": "stream",
     "text": [
      "['o', 'h', 'd', 'w', 'r', ' ', 'l', 'e']\n"
     ]
    }
   ],
   "source": [
    "def unique_characters(s):\n",
    "    return list(set(s))\n",
    "\n",
    "my_string = \"hello world\"\n",
    "unique_chars = unique_characters(my_string)\n",
    "print(unique_chars)"
   ]
  },
  {
   "cell_type": "markdown",
   "id": "84eb03c3-5db0-46d2-b383-277b311eb653",
   "metadata": {},
   "source": [
    "### Exercise 50:\n",
    "Write a Python function that merges two sorted lists into a single sorted list.\n",
    "\n",
    "```python\n",
    "# Exercise 50"
   ]
  },
  {
   "cell_type": "code",
   "execution_count": 104,
   "id": "c6ebe812-4b39-4b15-8653-fafe319192bc",
   "metadata": {},
   "outputs": [
    {
     "name": "stdout",
     "output_type": "stream",
     "text": [
      "[1, 2, 3, 4, 5, 6]\n"
     ]
    }
   ],
   "source": [
    "def merge_sorted_lists(list1, list2):\n",
    "    merged = []\n",
    "    i = j = 0\n",
    "\n",
    "    # Merge the lists\n",
    "    while i < len(list1) and j < len(list2):\n",
    "        if list1[i] < list2[j]:\n",
    "            merged.append(list1[i])\n",
    "            i += 1\n",
    "        else:\n",
    "            merged.append(list2[j])\n",
    "            j += 1\n",
    "\n",
    "    # Add remaining elements\n",
    "    while i < len(list1):\n",
    "        merged.append(list1[i])\n",
    "        i += 1\n",
    "\n",
    "    while j < len(list2):\n",
    "        merged.append(list2[j])\n",
    "        j += 1\n",
    "\n",
    "    return merged\n",
    "\n",
    "# Example usage\n",
    "list_a = [1, 3, 5]\n",
    "list_b = [2, 4, 6]\n",
    "result = merge_sorted_lists(list_a, list_b)\n",
    "print(result)"
   ]
  },
  {
   "cell_type": "markdown",
   "id": "94ba90fd-567e-45e5-bc27-a8a8ae4efc76",
   "metadata": {},
   "source": [
    "### Exercise 51:\n",
    "Use the\n",
    "\n",
    " `filter()` function to filter out odd numbers from the list `[1, 2, 3, 4, 5, 6]`.\n",
    "\n",
    "```python\n",
    "# Exercise 51"
   ]
  },
  {
   "cell_type": "code",
   "execution_count": 105,
   "id": "8302d7fc-8d79-48c1-ada0-f5aede18a8d2",
   "metadata": {},
   "outputs": [
    {
     "name": "stdout",
     "output_type": "stream",
     "text": [
      "[2, 4, 6]\n"
     ]
    }
   ],
   "source": [
    "numbers = [1, 2, 3, 4, 5, 6]\n",
    "# Filter odd numbers\n",
    "even_numbers = list(filter(lambda x: x % 2 == 0, numbers))\n",
    "print(even_numbers)"
   ]
  },
  {
   "cell_type": "markdown",
   "id": "6177d39b-7c5d-4d5e-a524-d1dc0251ccb7",
   "metadata": {},
   "source": [
    "### Exercise 52:\n",
    "Write a Python program that converts a list of tuples `[(1, 2), (3, 4), (5, 6)]` into a dictionary.\n",
    "\n",
    "```python\n",
    "# Exercise 52"
   ]
  },
  {
   "cell_type": "code",
   "execution_count": 106,
   "id": "1d299337-ce80-46af-9a08-ab36dff78380",
   "metadata": {},
   "outputs": [
    {
     "name": "stdout",
     "output_type": "stream",
     "text": [
      "{1: 2, 3: 4, 5: 6}\n"
     ]
    }
   ],
   "source": [
    "# List of tuples\n",
    "tuple_list = [(1, 2), (3, 4), (5, 6)]\n",
    "\n",
    "# Convert into a dictionary\n",
    "result_dict = dict(tuple_list)\n",
    "print(result_dict)"
   ]
  },
  {
   "cell_type": "markdown",
   "id": "e6862421-ddce-4f2b-8454-bce3e71438ed",
   "metadata": {},
   "source": [
    "### Exercise 54:\n",
    "Write a Python program that finds the common elements in three lists `list1`, `list2`, and `list3`.\n",
    "\n",
    "```python\n",
    "# Exercise 54"
   ]
  },
  {
   "cell_type": "code",
   "execution_count": 108,
   "id": "3abb32e8-6910-4d33-b24d-ec838e6e128a",
   "metadata": {},
   "outputs": [
    {
     "name": "stdout",
     "output_type": "stream",
     "text": [
      "[2, 3]\n"
     ]
    }
   ],
   "source": [
    "#  lists\n",
    "list1 = [1, 2, 3, 4, 7]\n",
    "list2 = [2, 3, 5, 6]\n",
    "list3 = [0, 2, 3, 7]\n",
    "\n",
    "# Using set intersection\n",
    "common_elements = list(set(list1) & set(list2) & set(list3))\n",
    "print(common_elements)"
   ]
  },
  {
   "cell_type": "markdown",
   "id": "ef702fa4-e8fb-49ba-8d71-502339439e67",
   "metadata": {},
   "source": [
    "### Exercise 55:\n",
    "Write a Python function that returns the factorial of a number using recursion.\n",
    "\n",
    "```python\n",
    "# Exercise 55"
   ]
  },
  {
   "cell_type": "code",
   "execution_count": 109,
   "id": "36525b0f-eae7-480d-bf98-9696ad456385",
   "metadata": {},
   "outputs": [
    {
     "name": "stdout",
     "output_type": "stream",
     "text": [
      "120\n"
     ]
    }
   ],
   "source": [
    "def factorial(n):\n",
    "    if n == 0 or n == 1:  # case predefine\n",
    "        return 1\n",
    "    else:\n",
    "        return n * factorial(n - 1)  # Recursive call\n",
    "\n",
    "print(factorial(5))"
   ]
  },
  {
   "cell_type": "markdown",
   "id": "4aacaed1-05fe-4693-b789-a29674fd123d",
   "metadata": {},
   "source": [
    "### Exercise 56:\n",
    "Write a Python program that removes all empty strings from the list `[\"apple\", \"\", \"banana\", \"\", \"cherry\"]`.\n",
    "\n",
    "```python\n",
    "# Exercise 56"
   ]
  },
  {
   "cell_type": "code",
   "execution_count": 110,
   "id": "4cb83654-bfb1-4dbb-bb6f-d0ed701a1ed7",
   "metadata": {},
   "outputs": [
    {
     "name": "stdout",
     "output_type": "stream",
     "text": [
      "['apple', 'banana', 'cherry']\n"
     ]
    }
   ],
   "source": [
    "# list\n",
    "fruits = [\"apple\", \"\", \"banana\", \"\", \"cherry\"]\n",
    "\n",
    "# Remove empty strings\n",
    "non_empty_fruits = [fruit for fruit in fruits if fruit != \"\"]\n",
    "print(non_empty_fruits)"
   ]
  },
  {
   "cell_type": "markdown",
   "id": "6bfa90e0-1851-46b6-a951-3e6d114d3df6",
   "metadata": {},
   "source": [
    "### Exercise 57:\n",
    "Write a Python function that takes a dictionary and returns a new dictionary with the keys and values swapped.\n",
    "\n",
    "```python\n",
    "# Exercise 57"
   ]
  },
  {
   "cell_type": "code",
   "execution_count": 111,
   "id": "d19e38f4-2e16-4a54-8973-6d5f56f3d27a",
   "metadata": {},
   "outputs": [
    {
     "name": "stdout",
     "output_type": "stream",
     "text": [
      "{1: 'a', 2: 'b', 3: 'c'}\n"
     ]
    }
   ],
   "source": [
    "def swap_keys_values(d):\n",
    "    return {v: k for k, v in d.items()}\n",
    "my_dict = {\"a\": 1, \"b\": 2, \"c\": 3}\n",
    "swapped_dict = swap_keys_values(my_dict)\n",
    "print(swapped_dict)"
   ]
  },
  {
   "cell_type": "markdown",
   "id": "d6df3239-6d05-44d3-ad26-5e2ece359594",
   "metadata": {},
   "source": [
    "### Exercise 58:\n",
    "Write a Python function that takes a list of integers and returns a new list with only the even numbers.\n",
    "\n",
    "```python\n",
    "# Exercise 58"
   ]
  },
  {
   "cell_type": "code",
   "execution_count": 112,
   "id": "a66ef954-c1ab-4f7d-9835-55cc616a77c2",
   "metadata": {},
   "outputs": [
    {
     "name": "stdout",
     "output_type": "stream",
     "text": [
      "[2, 4, 6]\n"
     ]
    }
   ],
   "source": [
    "def get_even_numbers(numbers):\n",
    "    return [num for num in numbers if num % 2 == 0]\n",
    "\n",
    "my_list = [1, 2, 3, 4, 5, 6]\n",
    "even_numbers = get_even_numbers(my_list)\n",
    "print(even_numbers)"
   ]
  },
  {
   "cell_type": "markdown",
   "id": "a2f75921-9c7e-4877-bedd-7d3c4eddd318",
   "metadata": {},
   "source": [
    "### Exercise 59:\n",
    "Write a Python function that takes a list of tuples and returns a list of the first elements of each tuple.\n",
    "\n",
    "```python\n",
    "# Exercise 59"
   ]
  },
  {
   "cell_type": "code",
   "execution_count": 113,
   "id": "fa5be88a-d1dd-471b-922a-8af2ff01bd6b",
   "metadata": {},
   "outputs": [
    {
     "name": "stdout",
     "output_type": "stream",
     "text": [
      "[1, 2, 3]\n"
     ]
    }
   ],
   "source": [
    "def first_elements(tuple_list):\n",
    "    return [t[0] for t in tuple_list]\n",
    "\n",
    "my_tuples = [(1, 'a'), (2, 'b'), (3, 'c')]\n",
    "result = first_elements(my_tuples)\n",
    "print(result)"
   ]
  },
  {
   "cell_type": "markdown",
   "id": "3f2a0fda-6277-450a-844a-b0d907f392d6",
   "metadata": {},
   "source": [
    "### Exercise 60:\n",
    "Write a Python program that removes duplicates from a list without changing the order of elements.\n",
    "\n",
    "```python\n",
    "# Exercise 60"
   ]
  },
  {
   "cell_type": "code",
   "execution_count": 114,
   "id": "a7505ede-8e44-482d-8620-8b32f8c918aa",
   "metadata": {},
   "outputs": [
    {
     "name": "stdout",
     "output_type": "stream",
     "text": [
      "[1, 2, 3, 4, 5]\n"
     ]
    }
   ],
   "source": [
    "#list\n",
    "numbers = [1, 2, 2, 3, 4, 4, 5]\n",
    "# Remove duplicates while preserving order\n",
    "unique_numbers = []\n",
    "for num in numbers:\n",
    "    if num not in unique_numbers:\n",
    "        unique_numbers.append(num)\n",
    "\n",
    "print(unique_numbers)"
   ]
  },
  {
   "cell_type": "markdown",
   "id": "dd239b83-82ad-4ea2-b3ca-af9c4ffc134c",
   "metadata": {},
   "source": [
    "### Exercise 61:\n",
    "Use the `map()` function to convert a list of strings to a list of their lengths.\n",
    "\n",
    "```python\n",
    "# Exercise 61"
   ]
  },
  {
   "cell_type": "code",
   "execution_count": 115,
   "id": "601f4967-d64e-494f-83ab-07cd4504779e",
   "metadata": {},
   "outputs": [
    {
     "name": "stdout",
     "output_type": "stream",
     "text": [
      "[5, 6, 6]\n"
     ]
    }
   ],
   "source": [
    "# List of string\n",
    "words = [\"apple\", \"banana\", \"cherry\"]\n",
    "\n",
    "# Using map to get lengths\n",
    "lengths = list(map(len, words))\n",
    "print(lengths)"
   ]
  },
  {
   "cell_type": "markdown",
   "id": "9fd795d3-a178-44ab-b716-c94e0a3caa9c",
   "metadata": {},
   "source": [
    "### Exercise 62:\n",
    "Write a Python program that calculates the average of a list of numbers.\n",
    "\n",
    "```python\n",
    "# Exercise 62"
   ]
  },
  {
   "cell_type": "code",
   "execution_count": 116,
   "id": "5a3d55c5-9c97-4e59-a260-6fdac2d57900",
   "metadata": {},
   "outputs": [
    {
     "name": "stdout",
     "output_type": "stream",
     "text": [
      "Average: 30.0\n"
     ]
    }
   ],
   "source": [
    "# List of numbers\n",
    "numbers = [10, 20, 30, 40, 50]\n",
    "# Calculate average\n",
    "average = sum(numbers) / len(numbers)\n",
    "print(\"Average:\", average)"
   ]
  },
  {
   "cell_type": "markdown",
   "id": "545b6b0b-1f11-4dc8-ab49-ec824da26d06",
   "metadata": {},
   "source": [
    "### Exercise 63:\n",
    "Write a Python function that generates a list of the first `n` Fibonacci numbers.\n",
    "\n",
    "```python\n",
    "# Exercise 63"
   ]
  },
  {
   "cell_type": "code",
   "execution_count": 8,
   "id": "2a038f72-4e5e-4dd4-bb92-c57b852be00b",
   "metadata": {},
   "outputs": [
    {
     "name": "stdout",
     "output_type": "stream",
     "text": [
      "[0, 1, 1, 2, 3, 5, 8, 13, 21, 34]\n"
     ]
    }
   ],
   "source": [
    "def fibonacci_list(n):\n",
    "    if n <= 0:\n",
    "        return []\n",
    "    elif n == 1:\n",
    "        return [0]\n",
    "    \n",
    "    fib = [0, 1]\n",
    "    while len(fib) < n:\n",
    "        fib.append(fib[-1] + fib[-2])\n",
    "    return fib\n",
    "\n",
    "print(fibonacci_list(10))"
   ]
  },
  {
   "cell_type": "markdown",
   "id": "80bd317c-8769-406e-8ef3-36b6b61144c1",
   "metadata": {},
   "source": [
    "### Exercise 64:\n",
    "Write a Python program that counts how many times each element appears in the list `[\"apple\", \"banana\", \"apple\", \"cherry\"]`.\n",
    "\n",
    "```python\n",
    "# Exercise 64"
   ]
  },
  {
   "cell_type": "code",
   "execution_count": 9,
   "id": "31346b24-e4f3-4d6e-8688-0169a549205b",
   "metadata": {},
   "outputs": [
    {
     "name": "stdout",
     "output_type": "stream",
     "text": [
      "{'apple': 2, 'banana': 1, 'cherry': 1}\n"
     ]
    }
   ],
   "source": [
    "#  list\n",
    "fruits = [\"apple\", \"banana\", \"apple\", \"cherry\"]\n",
    "\n",
    "# Use a dictionary to count occurrences\n",
    "count_dict = {}\n",
    "for fruit in fruits:\n",
    "    if fruit in count_dict:\n",
    "        count_dict[fruit] += 1\n",
    "    else:\n",
    "        count_dict[fruit] = 1\n",
    "\n",
    "print(count_dict)"
   ]
  },
  {
   "cell_type": "markdown",
   "id": "20773551-8d9b-4e5f-94f0-9d6d1899d4db",
   "metadata": {},
   "source": [
    "### Exercise 65:\n",
    "Write a Python program that removes all occurrences of a specific value from a list.\n",
    "\n",
    "```python\n",
    "# Exercise 65"
   ]
  },
  {
   "cell_type": "code",
   "execution_count": 10,
   "id": "333e627b-9bfc-4fec-8163-db781be0a163",
   "metadata": {},
   "outputs": [
    {
     "name": "stdout",
     "output_type": "stream",
     "text": [
      "[1, 3, 4, 5]\n"
     ]
    }
   ],
   "source": [
    "#  list\n",
    "numbers = [1, 2, 3, 2, 4, 2, 5]\n",
    "\n",
    "# Value to remove\n",
    "value_to_remove = 2\n",
    "\n",
    "# Remove all occurrences using list comprehension\n",
    "filtered_list = [num for num in numbers if num != value_to_remove]\n",
    "print(filtered_list)"
   ]
  },
  {
   "cell_type": "markdown",
   "id": "14c0a5fb-a315-46db-a9d1-ea8ab5401f02",
   "metadata": {},
   "source": [
    "### Exercise 66:\n",
    "Write a Python function that takes a list of strings and returns a list of the strings that start with a vowel.\n",
    "\n",
    "```python\n",
    "# Exercise 66"
   ]
  },
  {
   "cell_type": "code",
   "execution_count": 123,
   "id": "8f8763ee-1bba-4481-84ac-93afc77cfd7b",
   "metadata": {},
   "outputs": [
    {
     "name": "stdout",
     "output_type": "stream",
     "text": [
      "['apple', 'orange', 'umbrella']\n"
     ]
    }
   ],
   "source": [
    "def starts_with_vowel(words):\n",
    "    vowels = \"aeiouAEIOU\"\n",
    "    return [word for word in words if word and word[0] in vowels]\n",
    "\n",
    "my_list = [\"apple\", \"banana\", \"orange\", \"grape\", \"umbrella\"]\n",
    "result = starts_with_vowel(my_list)\n",
    "print(result)"
   ]
  },
  {
   "cell_type": "markdown",
   "id": "817ced4a-994f-4e18-89e7-f7dd6c8ef5a7",
   "metadata": {},
   "source": [
    "### Exercise 67:\n",
    "Write a Python program that finds the intersection of two sets `set1` and `set2`.\n",
    "\n",
    "```python\n",
    "# Exercise 67"
   ]
  },
  {
   "cell_type": "code",
   "execution_count": 124,
   "id": "a612291c-414b-4a40-93d4-c7563ef9dd04",
   "metadata": {},
   "outputs": [
    {
     "name": "stdout",
     "output_type": "stream",
     "text": [
      "{3, 4}\n"
     ]
    }
   ],
   "source": [
    "# sets\n",
    "set1 = {1, 2, 3, 4}\n",
    "set2 = {3, 4, 5, 6}\n",
    "\n",
    "# Find intersection\n",
    "intersection = set1 & set2\n",
    "print(intersection)"
   ]
  },
  {
   "cell_type": "markdown",
   "id": "fcd68847-60bd-4e52-941b-b60e392e92e6",
   "metadata": {},
   "source": [
    "### Exercise 68:\n",
    "Write a Python function that flattens a nested list.\n",
    "\n",
    "```python\n",
    "# Exercise 68"
   ]
  },
  {
   "cell_type": "code",
   "execution_count": 125,
   "id": "05020da2-5de0-49a9-9917-78b3537bd029",
   "metadata": {},
   "outputs": [
    {
     "name": "stdout",
     "output_type": "stream",
     "text": [
      "[1, 2, 3, 4, 5, 6]\n"
     ]
    }
   ],
   "source": [
    "def flatten_list(nested_list):\n",
    "    flat_list = []\n",
    "    for element in nested_list:\n",
    "        if isinstance(element, list):\n",
    "            flat_list.extend(flatten_list(element))  # Recursive call\n",
    "        else:\n",
    "            flat_list.append(element)\n",
    "    return flat_list\n",
    "\n",
    "# Example usage\n",
    "nested = [1, [2, [3, 4], 5], 6]\n",
    "flattened = flatten_list(nested)\n",
    "print(flattened)"
   ]
  },
  {
   "cell_type": "markdown",
   "id": "8a4c6ed9-ecd8-4c62-989e-a63119de18ed",
   "metadata": {},
   "source": [
    "### Exercise 69:\n",
    "Write a Python program that checks if all the elements in a list are unique.\n",
    "\n",
    "```python\n",
    "# Exercise 69"
   ]
  },
  {
   "cell_type": "code",
   "execution_count": 126,
   "id": "5ecdec15-74f4-4baf-b4fe-7e28eccbea38",
   "metadata": {},
   "outputs": [
    {
     "name": "stdout",
     "output_type": "stream",
     "text": [
      "True\n"
     ]
    }
   ],
   "source": [
    "# list\n",
    "numbers = [1, 2, 3, 4, 5]\n",
    "\n",
    "# Check uniqueness\n",
    "all_unique = len(numbers) == len(set(numbers))\n",
    "print(all_unique)"
   ]
  },
  {
   "cell_type": "markdown",
   "id": "3cd8c269-15f5-499b-a011-569094f900ce",
   "metadata": {},
   "source": [
    "### Exercise 70:\n",
    "Use the `reduce()` function from the `functools` module to multiply all elements in a list.\n",
    "\n",
    "```python\n",
    "# Exercise 70"
   ]
  },
  {
   "cell_type": "code",
   "execution_count": 127,
   "id": "d817e2f7-5b8f-441f-8105-155bd77b568a",
   "metadata": {},
   "outputs": [
    {
     "name": "stdout",
     "output_type": "stream",
     "text": [
      "120\n"
     ]
    }
   ],
   "source": [
    "from functools import reduce\n",
    "\n",
    "numbers = [1, 2, 3, 4, 5]\n",
    "\n",
    "# Multiply all elements using reduce\n",
    "product = reduce(lambda x, y: x * y, numbers)\n",
    "print(product)"
   ]
  },
  {
   "cell_type": "markdown",
   "id": "910282af-e87e-4bb0-8597-bde496764fcc",
   "metadata": {},
   "source": [
    "### Exercise 71:\n",
    "Write a Python function that takes a list of strings and returns a dictionary where keys are strings and values are their lengths.\n",
    "\n",
    "```python\n",
    "# Exercise 71"
   ]
  },
  {
   "cell_type": "code",
   "execution_count": 128,
   "id": "ae371573-1380-4865-92c0-e2ddc2294652",
   "metadata": {},
   "outputs": [
    {
     "name": "stdout",
     "output_type": "stream",
     "text": [
      "{'apple': 5, 'banana': 6, 'cherry': 6}\n"
     ]
    }
   ],
   "source": [
    "def strings_to_lengths(strings):\n",
    "    return {s: len(s) for s in strings}\n",
    "\n",
    "words = [\"apple\", \"banana\", \"cherry\"]\n",
    "result = strings_to_lengths(words)\n",
    "print(result)"
   ]
  },
  {
   "cell_type": "markdown",
   "id": "29c42654-7e0b-4e7b-a6b0-5cd72a866bcd",
   "metadata": {},
   "source": [
    "### Exercise 72:\n",
    "Write a Python program that counts the number of vowels in a string.\n",
    "\n",
    "```python\n",
    "# Exercise 72"
   ]
  },
  {
   "cell_type": "code",
   "execution_count": 129,
   "id": "742c6171-c545-4e77-9c6d-bb8049eb24fd",
   "metadata": {},
   "outputs": [
    {
     "name": "stdout",
     "output_type": "stream",
     "text": [
      "Number of vowels: 3\n"
     ]
    }
   ],
   "source": [
    "# Astring\n",
    "text = \"Hello World\"\n",
    "\n",
    "# Define vowels\n",
    "vowels = \"aeiouAEIOU\"\n",
    "\n",
    "# Count vowels using a loop\n",
    "count = sum(1 for char in text if char in vowels)\n",
    "print(\"Number of vowels:\", count)"
   ]
  },
  {
   "cell_type": "markdown",
   "id": "434ab112-770e-4193-9fd7-cb3edfc12b11",
   "metadata": {},
   "source": [
    "### Exercise 73:\n",
    "Create a list of tuples where each tuple contains a number from 1 to 5 and its factorial.\n",
    "\n",
    "```python\n",
    "# Exercise 73"
   ]
  },
  {
   "cell_type": "code",
   "execution_count": 130,
   "id": "23e865ba-c26d-4cc3-8724-d509213ccc40",
   "metadata": {},
   "outputs": [
    {
     "name": "stdout",
     "output_type": "stream",
     "text": [
      "[(1, 1), (2, 2), (3, 6), (4, 24), (5, 120)]\n"
     ]
    }
   ],
   "source": [
    "import math\n",
    "\n",
    "# Create list of tuples (number, factorial)\n",
    "factorial_list = [(i, math.factorial(i)) for i in range(1, 6)]\n",
    "print(factorial_list)"
   ]
  },
  {
   "cell_type": "markdown",
   "id": "da3af0d5-b9e2-47f1-a0fc-464705d072bf",
   "metadata": {},
   "source": [
    "### Exercise 74:\n",
    "Write a Python program that converts a list of dictionaries into a single dictionary by merging them.\n",
    "\n",
    "```python\n",
    "# Exercise 74"
   ]
  },
  {
   "cell_type": "code",
   "execution_count": 131,
   "id": "b1d223ae-e856-43d7-a270-07e0bd95b8cf",
   "metadata": {},
   "outputs": [
    {
     "name": "stdout",
     "output_type": "stream",
     "text": [
      "{'a': 1, 'b': 5, 'c': 3, 'd': 4}\n"
     ]
    }
   ],
   "source": [
    "# List of dictionaries\n",
    "dict_list = [{\"a\": 1, \"b\": 2}, {\"c\": 3}, {\"d\": 4, \"b\": 5}]\n",
    "\n",
    "# Merge dictionaries\n",
    "merged_dict = {}\n",
    "for d in dict_list:\n",
    "    merged_dict.update(d)\n",
    "\n",
    "print(merged_dict)"
   ]
  },
  {
   "cell_type": "markdown",
   "id": "9cce557c-b7e2-4f17-81bb-1be9685f73d8",
   "metadata": {},
   "source": [
    "### Exercise 75:\n",
    "Write a Python function that checks if a set is a subset of another set.\n",
    "\n",
    "```python\n",
    "# Exercise 75"
   ]
  },
  {
   "cell_type": "code",
   "execution_count": 132,
   "id": "2a5af039-593f-4a09-a536-8aa73d751ea3",
   "metadata": {},
   "outputs": [
    {
     "name": "stdout",
     "output_type": "stream",
     "text": [
      "True\n",
      "False\n"
     ]
    }
   ],
   "source": [
    "def is_subset(set1, set2):\n",
    "    return set1.issubset(set2)\n",
    "\n",
    "a = {1, 2, 3}\n",
    "b = {1, 2, 3, 4, 5}\n",
    "\n",
    "print(is_subset(a, b))  \n",
    "print(is_subset(b, a))  "
   ]
  },
  {
   "cell_type": "markdown",
   "id": "a2d92133-502a-49b9-bc1f-2cef033fc158",
   "metadata": {},
   "source": [
    "### Exercise 76:\n",
    "Write a Python program that sorts a list of tuples based on the second element in each tuple.\n",
    "\n",
    "```python\n",
    "# Exercise 76"
   ]
  },
  {
   "cell_type": "code",
   "execution_count": 133,
   "id": "d29df84b-8c9f-4b84-919e-2a1cc9684b51",
   "metadata": {},
   "outputs": [
    {
     "name": "stdout",
     "output_type": "stream",
     "text": [
      "[(2, 1), (4, 2), (1, 3), (3, 5)]\n"
     ]
    }
   ],
   "source": [
    "# List of tuples\n",
    "tuples_list = [(1, 3), (2, 1), (4, 2), (3, 5)]\n",
    "\n",
    "# Sort based on the second element\n",
    "sorted_list = sorted(tuples_list, key=lambda x: x[1])\n",
    "print(sorted_list)"
   ]
  },
  {
   "cell_type": "markdown",
   "id": "9eed4fe9-01a3-4ea5-9df3-a13e58638f74",
   "metadata": {},
   "source": [
    "### Exercise 77:\n",
    "Write a Python function that takes a list of integers and returns a new list with only the positive integers.\n",
    "\n",
    "```python\n",
    "# Exercise 77"
   ]
  },
  {
   "cell_type": "code",
   "execution_count": 134,
   "id": "8b26acf8-81f3-4fc5-8914-c8e4cd84126a",
   "metadata": {},
   "outputs": [
    {
     "name": "stdout",
     "output_type": "stream",
     "text": [
      "[2, 5, 4]\n"
     ]
    }
   ],
   "source": [
    "def positive_integers(numbers):\n",
    "    return [num for num in numbers if num > 0]\n",
    "\n",
    "# Example usage\n",
    "my_list = [-3, 2, -1, 5, 0, -7, 4]\n",
    "result = positive_integers(my_list)\n",
    "print(result)"
   ]
  },
  {
   "cell_type": "markdown",
   "id": "466e2862-6443-47fd-a2e0-22eb15160a9a",
   "metadata": {},
   "source": [
    "### Exercise 78:\n",
    "Write a Python function that takes two sets and returns their union.\n",
    "\n",
    "```python\n",
    "# Exercise 78"
   ]
  },
  {
   "cell_type": "code",
   "execution_count": 135,
   "id": "6c591dd4-46b8-45bb-a33e-d8d07879ab89",
   "metadata": {},
   "outputs": [
    {
     "name": "stdout",
     "output_type": "stream",
     "text": [
      "{1, 2, 3, 4, 5}\n"
     ]
    }
   ],
   "source": [
    "def union_sets(set1, set2):\n",
    "    return set1.union(set2)\n",
    "\n",
    "# Example usage\n",
    "a = {1, 2, 3}\n",
    "b = {3, 4, 5}\n",
    "\n",
    "result = union_sets(a, b)\n",
    "print(result)"
   ]
  },
  {
   "cell_type": "markdown",
   "id": "096efd51-e2a6-4949-85c5-54fc62106c09",
   "metadata": {},
   "source": [
    "### Exercise 79:\n",
    "Write a Python function that takes a list of numbers and returns the product of all the numbers.\n",
    "\n",
    "```python\n",
    "# Exercise 79"
   ]
  },
  {
   "cell_type": "code",
   "execution_count": 140,
   "id": "3633aab9-2f60-453a-b9c1-be03a72ee08f",
   "metadata": {},
   "outputs": [
    {
     "name": "stdout",
     "output_type": "stream",
     "text": [
      "120\n"
     ]
    }
   ],
   "source": [
    "from functools import reduce\n",
    "\n",
    "def product_of_list(numbers):\n",
    "    return reduce(lambda x, y: x * y, numbers, 1)  # 1 is the initial value\n",
    "\n",
    "my_list = [1, 2, 3, 4, 5]\n",
    "result = product_of_list(my_list)\n",
    "print(result)"
   ]
  },
  {
   "cell_type": "markdown",
   "id": "5db02c85-b1f3-49f9-884e-25dd258105b9",
   "metadata": {},
   "source": [
    "### Exercise 80:\n",
    "Write a Python program that converts a list of characters into a string.\n",
    "\n",
    "```python\n",
    "# Exercise 80"
   ]
  },
  {
   "cell_type": "code",
   "execution_count": 141,
   "id": "d10c4828-87b3-4faf-b97f-a77e0cd901a0",
   "metadata": {},
   "outputs": [
    {
     "name": "stdout",
     "output_type": "stream",
     "text": [
      "Hello\n"
     ]
    }
   ],
   "source": [
    "# List of characters\n",
    "char_list = ['H', 'e', 'l', 'l', 'o']\n",
    "\n",
    "# Convert list to string\n",
    "result_string = ''.join(char_list)\n",
    "print(result_string)"
   ]
  },
  {
   "cell_type": "markdown",
   "id": "acc5290e-d690-4456-a0ad-fdcbadf75f3f",
   "metadata": {},
   "source": [
    "### Exercise 81:\n",
    "Write a Python program that finds the second largest number in a list of integers.\n",
    "\n",
    "```python\n",
    "# Exercise 81"
   ]
  },
  {
   "cell_type": "code",
   "execution_count": 144,
   "id": "9f4ad31a-fe71-4add-bc95-4c2cac284549",
   "metadata": {},
   "outputs": [
    {
     "name": "stdout",
     "output_type": "stream",
     "text": [
      " The Second largest number is 45\n"
     ]
    }
   ],
   "source": [
    "# list\n",
    "numbers = [10, 20, 4, 45, 99, 99]\n",
    "\n",
    "# Remove duplicates and sort\n",
    "unique_numbers = list(set(numbers))\n",
    "unique_numbers.sort()\n",
    "\n",
    "# Get the second largest\n",
    "if len(unique_numbers) >= 2:\n",
    "    second_largest = unique_numbers[-2]\n",
    "    print(\" The Second largest number is\", second_largest)\n",
    "else:\n",
    "    print(\"Not enough unique numbers to find the second largest.\")"
   ]
  },
  {
   "cell_type": "markdown",
   "id": "07546120-425a-4163-9b53-604d0f614bd9",
   "metadata": {},
   "source": [
    "### Exercise 82:\n",
    "Write a Python function that takes a dictionary and returns a list of its keys in sorted order.\n",
    "\n",
    "```python\n",
    "# Exercise 82"
   ]
  },
  {
   "cell_type": "code",
   "execution_count": 145,
   "id": "7344dc1c-2aa3-4d97-b3ac-dcf1dc0bd4a9",
   "metadata": {},
   "outputs": [
    {
     "name": "stdout",
     "output_type": "stream",
     "text": [
      "['apple', 'banana', 'cherry']\n"
     ]
    }
   ],
   "source": [
    "def sorted_keys(d):\n",
    "    return sorted(d.keys())\n",
    "\n",
    "# Example usage\n",
    "my_dict = {\"banana\": 3, \"apple\": 5, \"cherry\": 2}\n",
    "result = sorted_keys(my_dict)\n",
    "print(result)"
   ]
  },
  {
   "cell_type": "markdown",
   "id": "7187ca5f-f6c4-4975-a0a7-cd7d41c819c6",
   "metadata": {},
   "source": [
    "### Exercise 83:\n",
    "Write a Python program that finds the most common element in a list.\n",
    "\n",
    "```python\n",
    "# Exercise 83"
   ]
  },
  {
   "cell_type": "code",
   "execution_count": 146,
   "id": "7ef9f28b-52b3-4e7a-aa1d-094525b9432c",
   "metadata": {},
   "outputs": [
    {
     "name": "stdout",
     "output_type": "stream",
     "text": [
      "Most common element: apple\n",
      "Count: 3\n"
     ]
    }
   ],
   "source": [
    "from collections import Counter\n",
    "\n",
    "# list\n",
    "elements = [\"apple\", \"banana\", \"apple\", \"cherry\", \"banana\", \"apple\"]\n",
    "\n",
    "# Count occurrences\n",
    "counter = Counter(elements)\n",
    "\n",
    "# Get the most common element\n",
    "most_common_element, count = counter.most_common(1)[0]\n",
    "print(\"Most common element:\", most_common_element)\n",
    "print(\"Count:\", count)"
   ]
  },
  {
   "cell_type": "markdown",
   "id": "6448be13-eeea-4f59-b3d4-b5d55fca7c2f",
   "metadata": {},
   "source": [
    "### Exercise 84:\n",
    "Write a Python function that takes a list of tuples and returns a list of the tuples sorted by the first element.\n",
    "\n",
    "```python\n",
    "# Exercise 84"
   ]
  },
  {
   "cell_type": "code",
   "execution_count": 11,
   "id": "c94bae37-a4b3-4875-9a30-cdf78d712c80",
   "metadata": {},
   "outputs": [
    {
     "name": "stdout",
     "output_type": "stream",
     "text": [
      "[(1, 'a'), (2, 'b'), (3, 'c')]\n"
     ]
    }
   ],
   "source": [
    "def sort_by_first_element(tuple_list):\n",
    "    return sorted(tuple_list, key=lambda x: x[0])\n",
    "\n",
    "tuples = [(3, 'c'), (1, 'a'), (2, 'b')]\n",
    "sorted_tuples = sort_by_first_element(tuples)\n",
    "print(sorted_tuples)"
   ]
  },
  {
   "cell_type": "markdown",
   "id": "aeed99d6-8ced-4f45-8631-667cef8cd606",
   "metadata": {},
   "source": [
    "### Exercise 85:\n",
    "Write a Python program that removes duplicates from a list of dictionaries.\n",
    "\n",
    "```python\n",
    "# Exercise 85"
   ]
  },
  {
   "cell_type": "code",
   "execution_count": 148,
   "id": "173e4dbf-ce7b-4649-8d2c-49b2efa58c10",
   "metadata": {},
   "outputs": [
    {
     "name": "stdout",
     "output_type": "stream",
     "text": [
      "[{'a': 1, 'b': 2}, {'c': 3}, {'d': 4}]\n"
     ]
    }
   ],
   "source": [
    "# List of dictionaries with duplicates\n",
    "dict_list = [\n",
    "    {\"a\": 1, \"b\": 2},\n",
    "    {\"c\": 3},\n",
    "    {\"a\": 1, \"b\": 2},\n",
    "    {\"d\": 4}\n",
    "]\n",
    "\n",
    "# Remove duplicates\n",
    "unique_dicts = []\n",
    "seen = set()\n",
    "for d in dict_list:\n",
    "    # Convert dictionary to a tuple of sorted items so it can be added to a set\n",
    "    t = tuple(sorted(d.items()))\n",
    "    if t not in seen:\n",
    "        seen.add(t)\n",
    "        unique_dicts.append(d)\n",
    "\n",
    "print(unique_dicts)"
   ]
  },
  {
   "cell_type": "markdown",
   "id": "04b25c4c-f5dd-43e7-b9eb-f7fc74ae93bd",
   "metadata": {},
   "source": [
    "### Exercise 86:\n",
    "Write a Python function that takes a list of numbers and returns the minimum and maximum numbers in the list.\n",
    "\n",
    "```python\n",
    "# Exercise 86"
   ]
  },
  {
   "cell_type": "code",
   "execution_count": 149,
   "id": "bc358696-c410-4aef-a435-7e90e1512406",
   "metadata": {},
   "outputs": [
    {
     "name": "stdout",
     "output_type": "stream",
     "text": [
      "Minimum: 2\n",
      "Maximum: 10\n"
     ]
    }
   ],
   "source": [
    "def min_max(numbers):\n",
    "    if not numbers:\n",
    "        return None, None  # Handle empty list\n",
    "    return min(numbers), max(numbers)\n",
    "\n",
    "# Example usage\n",
    "nums = [10, 3, 5, 7, 2, 8]\n",
    "minimum, maximum = min_max(nums)\n",
    "print(\"Minimum:\", minimum)\n",
    "print(\"Maximum:\", maximum)"
   ]
  },
  {
   "cell_type": "markdown",
   "id": "8375a830-a474-494d-bfb7-0b2717a1b634",
   "metadata": {},
   "source": [
    "### Exercise 87:\n",
    "Write a Python program that creates a list of tuples from two lists.\n",
    "\n",
    "```python\n",
    "# Exercise 87"
   ]
  },
  {
   "cell_type": "code",
   "execution_count": 150,
   "id": "9d0387a2-69f3-4018-9a66-05468e97def7",
   "metadata": {},
   "outputs": [
    {
     "name": "stdout",
     "output_type": "stream",
     "text": [
      "[(1, 'a'), (2, 'b'), (3, 'c')]\n"
     ]
    }
   ],
   "source": [
    "# Two lists\n",
    "list1 = [1, 2, 3]\n",
    "list2 = ['a', 'b', 'c']\n",
    "\n",
    "# Create list of tuples to use zip\n",
    "tuple_list = list(zip(list1, list2))\n",
    "print(tuple_list)"
   ]
  },
  {
   "cell_type": "markdown",
   "id": "0a7c7536-af81-4972-a366-31aef5da11f8",
   "metadata": {},
   "source": [
    "### Exercise 88:\n",
    "Write a Python function that takes a list of strings and returns a list of the strings in reverse order.\n",
    "\n",
    "```python\n",
    "# Exercise 88"
   ]
  },
  {
   "cell_type": "code",
   "execution_count": 151,
   "id": "a94eb45f-2645-4eed-970f-8abafdb9898c",
   "metadata": {},
   "outputs": [
    {
     "name": "stdout",
     "output_type": "stream",
     "text": [
      "['cherry', 'banana', 'apple']\n"
     ]
    }
   ],
   "source": [
    "def reverse_strings(strings):\n",
    "    return strings[::-1]\n",
    "\n",
    "# Example usage\n",
    "words = [\"apple\", \"banana\", \"cherry\"]\n",
    "reversed_words = reverse_strings(words)\n",
    "print(reversed_words)"
   ]
  },
  {
   "cell_type": "markdown",
   "id": "8936c9fd-4eb0-4ce8-a5f6-b8d0582d4274",
   "metadata": {},
   "source": [
    "### Exercise 89:\n",
    "Write a Python function that takes a list of integers and returns the sum of all odd numbers.\n",
    "\n",
    "```python\n",
    "# Exercise 89"
   ]
  },
  {
   "cell_type": "code",
   "execution_count": 152,
   "id": "2c4c88fe-9771-4d5f-bdd4-8c7ed122be9e",
   "metadata": {},
   "outputs": [
    {
     "name": "stdout",
     "output_type": "stream",
     "text": [
      "16\n"
     ]
    }
   ],
   "source": [
    "def sum_of_odds(numbers):\n",
    "    return sum(num for num in numbers if num % 2 != 0)\n",
    "\n",
    "nums = [1, 2, 3, 4, 5, 6, 7]\n",
    "result = sum_of_odds(nums)\n",
    "print(result)"
   ]
  },
  {
   "cell_type": "markdown",
   "id": "c334d993-b99b-4c38-962a-83e49c1fa3f7",
   "metadata": {},
   "source": [
    "### Exercise 90:\n",
    "Write a Python program that checks if a string is a palindrome.\n",
    "\n",
    "```python\n",
    "# Exercise 90"
   ]
  },
  {
   "cell_type": "code",
   "execution_count": 153,
   "id": "42bf623d-e527-4aa0-8085-c59a9fa30508",
   "metadata": {},
   "outputs": [
    {
     "name": "stdout",
     "output_type": "stream",
     "text": [
      "False\n"
     ]
    }
   ],
   "source": [
    "# string\n",
    "text = \"Dakar\"\n",
    "\n",
    "# Check if palindrome\n",
    "is_palindrome = text == text[::-1]\n",
    "print(is_palindrome)"
   ]
  },
  {
   "cell_type": "markdown",
   "id": "aad53f47-b6a8-48c9-b7f3-4ed3634d525a",
   "metadata": {},
   "source": [
    "### Exercise 91:\n",
    "Write a Python program that finds the median of a list of numbers.\n",
    "\n",
    "```python\n",
    "# Exercise 91"
   ]
  },
  {
   "cell_type": "code",
   "execution_count": 154,
   "id": "b53b79a3-0945-45a3-ba5f-71f256148784",
   "metadata": {},
   "outputs": [
    {
     "name": "stdout",
     "output_type": "stream",
     "text": [
      "Median: 23\n"
     ]
    }
   ],
   "source": [
    "# list\n",
    "numbers = [10, 2, 38, 23, 38, 23, 21]\n",
    "\n",
    "# Sort the list\n",
    "numbers.sort()\n",
    "\n",
    "# Calculate median\n",
    "n = len(numbers)\n",
    "if n % 2 == 1:\n",
    "    median = numbers[n // 2]  # Middle element for odd length\n",
    "else:\n",
    "    median = (numbers[n // 2 - 1] + numbers[n // 2]) / 2  # Average of middle two for even length\n",
    "\n",
    "print(\"Median:\", median)"
   ]
  },
  {
   "cell_type": "markdown",
   "id": "c97f3218-5150-469e-a780-4ec03eb2354f",
   "metadata": {},
   "source": [
    "### Exercise 92:\n",
    "Write a Python function that takes a list of dictionaries and returns a dictionary with the total value for each key.\n",
    "\n",
    "```python\n",
    "# Exercise 92"
   ]
  },
  {
   "cell_type": "code",
   "execution_count": 155,
   "id": "39334e7a-36b4-4ba7-b94d-56a053a267cc",
   "metadata": {},
   "outputs": [
    {
     "name": "stdout",
     "output_type": "stream",
     "text": [
      "{'a': 7, 'b': 6, 'c': 7}\n"
     ]
    }
   ],
   "source": [
    "def sum_dicts(dict_list):\n",
    "    total = {}\n",
    "    for d in dict_list:\n",
    "        for key, value in d.items():\n",
    "            total[key] = total.get(key, 0) + value\n",
    "    return total\n",
    "\n",
    "# Example usage\n",
    "dicts = [\n",
    "    {\"a\": 2, \"b\": 3},\n",
    "    {\"a\": 5, \"b\": 2, \"c\": 4},\n",
    "    {\"b\": 1, \"c\": 3}\n",
    "]\n",
    "\n",
    "result = sum_dicts(dicts)\n",
    "print(result)"
   ]
  },
  {
   "cell_type": "markdown",
   "id": "4281a064-9921-441f-87b7-7b4ee2cfa0eb",
   "metadata": {},
   "source": [
    "### Exercise 93:\n",
    "Write a Python program that calculates the mode of a list of numbers.\n",
    "\n",
    "```python\n",
    "# Exercise 93"
   ]
  },
  {
   "cell_type": "code",
   "execution_count": 156,
   "id": "70ca1fcc-7e1e-4216-84ce-a5b95013269a",
   "metadata": {},
   "outputs": [
    {
     "name": "stdout",
     "output_type": "stream",
     "text": [
      "Mode: [2, 3]\n"
     ]
    }
   ],
   "source": [
    "from collections import Counter\n",
    "\n",
    "# list\n",
    "numbers = [1, 2, 3, 2, 4, 2, 5, 3, 3]\n",
    "\n",
    "# Count occurrences\n",
    "counter = Counter(numbers)\n",
    "\n",
    "# Find the highest frequency\n",
    "max_count = max(counter.values())\n",
    "\n",
    "# Find all numbers with the highest frequency (handle multimodal)\n",
    "mode = [num for num, count in counter.items() if count == max_count]\n",
    "\n",
    "print(\"Mode:\", mode)"
   ]
  },
  {
   "cell_type": "markdown",
   "id": "a55fa81a-070d-49cf-ab1f-e8ce68363fb8",
   "metadata": {},
   "source": [
    "### Exercise 94:\n",
    "Write a Python function that takes a list of numbers and returns the sum of the squares of all the numbers.\n",
    "\n",
    "```python\n",
    "# Exercise 94"
   ]
  },
  {
   "cell_type": "code",
   "execution_count": 157,
   "id": "adedad1f-ac81-47a7-ad4e-5450715223d2",
   "metadata": {},
   "outputs": [
    {
     "name": "stdout",
     "output_type": "stream",
     "text": [
      "55\n"
     ]
    }
   ],
   "source": [
    "def sum_of_squares(numbers):\n",
    "    return sum(num ** 2 for num in numbers)\n",
    "\n",
    "# Example usage\n",
    "nums = [1, 2, 3, 4, 5]\n",
    "result = sum_of_squares(nums)\n",
    "print(result)"
   ]
  },
  {
   "cell_type": "markdown",
   "id": "5985b8d0-d83c-49f7-b7d7-1388e79ed318",
   "metadata": {},
   "source": [
    "### Exercise 95:\n",
    "Write a Python program that creates a list of tuples, where each tuple contains a number and its cube for numbers from 1 to 5.\n",
    "\n",
    "```python\n",
    "# Exercise 95"
   ]
  },
  {
   "cell_type": "code",
   "execution_count": 158,
   "id": "981dac67-1b17-483a-8b21-169ec4e98fad",
   "metadata": {},
   "outputs": [
    {
     "name": "stdout",
     "output_type": "stream",
     "text": [
      "[(1, 1), (2, 8), (3, 27), (4, 64), (5, 125)]\n"
     ]
    }
   ],
   "source": [
    "# Create list of tuples (number, cube)\n",
    "cube_list = [(i, i**3) for i in range(1, 6)]\n",
    "print(cube_list)"
   ]
  },
  {
   "cell_type": "markdown",
   "id": "3ca73a88-a1bc-4da3-9bc8-019258744603",
   "metadata": {},
   "source": [
    "### Exercise 96:\n",
    "Write a Python function that returns a list of all prime numbers up to `n`.\n",
    "\n",
    "```python\n",
    "# Exercise 96"
   ]
  },
  {
   "cell_type": "code",
   "execution_count": 12,
   "id": "1df9e2a3-095c-49a7-946b-6bfe3b9b407b",
   "metadata": {},
   "outputs": [
    {
     "name": "stdout",
     "output_type": "stream",
     "text": [
      "[2, 3, 5, 7, 11, 13, 17, 19]\n"
     ]
    }
   ],
   "source": [
    "def primes_up_to(n):\n",
    "    primes = []\n",
    "    for num in range(2, n + 1):\n",
    "        is_prime = True\n",
    "        for i in range(2, int(num ** 0.5) + 1):\n",
    "            if num % i == 0:\n",
    "                is_prime = False\n",
    "                break\n",
    "        if is_prime:\n",
    "            primes.append(num)\n",
    "    return primes\n",
    "\n",
    "print(primes_up_to(20))"
   ]
  },
  {
   "cell_type": "markdown",
   "id": "331596b6-1eb2-4380-a4b8-006eaa8f0a17",
   "metadata": {},
   "source": [
    "### Exercise 97:\n",
    "Write a Python program that finds the common keys between two dictionaries.\n",
    "\n",
    "```python\n",
    "# Exercise 97"
   ]
  },
  {
   "cell_type": "code",
   "execution_count": 160,
   "id": "79cf517e-1407-4678-8571-0ed8b9f31202",
   "metadata": {},
   "outputs": [
    {
     "name": "stdout",
     "output_type": "stream",
     "text": [
      "{'b', 'c'}\n"
     ]
    }
   ],
   "source": [
    "# dictionaries\n",
    "dict1 = {\"a\": 1, \"b\": 2, \"c\": 3}\n",
    "dict2 = {\"b\": 3, \"c\": 4, \"d\": 5}\n",
    "\n",
    "# Find common keys\n",
    "common_keys = dict1.keys() & dict2.keys()\n",
    "print(common_keys)"
   ]
  },
  {
   "cell_type": "markdown",
   "id": "7f7c95ba-88e0-4053-95a8-705070ca1292",
   "metadata": {},
   "source": [
    "### Exercise 98:\n",
    "Write a Python function that takes a list of strings and returns a list of the strings that contain more than 5 characters.\n",
    "\n",
    "```python\n",
    "# Exercise 98"
   ]
  },
  {
   "cell_type": "code",
   "execution_count": 161,
   "id": "f88ec70b-6b9d-452b-b95c-c60b5a50814f",
   "metadata": {},
   "outputs": [
    {
     "name": "stdout",
     "output_type": "stream",
     "text": [
      "['banana', 'cherry', 'watermelon']\n"
     ]
    }
   ],
   "source": [
    "def long_strings(strings):\n",
    "    return [s for s in strings if len(s) > 5]\n",
    "\n",
    "# Example usage\n",
    "words = [\"apple\", \"banana\", \"cherry\", \"fig\", \"watermelon\"]\n",
    "result = long_strings(words)\n",
    "print(result)"
   ]
  },
  {
   "cell_type": "markdown",
   "id": "fd241c71-282d-466a-aa20-b5d880de6c03",
   "metadata": {},
   "source": [
    "### Exercise 99:\n",
    "Write a Python program that converts a list of strings into a list of tuples, where each tuple contains the string and its length.\n",
    "\n",
    "```python\n",
    "# Exercise 99"
   ]
  },
  {
   "cell_type": "code",
   "execution_count": 162,
   "id": "cfa56e59-dbf4-4a38-9113-e84e1814db4e",
   "metadata": {},
   "outputs": [
    {
     "name": "stdout",
     "output_type": "stream",
     "text": [
      "[('apple', 5), ('banana', 6), ('cherry', 6)]\n"
     ]
    }
   ],
   "source": [
    "# Example list of strings\n",
    "words = [\"apple\", \"banana\", \"cherry\"]\n",
    "\n",
    "# Create list of tuples (string, length)\n",
    "tuple_list = [(word, len(word)) for word in words]\n",
    "print(tuple_list)"
   ]
  },
  {
   "cell_type": "markdown",
   "id": "287a9600-843e-4d89-bbcf-5479b1bf9920",
   "metadata": {},
   "source": [
    "### Exercise 100:\n",
    "Write a Python function that takes a list of dictionaries and returns a new dictionary by summing the values of each key across all dictionaries.\n",
    "\n",
    "```python\n",
    "# Exercise 100"
   ]
  },
  {
   "cell_type": "code",
   "execution_count": 163,
   "id": "885bc8f0-cdd9-40b0-a8f0-c4962651fdde",
   "metadata": {},
   "outputs": [
    {
     "name": "stdout",
     "output_type": "stream",
     "text": [
      "{'a': 7, 'b': 6, 'c': 7}\n"
     ]
    }
   ],
   "source": [
    "def sum_dict_values(dict_list):\n",
    "    total = {}\n",
    "    for d in dict_list:\n",
    "        for key, value in d.items():\n",
    "            total[key] = total.get(key, 0) + value\n",
    "    return total\n",
    "\n",
    "dicts = [{\"a\": 2, \"b\": 3},{\"a\": 5, \"b\": 2, \"c\": 4},{\"b\": 1, \"c\": 3}]\n",
    "\n",
    "result = sum_dict_values(dicts)\n",
    "print(result)"
   ]
  }
 ],
 "metadata": {
  "colab": {
   "provenance": []
  },
  "kernelspec": {
   "display_name": "Python 3 (ipykernel)",
   "language": "python",
   "name": "python3"
  },
  "language_info": {
   "codemirror_mode": {
    "name": "ipython",
    "version": 3
   },
   "file_extension": ".py",
   "mimetype": "text/x-python",
   "name": "python",
   "nbconvert_exporter": "python",
   "pygments_lexer": "ipython3",
   "version": "3.13.5"
  }
 },
 "nbformat": 4,
 "nbformat_minor": 5
}
