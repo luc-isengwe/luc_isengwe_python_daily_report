{
  "cells": [
    {
      "cell_type": "code",
      "execution_count": null,
      "metadata": {
        "id": "wAyfy4PYaKwB"
      },
      "outputs": [],
      "source": [
        "x = 25\n",
        "y = 5.3\n",
        "greetings = \"How are you?\""
      ]
    },
    {
      "cell_type": "code",
      "execution_count": null,
      "metadata": {
        "id": "I9vsTYT_aKwD",
        "colab": {
          "base_uri": "https://localhost:8080/"
        },
        "outputId": "b2cc7755-1068-43da-ac7e-ee2df9209a0e"
      },
      "outputs": [
        {
          "output_type": "stream",
          "name": "stdout",
          "text": [
            "25\n",
            "5.3\n",
            "How are you?\n"
          ]
        }
      ],
      "source": [
        "print(x)\n",
        "print(y)\n",
        "print(greetings)"
      ]
    },
    {
      "cell_type": "code",
      "execution_count": null,
      "metadata": {
        "id": "tX3HgnGOaKwD",
        "colab": {
          "base_uri": "https://localhost:8080/"
        },
        "outputId": "7250b4ee-1f8d-40a4-b486-17975fc7fe34"
      },
      "outputs": [
        {
          "output_type": "stream",
          "name": "stdout",
          "text": [
            "25 5.3 How are you?\n"
          ]
        }
      ],
      "source": [
        "print(x,y,greetings)"
      ]
    },
    {
      "cell_type": "code",
      "execution_count": null,
      "metadata": {
        "id": "PK_4rtfbaKwE",
        "colab": {
          "base_uri": "https://localhost:8080/"
        },
        "outputId": "7d293ee5-f069-4332-f152-85879beab3ee"
      },
      "outputs": [
        {
          "output_type": "stream",
          "name": "stdout",
          "text": [
            "15\n",
            "=======================\n",
            "15\n",
            "=======================\n",
            "15\n"
          ]
        }
      ],
      "source": [
        "x = y = z = 15\n",
        "print(x)\n",
        "print(\"=======================\")\n",
        "print(y)\n",
        "print(\"=======================\")\n",
        "print(z)"
      ]
    },
    {
      "cell_type": "code",
      "execution_count": null,
      "metadata": {
        "colab": {
          "base_uri": "https://localhost:8080/"
        },
        "id": "fvLR7SHzcaMS",
        "outputId": "ac49f05a-8dc3-484f-a05b-72401e82ef68"
      },
      "outputs": [
        {
          "output_type": "stream",
          "name": "stdout",
          "text": [
            "10.6 9 65.24\n"
          ]
        }
      ],
      "source": [
        "x, y , z= 10.6,     9,       65.24\n",
        "print(x,y,z)"
      ]
    },
    {
      "cell_type": "code",
      "execution_count": null,
      "metadata": {
        "id": "LVpvGqT7aKwG",
        "colab": {
          "base_uri": "https://localhost:8080/"
        },
        "outputId": "6466b1f2-9288-4113-cd5f-a69be25d7c8e"
      },
      "outputs": [
        {
          "output_type": "stream",
          "name": "stdout",
          "text": [
            "19.6 15.6 18 0.8666666666666667\n"
          ]
        }
      ],
      "source": [
        "\n",
        "z1 = x + y\n",
        "z2 = x + 5\n",
        "z3 = 2 * y\n",
        "z4 = z2/z3\n",
        "\n",
        "print(z1,z2,z3,z4)"
      ]
    },
    {
      "cell_type": "markdown",
      "metadata": {
        "id": "BIhPee9jaKwI"
      },
      "source": [
        "****\n",
        "**A Fundamental Exercise: Swapping the Contents of Two Variables**\n",
        "\n",
        "> Let's assume that the variables `x` and `y` have the values of integers $\\alpha$ and $\\beta$ respectively. The goal is to swap the contents of these two variables.\n",
        "\n",
        ">   - a. First Method: Propose a method that uses an auxiliary variable `tmp`.\n",
        "       ```python\n",
        "          tmp = x\n",
        "          x = y\n",
        "          y = tmp\n",
        "       ```\n",
        ">   - b. Second Method: Execute the following sequence of instructions:\n",
        "       ```python\n",
        "          x = x + y; y = x - y; x = x - y  \n",
        "       ```\n",
        "       \n",
        ">   - c. Third Method (the most \"Pythonic\"): Use parallel assignment.\n",
        "      ```python\n",
        "         x, y = y, x\n",
        "      ```   \n",
        "****\n",
        "\n",
        "Example:\n"
      ]
    },
    {
      "cell_type": "code",
      "source": [
        "# First Method\n",
        "x = 10\n",
        "y = 40\n",
        "print(x, y)\n",
        "print(\"================================================\")\n",
        "print('\\t')\n",
        "\n",
        "tmp = x\n",
        "x = y\n",
        "y = tmp\n",
        "print(x, y)"
      ],
      "metadata": {
        "colab": {
          "base_uri": "https://localhost:8080/"
        },
        "id": "VCda--DtiqDU",
        "outputId": "fc4f25e2-b71e-43ec-bdbe-1594ffcf1af8"
      },
      "execution_count": null,
      "outputs": [
        {
          "output_type": "stream",
          "name": "stdout",
          "text": [
            "10 40\n",
            "================================================\n",
            "\t\n",
            "40 10\n"
          ]
        }
      ]
    },
    {
      "cell_type": "code",
      "source": [
        "# Second Method\n",
        "\n",
        "x = 10\n",
        "y = 40\n",
        "print(x, y)\n",
        "print(\"================================================\")\n",
        "print('\\t')\n",
        "\n",
        "x = x + y; y = x - y; x = x - y\n",
        "print(x, y)"
      ],
      "metadata": {
        "colab": {
          "base_uri": "https://localhost:8080/"
        },
        "id": "-MuT2KxfjHLH",
        "outputId": "cb9568dd-925d-45f7-b5e8-2d6a9f860bf6"
      },
      "execution_count": null,
      "outputs": [
        {
          "output_type": "stream",
          "name": "stdout",
          "text": [
            "10 40\n",
            "================================================\n",
            "\t\n",
            "40 10\n"
          ]
        }
      ]
    },
    {
      "cell_type": "code",
      "source": [
        "# Third Method\n",
        "\n",
        "x = 10\n",
        "y = 40\n",
        "print(x, y)\n",
        "print(\"================================================\")\n",
        "print('\\t')\n",
        "\n",
        "x, y = y, x\n",
        "print(x, y)"
      ],
      "metadata": {
        "colab": {
          "base_uri": "https://localhost:8080/"
        },
        "id": "pYPklYULj5PP",
        "outputId": "887f6e2d-56f8-4050-c8da-11ffa57a4425"
      },
      "execution_count": null,
      "outputs": [
        {
          "output_type": "stream",
          "name": "stdout",
          "text": [
            "10 40\n",
            "================================================\n",
            "\t\n",
            "40 10\n"
          ]
        }
      ]
    },
    {
      "cell_type": "code",
      "execution_count": null,
      "metadata": {
        "id": "1Hvmm9draKwJ",
        "colab": {
          "base_uri": "https://localhost:8080/"
        },
        "outputId": "1e4ae27e-1077-436c-d976-0b1d84e609f5"
      },
      "outputs": [
        {
          "output_type": "stream",
          "name": "stdout",
          "text": [
            "None <class 'NoneType'>\n"
          ]
        }
      ],
      "source": [
        "x = None\n",
        "print(x, type(x))"
      ]
    },
    {
      "cell_type": "code",
      "execution_count": null,
      "metadata": {
        "id": "pPeFYY4WcaMg"
      },
      "outputs": [],
      "source": [
        "name = 'Luc'\n",
        "city = \"Goma\"\n",
        "road = '''National\n",
        "roadN2'''"
      ]
    },
    {
      "cell_type": "code",
      "execution_count": null,
      "metadata": {
        "colab": {
          "base_uri": "https://localhost:8080/"
        },
        "id": "LS-SEFMfcaMg",
        "outputId": "fde6f326-f194-4d08-b88d-82dbe575401f"
      },
      "outputs": [
        {
          "output_type": "stream",
          "name": "stdout",
          "text": [
            "Luc\n"
          ]
        }
      ],
      "source": [
        "print(name)"
      ]
    },
    {
      "cell_type": "code",
      "execution_count": null,
      "metadata": {
        "colab": {
          "base_uri": "https://localhost:8080/"
        },
        "id": "Aq6JGHfYcaMh",
        "outputId": "3fb651b8-c58c-48c6-8837-82ae3acdc086"
      },
      "outputs": [
        {
          "output_type": "stream",
          "name": "stdout",
          "text": [
            "Goma\n"
          ]
        }
      ],
      "source": [
        "print(city)"
      ]
    },
    {
      "cell_type": "code",
      "execution_count": null,
      "metadata": {
        "colab": {
          "base_uri": "https://localhost:8080/"
        },
        "id": "6-tVC0EmcaMh",
        "outputId": "e2e9cfc7-d08e-4879-959f-78113e688393"
      },
      "outputs": [
        {
          "output_type": "stream",
          "name": "stdout",
          "text": [
            "National\n",
            "roadN2\n"
          ]
        }
      ],
      "source": [
        "print(road)"
      ]
    },
    {
      "cell_type": "code",
      "execution_count": null,
      "metadata": {
        "colab": {
          "base_uri": "https://localhost:8080/"
        },
        "id": "xUuGhOVMcaMi",
        "outputId": "cf56790a-b516-4797-9cb7-83a25b97af83"
      },
      "outputs": [
        {
          "output_type": "execute_result",
          "data": {
            "text/plain": [
              "str"
            ]
          },
          "metadata": {},
          "execution_count": 43
        }
      ],
      "source": [
        "type(name)"
      ]
    },
    {
      "cell_type": "code",
      "source": [
        "type(road)"
      ],
      "metadata": {
        "colab": {
          "base_uri": "https://localhost:8080/"
        },
        "id": "_zOCejs1l0Uv",
        "outputId": "b67e6b89-9a34-4257-985d-673b078140bc"
      },
      "execution_count": null,
      "outputs": [
        {
          "output_type": "execute_result",
          "data": {
            "text/plain": [
              "str"
            ]
          },
          "metadata": {},
          "execution_count": 44
        }
      ]
    },
    {
      "cell_type": "code",
      "execution_count": null,
      "metadata": {
        "id": "Gt-N0VJvaKwK",
        "colab": {
          "base_uri": "https://localhost:8080/"
        },
        "outputId": "2a9aa8ec-5fb6-43bc-fadf-85427d882885"
      },
      "outputs": [
        {
          "output_type": "stream",
          "name": "stdout",
          "text": [
            "Luc <class 'str'> \n",
            "\n",
            "====================================\n",
            "Goma <class 'str'> \n",
            "\n",
            "====================================\n",
            "National\n",
            "roadN2 <class 'str'>\n",
            "====================================\n"
          ]
        }
      ],
      "source": [
        "name = 'Luc'\n",
        "city = \"Goma\"\n",
        "road = '''National\n",
        "roadN2'''\n",
        "\n",
        "print(name, type(name), '\\n')\n",
        "print('====================================')\n",
        "\n",
        "print(city, type(city),'\\n')\n",
        "print('====================================')\n",
        "\n",
        "\n",
        "print(road, type(road))\n",
        "print('====================================')"
      ]
    },
    {
      "cell_type": "code",
      "execution_count": null,
      "metadata": {
        "id": "jRlQRdvhaKwK",
        "colab": {
          "base_uri": "https://localhost:8080/"
        },
        "outputId": "39a2dd7e-f69c-4b70-af27-986a65424016"
      },
      "outputs": [
        {
          "output_type": "stream",
          "name": "stdout",
          "text": [
            "True <class 'bool'> \n",
            "\n",
            "====================================\n",
            "False <class 'bool'> \n",
            "\n"
          ]
        }
      ],
      "source": [
        "Vrai = True\n",
        "Faux = False\n",
        "\n",
        "\n",
        "print(Vrai, type(Vrai), '\\n')\n",
        "print('====================================')\n",
        "\n",
        "print(Faux, type(Faux), '\\n')\n"
      ]
    },
    {
      "cell_type": "code",
      "execution_count": null,
      "metadata": {
        "id": "QJauvxXTaKwL",
        "colab": {
          "base_uri": "https://localhost:8080/"
        },
        "outputId": "a6850931-0273-45ee-9f95-bb61ff1bee30"
      },
      "outputs": [
        {
          "output_type": "stream",
          "name": "stdout",
          "text": [
            "30 <class 'int'> \n",
            "\n",
            "====================================\n",
            "-50 <class 'int'> \n",
            "\n"
          ]
        }
      ],
      "source": [
        "My_age = 30\n",
        "negative_age = -50\n",
        "\n",
        "print(My_age, type(My_age), '\\n')\n",
        "print('====================================')\n",
        "print(negative_age, type(negative_age), '\\n')"
      ]
    },
    {
      "cell_type": "code",
      "execution_count": null,
      "metadata": {
        "id": "MS-mwNJGaKwL",
        "colab": {
          "base_uri": "https://localhost:8080/"
        },
        "outputId": "7c87f1a8-83f5-48c2-cb2f-0a90317d6823"
      },
      "outputs": [
        {
          "output_type": "stream",
          "name": "stdout",
          "text": [
            "5.1 <class 'float'> \n",
            "\n",
            "====================================\n",
            "-2.5 <class 'float'>\n"
          ]
        }
      ],
      "source": [
        "N = 5.1\n",
        "temperature = -2.5\n",
        "\n",
        "\n",
        "print(N, type(N), '\\n')\n",
        "print('====================================')\n",
        "print(temperature, type(temperature))"
      ]
    },
    {
      "cell_type": "code",
      "execution_count": null,
      "metadata": {
        "id": "o5_BApqKaKwL",
        "colab": {
          "base_uri": "https://localhost:8080/"
        },
        "outputId": "f9b5d00c-f05a-4537-f8e3-ad9ac6e8f037"
      },
      "outputs": [
        {
          "output_type": "stream",
          "name": "stdout",
          "text": [
            "(5+7j) <class 'complex'>\n",
            "====================================\n",
            "(5-9j) <class 'complex'>\n"
          ]
        }
      ],
      "source": [
        "z = 5 + 7j\n",
        "w = complex(5, -9)\n",
        "\n",
        "print(z, type(z))\n",
        "print('====================================')\n",
        "print(w, type(w))"
      ]
    },
    {
      "cell_type": "code",
      "execution_count": null,
      "metadata": {
        "id": "H0VguWrCaKwM",
        "colab": {
          "base_uri": "https://localhost:8080/"
        },
        "outputId": "8f6e77ba-0695-46cc-93d1-ecdf30022540"
      },
      "outputs": [
        {
          "output_type": "stream",
          "name": "stdout",
          "text": [
            "['Messi', 'CR7', 'Mbappé'] <class 'list'>\n",
            "==================================== \n",
            "\n",
            "[1, 'two', 3.0, [7, 9]] <class 'list'>\n"
          ]
        }
      ],
      "source": [
        "joueurs = ['Messi', 'CR7', 'Mbappé']\n",
        "mixed = [1, 'two', 3.0, [7, 9]]\n",
        "\n",
        "\n",
        "print(joueurs, type(joueurs))\n",
        "print('====================================', '\\n')\n",
        "print(mixed, type(mixed))"
      ]
    },
    {
      "cell_type": "code",
      "execution_count": null,
      "metadata": {
        "id": "KaIp7Td1aKwM",
        "colab": {
          "base_uri": "https://localhost:8080/"
        },
        "outputId": "0677629b-80be-45e2-b6d5-a0414e975c29"
      },
      "outputs": [
        {
          "output_type": "stream",
          "name": "stdout",
          "text": [
            "(10.5, 20.8) <class 'tuple'>\n",
            "====================================\n",
            "('red', 'green', 'blue') <class 'tuple'>\n"
          ]
        }
      ],
      "source": [
        "tuple_number = (10.5, 20.8)\n",
        "tuple_colors = ('red', 'green', 'blue')\n",
        "\n",
        "print(tuple_number, type(tuple_number))\n",
        "print('====================================')\n",
        "print(tuple_colors, type(tuple_colors))"
      ]
    },
    {
      "cell_type": "code",
      "execution_count": null,
      "metadata": {
        "id": "Vqtr60uhaKwN",
        "colab": {
          "base_uri": "https://localhost:8080/"
        },
        "outputId": "990544d9-4bcd-4776-bfa6-9a6b24974772"
      },
      "outputs": [
        {
          "output_type": "stream",
          "name": "stdout",
          "text": [
            "{'father': 'Norbert', 'Mother': 'Jeannette'} <class 'dict'>\n",
            "====================================\n",
            "{'first_one': 'Luc', 'second': 'Lievin'} <class 'dict'>\n"
          ]
        }
      ],
      "source": [
        "family = {'father': 'Norbert', 'Mother': 'Jeannette'}\n",
        "sons = {'first_one': 'Luc', 'second': 'Lievin'}\n",
        "\n",
        "\n",
        "print(family, type(family))\n",
        "print('====================================')\n",
        "print(sons, type(sons))"
      ]
    },
    {
      "cell_type": "code",
      "source": [
        "Ensemble_A = {1, 3, 5, 78, 8, 9, 3}\n",
        "letters = {'a', 'b', 'c', 'd', 'e', 'c', 'f', }\n",
        "\n",
        "print(Ensemble_A, type(Ensemble_A), '\\t')\n",
        "print('====================================')\n",
        "print(letters , type(letters ), '\\n')"
      ],
      "metadata": {
        "colab": {
          "base_uri": "https://localhost:8080/"
        },
        "id": "arW3M-JTz87m",
        "outputId": "06c792f5-a3cf-41a8-e036-2b66be44fbc2"
      },
      "execution_count": null,
      "outputs": [
        {
          "output_type": "stream",
          "name": "stdout",
          "text": [
            "{1, 3, 5, 8, 9, 78} <class 'set'> \t\n",
            "====================================\n",
            "{'f', 'b', 'c', 'e', 'a', 'd'} <class 'set'> \n",
            "\n"
          ]
        }
      ]
    },
    {
      "cell_type": "code",
      "execution_count": null,
      "metadata": {
        "colab": {
          "base_uri": "https://localhost:8080/"
        },
        "id": "twAW8xY9caMr",
        "outputId": "b2e8fbca-a7c5-400e-9799-755c81c9eb14"
      },
      "outputs": [
        {
          "output_type": "execute_result",
          "data": {
            "text/plain": [
              "str"
            ]
          },
          "metadata": {},
          "execution_count": 69
        }
      ],
      "source": [
        "p = 'D R C'\n",
        "type(p)"
      ]
    },
    {
      "cell_type": "code",
      "execution_count": null,
      "metadata": {
        "colab": {
          "base_uri": "https://localhost:8080/"
        },
        "id": "bxJPe9VIcaMs",
        "outputId": "f061bc93-7d12-44bc-83a5-32d6e5201c3d"
      },
      "outputs": [
        {
          "output_type": "execute_result",
          "data": {
            "text/plain": [
              "float"
            ]
          },
          "metadata": {},
          "execution_count": 70
        }
      ],
      "source": [
        "Numb = 10.8\n",
        "type(Numb)"
      ]
    },
    {
      "cell_type": "code",
      "execution_count": null,
      "metadata": {
        "colab": {
          "base_uri": "https://localhost:8080/"
        },
        "id": "RrxrV_xgcaMu",
        "outputId": "01f36976-b906-40bd-81c5-fbcf116e9c4a"
      },
      "outputs": [
        {
          "output_type": "execute_result",
          "data": {
            "text/plain": [
              "float"
            ]
          },
          "metadata": {},
          "execution_count": 71
        }
      ],
      "source": [
        "x = 9        # int\n",
        "y = 3.2      # float\n",
        "\n",
        "type(x+y)"
      ]
    },
    {
      "cell_type": "code",
      "execution_count": null,
      "metadata": {
        "colab": {
          "base_uri": "https://localhost:8080/"
        },
        "id": "qaNnSBQecaMu",
        "outputId": "ad88ee2c-be1d-4391-a8f9-ba66bb216974"
      },
      "outputs": [
        {
          "output_type": "execute_result",
          "data": {
            "text/plain": [
              "False"
            ]
          },
          "metadata": {},
          "execution_count": 73
        }
      ],
      "source": [
        "3.1 == 3.0"
      ]
    },
    {
      "cell_type": "code",
      "execution_count": null,
      "metadata": {
        "id": "4KdKGOxEaKwO",
        "colab": {
          "base_uri": "https://localhost:8080/"
        },
        "outputId": "3207039f-c15f-41db-c884-6b781d2dca17"
      },
      "outputs": [
        {
          "output_type": "stream",
          "name": "stdout",
          "text": [
            "8\n"
          ]
        }
      ],
      "source": [
        "a = 8.9\n",
        "b = int(a)\n",
        "print(b)"
      ]
    },
    {
      "cell_type": "code",
      "source": [
        "a = 8\n",
        "b = float(a)\n",
        "print(b)"
      ],
      "metadata": {
        "colab": {
          "base_uri": "https://localhost:8080/"
        },
        "id": "xKl_ZiiN3Koi",
        "outputId": "6a31d639-c8a3-4ee9-9f32-bb9a5809e9f7"
      },
      "execution_count": null,
      "outputs": [
        {
          "output_type": "stream",
          "name": "stdout",
          "text": [
            "8.0\n"
          ]
        }
      ]
    },
    {
      "cell_type": "code",
      "execution_count": null,
      "metadata": {
        "colab": {
          "base_uri": "https://localhost:8080/"
        },
        "id": "27EmBH1AcaMw",
        "outputId": "e30d8881-8269-47db-d8f5-bbe573be501e"
      },
      "outputs": [
        {
          "output_type": "stream",
          "name": "stdout",
          "text": [
            "8\n",
            "<class 'int'>\n",
            "8\n"
          ]
        },
        {
          "output_type": "execute_result",
          "data": {
            "text/plain": [
              "str"
            ]
          },
          "metadata": {},
          "execution_count": 78
        }
      ],
      "source": [
        "c = str(a)\n",
        "print(a)\n",
        "print(type(a))\n",
        "print(c)\n",
        "type(c)"
      ]
    },
    {
      "cell_type": "code",
      "execution_count": null,
      "metadata": {
        "colab": {
          "base_uri": "https://localhost:8080/"
        },
        "id": "IVDi6tbicaMx",
        "outputId": "534f9128-b629-40c2-aadc-9a03116daaff"
      },
      "outputs": [
        {
          "output_type": "stream",
          "name": "stdout",
          "text": [
            "8\n"
          ]
        }
      ],
      "source": [
        "print(c)"
      ]
    },
    {
      "cell_type": "code",
      "execution_count": null,
      "metadata": {
        "colab": {
          "base_uri": "https://localhost:8080/"
        },
        "id": "dzcw15zrcaMy",
        "outputId": "7c0df494-5e7a-4d79-9daf-fb6efdacbd3b"
      },
      "outputs": [
        {
          "output_type": "stream",
          "name": "stdout",
          "text": [
            "I am 30 years old.\n"
          ]
        },
        {
          "output_type": "execute_result",
          "data": {
            "text/plain": [
              "str"
            ]
          },
          "metadata": {},
          "execution_count": 85
        }
      ],
      "source": [
        "age = 30\n",
        "message = \"I am \" + str(age) + \" years old.\"\n",
        "print(message)\n",
        "type(message)"
      ]
    },
    {
      "cell_type": "markdown",
      "metadata": {
        "id": "bCB3bPDUaKwP"
      },
      "source": [
        "## 3. Methods associated with variables\n",
        "\n",
        "In Python, every variable is linked to a variety of attributes and methods that define its behavior and interactions. These methods are functions that are built into the variable's type and allow you to perform various operations on the variable. For example, methods can help you manipulate strings, perform mathematical operations, or interact with lists and dictionaries.\n",
        "\n",
        "The `dir()` function is useful for exploring these methods and understanding what operations are available for a given variable. By calling `dir()` on a variable, you get a list of all its attributes and methods, including those inherited from its type. This can be particularly helpful for discovering how to use a variable's methods or for debugging.\n",
        "\n",
        "Here's how you might use `dir()`:\n",
        "\n",
        "```python\n",
        "# Example with a string variable\n",
        "text = \"Hello, world!\"\n",
        "print(dir(text))\n",
        "\n",
        "# Example with a list variable\n",
        "numbers = [1, 2, 3, 4, 5]\n",
        "print(dir(numbers))\n",
        "```\n",
        "\n",
        "In the examples above, `dir(text)` will list methods related to string operations such as `upper()`, `lower()`, and `split()`, while `dir(numbers)` will show methods related to list operations like `append()`, `remove()`, and `sort()`. This feature of Python makes it easier to explore and utilize the functionalities associated with different data types."
      ]
    },
    {
      "cell_type": "code",
      "execution_count": null,
      "metadata": {
        "id": "lZteprvjaKwP"
      },
      "outputs": [],
      "source": [
        "x = 2.5 # Définit une variable numérique x\n",
        "y = 'my text' # Définit une variable en chaîne de caractères y."
      ]
    },
    {
      "cell_type": "markdown",
      "metadata": {
        "id": "JQMn9LCpaKwP"
      },
      "source": [
        "Pour afficher l’ensemble des méthodes associées à chacune de ces variables, on fait :\n"
      ]
    },
    {
      "cell_type": "code",
      "execution_count": null,
      "metadata": {
        "id": "v-3yc5FNaKwP",
        "outputId": "c969890d-d268-4eb3-cc06-23ede7e1f806"
      },
      "outputs": [
        {
          "name": "stdout",
          "output_type": "stream",
          "text": [
            "['__abs__', '__add__', '__bool__', '__ceil__', '__class__', '__delattr__', '__dir__', '__divmod__', '__doc__', '__eq__', '__float__', '__floor__', '__floordiv__', '__format__', '__ge__', '__getattribute__', '__getformat__', '__getnewargs__', '__getstate__', '__gt__', '__hash__', '__init__', '__init_subclass__', '__int__', '__le__', '__lt__', '__mod__', '__mul__', '__ne__', '__neg__', '__new__', '__pos__', '__pow__', '__radd__', '__rdivmod__', '__reduce__', '__reduce_ex__', '__repr__', '__rfloordiv__', '__rmod__', '__rmul__', '__round__', '__rpow__', '__rsub__', '__rtruediv__', '__setattr__', '__sizeof__', '__str__', '__sub__', '__subclasshook__', '__truediv__', '__trunc__', 'as_integer_ratio', 'conjugate', 'fromhex', 'hex', 'imag', 'is_integer', 'real']\n"
          ]
        }
      ],
      "source": [
        "print(dir(x))"
      ]
    },
    {
      "cell_type": "code",
      "execution_count": null,
      "metadata": {
        "id": "42zqqieWcaM0",
        "outputId": "e1a4ae9d-d6bc-4bd8-d861-75f692fab55f"
      },
      "outputs": [
        {
          "data": {
            "text/plain": [
              "2.5"
            ]
          },
          "execution_count": 34,
          "metadata": {},
          "output_type": "execute_result"
        }
      ],
      "source": [
        "x.real"
      ]
    },
    {
      "cell_type": "code",
      "execution_count": null,
      "metadata": {
        "id": "6esJte7JaKwP"
      },
      "outputs": [],
      "source": [
        "print(dir(y))"
      ]
    },
    {
      "cell_type": "markdown",
      "metadata": {
        "id": "N_h-fgBMaKwP"
      },
      "source": [
        "You can also type `variable_name.` followed by `TAB` in many interactive Python environments or integrated development environments (IDEs). This action triggers autocompletion, which helps you see and select available methods and attributes associated with that variable. For example:\n",
        "\n",
        "1. Type `variable_name.` and press `TAB`.\n",
        "2. A list of methods and attributes that can be used with `variable_name` will appear.\n",
        "\n",
        "This feature is especially useful for exploring what operations you can perform on a variable and for quickly finding the right method without needing to remember exact method names."
      ]
    },
    {
      "cell_type": "code",
      "execution_count": null,
      "metadata": {
        "id": "1ym195tgaKwP"
      },
      "outputs": [],
      "source": [
        "# Type x. followed by `TAB`"
      ]
    },
    {
      "cell_type": "markdown",
      "metadata": {
        "id": "kjkm83daaKwQ"
      },
      "source": [
        "To get help on a specific method in Python, you can use the `help()` function. The syntax is `help(variable_name.method_name)`, where `method_name` is the name of the method you are interested in. For example, if you have a numeric variable of type `float`, which includes a method named `conjugate`, you can obtain information about this method by running:\n",
        "\n",
        "```python\n",
        "print(help(x.conjugate))\n",
        "```\n",
        "\n",
        "This will display documentation about the `conjugate` method, including its purpose and usage, in the console or terminal."
      ]
    },
    {
      "cell_type": "code",
      "execution_count": null,
      "metadata": {
        "id": "hrL7LSiOcaM1"
      },
      "outputs": [],
      "source": [
        "x = 2.5 # Définit une variable numérique x"
      ]
    },
    {
      "cell_type": "code",
      "execution_count": null,
      "metadata": {
        "id": "FWm4URK5aKwQ",
        "outputId": "c1eeb0a6-13b1-47da-a947-8abdf97cfa6a"
      },
      "outputs": [
        {
          "name": "stdout",
          "output_type": "stream",
          "text": [
            "Help on built-in function conjugate:\n",
            "\n",
            "conjugate() method of builtins.float instance\n",
            "    Return self, the complex conjugate of any float.\n",
            "\n",
            "None\n"
          ]
        }
      ],
      "source": [
        "print(help(x.conjugate))"
      ]
    },
    {
      "cell_type": "markdown",
      "metadata": {
        "id": "gTtq_BukaKwQ"
      },
      "source": [
        "To display help on all the functions associated with a variable `x`, you simply use:\n",
        "\n",
        "```python\n",
        "help(x)\n",
        "```\n",
        "\n",
        "This command will show the documentation for the type of the variable `x`, including all the methods and attributes available for that type."
      ]
    },
    {
      "cell_type": "code",
      "execution_count": null,
      "metadata": {
        "id": "8kOy67FIcaM3"
      },
      "outputs": [],
      "source": [
        "x = 23j + 1"
      ]
    },
    {
      "cell_type": "code",
      "execution_count": null,
      "metadata": {
        "id": "3J4eVHSZcaM3",
        "outputId": "a67aa0ec-a0d6-4fca-a86a-29ca6ac673ef"
      },
      "outputs": [
        {
          "name": "stdout",
          "output_type": "stream",
          "text": [
            "Help on built-in function conjugate:\n",
            "\n",
            "conjugate() method of builtins.complex instance\n",
            "    Return the complex conjugate of its argument. (3-4j).conjugate() == 3+4j.\n",
            "\n"
          ]
        }
      ],
      "source": [
        "help(x.conjugate)"
      ]
    },
    {
      "cell_type": "markdown",
      "metadata": {
        "id": "FzO7WiicaKwR"
      },
      "source": [
        "\n",
        "To access the complete list of standard Python operators and their equivalent functions, see [this page](https://docs.python.org/3/library/operator.html). You can also refer to [this page](https://www.tutorialspoint.com/python/python_operators.htm) for some examples of standard operator usage.\n",
        "\n"
      ]
    },
    {
      "cell_type": "markdown",
      "metadata": {
        "id": "N1jAndubaKwR"
      },
      "source": [
        "### 5. User input ( the `input()` function)\n",
        "\n",
        "In Python, the `input()` function is used to capture user input from the console. It pauses the program's execution and waits for the user to type something, which is then returned as a string. This input can be stored in a variable, allowing you to use the entered data later in your code.\n",
        "\n",
        "#### 5.0. Basic Usage\n",
        "\n",
        "The basic syntax for the `input()` function is:\n",
        "\n",
        "```python\n",
        "variable_name = input(prompt)\n",
        "```\n",
        "\n",
        "- **`prompt`**: This is an optional argument. It is a string that is displayed to the user, providing instructions or asking for specific input.\n",
        "- **`variable_name`**: This is the variable that will store the value entered by the user.\n",
        "\n",
        "#### Example\n",
        "\n",
        "Here’s a simple example of using the `input()` function:\n",
        "\n",
        "```python\n",
        "name = input(\"Enter your name: \")\n",
        "print(\"Hello, \" + name + \"!\")\n",
        "```\n",
        "\n",
        "In this example:\n",
        "- The program prompts the user to enter their name.\n",
        "- The entered name is stored in the variable `name`.\n",
        "- The program then greets the user using the name provided."
      ]
    },
    {
      "cell_type": "code",
      "execution_count": null,
      "metadata": {
        "id": "V6AcIA3saKwR",
        "outputId": "7c17c5af-6080-4ab4-9703-923931f0cdf4"
      },
      "outputs": [
        {
          "name": "stdin",
          "output_type": "stream",
          "text": [
            "Enter your name:   xcjk b jkv'\n"
          ]
        },
        {
          "name": "stdout",
          "output_type": "stream",
          "text": [
            "Hello,   xcjk b jkv'\n"
          ]
        }
      ],
      "source": [
        "name = input(\"Enter your name: \")\n",
        "print(\"Hello, \" , name)"
      ]
    },
    {
      "cell_type": "code",
      "execution_count": null,
      "metadata": {
        "id": "OqmI1nF5caM8",
        "outputId": "5680cb69-c247-4822-fcf1-8ccc219a5b26"
      },
      "outputs": [
        {
          "name": "stdin",
          "output_type": "stream",
          "text": [
            "Enter your age:  24\n"
          ]
        },
        {
          "name": "stdout",
          "output_type": "stream",
          "text": [
            "Hello, Yae!\n"
          ]
        },
        {
          "data": {
            "text/plain": [
              "str"
            ]
          },
          "execution_count": 41,
          "metadata": {},
          "output_type": "execute_result"
        }
      ],
      "source": [
        "age = input(\"Enter your age: \")\n",
        "print(\"Hello, \" + name + \"!\")\n",
        "type(age)"
      ]
    },
    {
      "cell_type": "code",
      "execution_count": null,
      "metadata": {
        "id": "U1eDoEgQcaM8",
        "outputId": "05d26f70-4992-4bff-adea-4c2848bcb7d1"
      },
      "outputs": [
        {
          "data": {
            "text/plain": [
              "(6, 4)"
            ]
          },
          "execution_count": 44,
          "metadata": {},
          "output_type": "execute_result"
        }
      ],
      "source": [
        "x = 4\n",
        "y = 6\n",
        "x, y = y, x\n",
        "x, y"
      ]
    },
    {
      "cell_type": "code",
      "execution_count": null,
      "metadata": {
        "id": "cMZRqH3PcaM9"
      },
      "outputs": [],
      "source": [
        "var_1 = True\n",
        "var_2 = False"
      ]
    },
    {
      "cell_type": "markdown",
      "metadata": {
        "id": "ND8vSfaXaKwS"
      },
      "source": [
        "#### 5.1. Important Notes\n",
        "\n",
        "- **Type Conversion**: Since `input()` always returns the input as a string, you may need to convert it to the appropriate type (e.g., `int`, `float`) depending on the context.\n",
        "\n",
        "  ```python\n",
        "  age = int(input(\"Enter your age: \"))\n",
        "  ```\n",
        "\n",
        "- **Handling Errors**: When converting input, it’s important to handle potential errors, such as the user entering a non-numeric value when an integer is expected.\n",
        "\n",
        "- **Security Considerations**: Be cautious when using `input()` in sensitive applications, as it can introduce security risks if the input is not properly validated or sanitized.\n",
        "\n",
        "Using the `input()` function is a common way to make your Python programs interactive, enabling users to provide data that can be processed and utilized by the program."
      ]
    },
    {
      "cell_type": "markdown",
      "metadata": {
        "id": "i4NhvF1-aKwS"
      },
      "source": [
        "#### 5.2.  Accepting User Inputs (as both integer and string)\n",
        "\n",
        "**`input(prompt)`** prompts for and returns input as a string. Hence, if the user inputs a integer, the code should convert the string to an integer and then proceed."
      ]
    },
    {
      "cell_type": "code",
      "execution_count": null,
      "metadata": {
        "id": "YYEE6ii2aKwS"
      },
      "outputs": [],
      "source": [
        "a = input(\"Hello, \\nHow are you?  \") # \\n means new line\n",
        "\n",
        "\n",
        "print(\"================================== \\n\")\n",
        "print(type(a))"
      ]
    },
    {
      "cell_type": "code",
      "execution_count": null,
      "metadata": {
        "id": "43ACxd6HaKwS"
      },
      "outputs": [],
      "source": [
        "try_something = input(\"Type something here and it will be stored in variable try_something \\t\")\n",
        "\n",
        "print(\"================================== \\n\")\n",
        "print(type(try_something))"
      ]
    },
    {
      "cell_type": "code",
      "execution_count": null,
      "metadata": {
        "id": "P0REqCj-aKwS"
      },
      "outputs": [],
      "source": [
        "number = input(\"Enter number: \")\n",
        "name = input(\"Enter name: \")\n",
        "\n",
        "print(\"\\n\")\n",
        "print(\"Printing type of a input value\")\n",
        "print(\"================================== \\n\")\n",
        "print(\"Type of number\", type(number))\n",
        "print(\"================================== \\n\")\n",
        "print(\"Type of name\", type(name))"
      ]
    },
    {
      "cell_type": "markdown",
      "metadata": {
        "id": "37aYG2u5aKwS"
      },
      "source": [
        "#### 5.3. `eval()` (accepting user inputs; only as integer)\n",
        "\n",
        "The `eval()` function in Python can be used in conjunction with `input()` to evaluate a string as a Python expression. This can be particularly useful when you want to allow the user to input a mathematical expression or Python code directly and have it evaluated at runtime.\n",
        "\n",
        "#### Basic Usage of `eval()`\n",
        "\n",
        "The basic syntax for using `eval()` with `input()` is:\n",
        "\n",
        "```python\n",
        "result = eval(input(prompt))\n",
        "```\n",
        "\n",
        "- **`prompt`**: This is the text displayed to the user to guide them on what to input.\n",
        "- **`result`**: This variable stores the output after evaluating the user input as a Python expression.\n",
        "\n",
        "#### Example\n",
        "\n",
        "Here’s an example where the user is allowed to input a mathematical expression, and `eval()` evaluates it:\n",
        "\n",
        "```python\n",
        "expression = input(\"Enter a mathematical expression: \")\n",
        "result = eval(expression)\n",
        "print(\"The result is:\", result)\n",
        "```"
      ]
    },
    {
      "cell_type": "code",
      "execution_count": null,
      "metadata": {
        "id": "UnTHoZ7EaKwT"
      },
      "outputs": [],
      "source": [
        "expression = input(\"Enter a mathematical expression: \")\n",
        "result = eval(expression)\n",
        "print(\"The result is:\", result)"
      ]
    },
    {
      "cell_type": "markdown",
      "metadata": {
        "id": "KIbA085vaKwT"
      },
      "source": [
        "In this example:\n",
        "- The program prompts the user to enter a mathematical expression.\n",
        "- The input is passed to `eval()`, which evaluates the expression.\n",
        "- The result is then printed out.\n",
        "\n",
        "#### Important Notes\n",
        "\n",
        "- **Use with Caution**: The `eval()` function can be dangerous if used with untrusted input, as it will execute any code passed to it. This could potentially lead to security vulnerabilities, such as code injection attacks. It should only be used in safe, controlled environments where the input is trusted.\n",
        "  \n",
        "- **Valid Python Expressions**: The string passed to `eval()` must be a valid Python expression. If the string contains syntax errors or invalid operations, Python will raise an exception.\n",
        "\n",
        "- **Alternative**: In many cases, using `int()` or `float()` for type conversion, or safely parsing and evaluating input without `eval()`, may be preferable for security reasons.\n",
        "\n",
        "Using `eval()` with `input()` can be powerful for dynamic code evaluation, but it should be used responsibly to avoid unintended consequences.\n"
      ]
    },
    {
      "cell_type": "markdown",
      "metadata": {
        "id": "RVm2z9JZaKwT"
      },
      "source": [
        "### Practice Problem"
      ]
    },
    {
      "cell_type": "code",
      "execution_count": null,
      "metadata": {
        "id": "xKbxQmw8aKwT"
      },
      "outputs": [],
      "source": [
        "# Accept one integer and one float number from the user and calculate the addition of both the numbers.\n",
        "num1 = int(input(\"Enter first number: \"))\n",
        "num2 = float(input(\"Enter second number: \"))\n",
        "\n",
        "result=(num1+num2)\n",
        "print(\"Final result is: \", result)"
      ]
    },
    {
      "cell_type": "code",
      "execution_count": null,
      "metadata": {
        "id": "M1fXkto-aKwT"
      },
      "outputs": [],
      "source": [
        "# Write code to get three numbers and add first 2 number and multiply with third number\n",
        "\n",
        "num1 = int(input(\"Enter first number: \"))   # converting input value to integer\n",
        "num2 = int(input(\"Enter second number: \"))  # converting input value to integer\n",
        "num3 = int(input(\"Enter third number: \"))   # converting input value to integer\n",
        "\n",
        "print(\"\\n\")\n",
        "print(\"First Number: \", num1)\n",
        "print(\"Second Number: \", num2)\n",
        "print(\"Third Number: \", num3)\n",
        "\n",
        "result=(num1+num2)*num3\n",
        "print(\"Final result is: \", result)"
      ]
    },
    {
      "cell_type": "code",
      "execution_count": null,
      "metadata": {
        "id": "2OOS09QvaKwT"
      },
      "outputs": [],
      "source": [
        "# Write a code to get four numbers:\n",
        "#Step 1. Multiply first and fourth number\n",
        "#Step 2. Divide second and third number\n",
        "#Step3. Add Step 1 and Step 2 outputs.\n",
        "\n",
        "num1 = int(input(\"Enter first number: \"))\n",
        "num2 = int(input(\"Enter second number: \"))\n",
        "num3 = int(input(\"Enter third number: \"))\n",
        "num4 = int(input(\"Enter fourth number: \"))\n",
        "\n",
        "print(\"\\n\")\n",
        "print(\"First Number: \", num1)\n",
        "print(\"Second Number: \", num2)\n",
        "print(\"Third Number: \", num3)\n",
        "print(\"Fourth number: \", num4)\n",
        "\n",
        "result=(num1*num4)+(num2/num3)\n",
        "print(\"Final result is: \", result)"
      ]
    },
    {
      "cell_type": "code",
      "execution_count": null,
      "metadata": {
        "id": "EkfYDZrlaKwU"
      },
      "outputs": [],
      "source": [
        "# Let’s see how to accept float value from a user in Python.\n",
        "# You need to convert user input to the float number using\n",
        "# the **`float()`** function as we did for the integer value.\n",
        "float_number = float(input(\"Enter float number: \"))  # converting input value to float\n",
        "print(\"\\n\")\n",
        "print(\"input float number is: \", float_number)\n",
        "print(\"type is:\", type(float_number))"
      ]
    }
  ],
  "metadata": {
    "colab": {
      "provenance": []
    },
    "kernelspec": {
      "display_name": "Python 3 (ipykernel)",
      "language": "python",
      "name": "python3"
    },
    "language_info": {
      "codemirror_mode": {
        "name": "ipython",
        "version": 3
      },
      "file_extension": ".py",
      "mimetype": "text/x-python",
      "name": "python",
      "nbconvert_exporter": "python",
      "pygments_lexer": "ipython3",
      "version": "3.13.8"
    }
  },
  "nbformat": 4,
  "nbformat_minor": 0
}