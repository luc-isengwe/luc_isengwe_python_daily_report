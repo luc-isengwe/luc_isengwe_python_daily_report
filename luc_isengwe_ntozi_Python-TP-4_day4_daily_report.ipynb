{
 "cells": [
  {
   "cell_type": "markdown",
   "id": "d68c1dee",
   "metadata": {
    "id": "d68c1dee"
   },
   "source": [
    "# Practical_4: Flow control"
   ]
  },
  {
   "cell_type": "markdown",
   "id": "67f63e55-1cd1-4b9e-883d-b18ccaff0b22",
   "metadata": {},
   "source": [
    "### Exercise 1:\n",
    "Write a Python program that checks if a number is positive or negative.\n",
    "\n",
    "```python\n",
    "# Exercise 1"
   ]
  },
  {
   "cell_type": "code",
   "execution_count": 1,
   "id": "9452984d-2aa2-4ba2-b6ed-df9655794fb7",
   "metadata": {},
   "outputs": [
    {
     "name": "stdout",
     "output_type": "stream",
     "text": [
      "The number is zero.\n"
     ]
    }
   ],
   "source": [
    "num = 0\n",
    "\n",
    "# Check if positive, negative, or zero\n",
    "if num > 0:\n",
    "    print(\"The number is positive.\")\n",
    "elif num < 0:\n",
    "    print(\"The number is negative.\")\n",
    "else:\n",
    "    print(\"The number is zero.\")\n"
   ]
  },
  {
   "cell_type": "markdown",
   "id": "fbb84640-a346-432d-a454-8d8efb72217c",
   "metadata": {},
   "source": [
    "### Exercise 2:\n",
    "Write a Python function that checks if a string starts with a vowel.\n",
    "\n",
    "```python\n",
    "# Exercise 2"
   ]
  },
  {
   "cell_type": "code",
   "execution_count": 2,
   "id": "5a073ccf-ce6f-451f-a74b-743907ef81cb",
   "metadata": {},
   "outputs": [
    {
     "name": "stdout",
     "output_type": "stream",
     "text": [
      "True\n",
      "False\n",
      "False\n"
     ]
    }
   ],
   "source": [
    "def starts_with_vowel(s):\n",
    "    vowels = \"aeiouAEIOU\"\n",
    "    return s[0] in vowels if s else False  # Checking the empty string\n",
    "\n",
    "print(starts_with_vowel(\"apple\"))   \n",
    "print(starts_with_vowel(\"Banana\"))  \n",
    "print(starts_with_vowel(\" \"))        "
   ]
  },
  {
   "cell_type": "markdown",
   "id": "de591b9c-7810-428d-bfb1-94494e44fe5d",
   "metadata": {},
   "source": [
    "### Exercise 3:\n",
    "Write a Python program that takes a list of integers and prints \"Even\" for each even number and \"Odd\" for each odd number.\n",
    "\n",
    "```python\n",
    "# Exercise 3"
   ]
  },
  {
   "cell_type": "code",
   "execution_count": 4,
   "id": "0efc38eb-4e48-41e9-85ad-7e7373308302",
   "metadata": {},
   "outputs": [
    {
     "name": "stdout",
     "output_type": "stream",
     "text": [
      "1: Odd\n",
      "2: Even\n",
      "3: Odd\n",
      "4: Even\n",
      "5: Odd\n",
      "6: Even\n",
      "7: Odd\n",
      "8: Even\n",
      "9: Odd\n"
     ]
    }
   ],
   "source": [
    "# Thelist of integers\n",
    "numbers = [1, 2, 3, 4, 5, 6, 7, 8, 9]\n",
    "\n",
    "# Check each number\n",
    "for i in numbers:\n",
    "    if i % 2 == 0:\n",
    "        print(f\"{i}: Even\")\n",
    "    else:\n",
    "        print(f\"{i}: Odd\")"
   ]
  },
  {
   "cell_type": "markdown",
   "id": "1c696c2f-df41-45b5-a788-83fa754f9f3b",
   "metadata": {},
   "source": [
    "### Exercise 4:\n",
    "Write a Python program that checks if a given year is a leap year.\n",
    "\n",
    "```python\n",
    "# Exercise 4"
   ]
  },
  {
   "cell_type": "code",
   "execution_count": 33,
   "id": "168f9f82-ef8e-4077-a481-08bd75a719d2",
   "metadata": {},
   "outputs": [
    {
     "name": "stdin",
     "output_type": "stream",
     "text": [
      "Enter the year:  2457\n"
     ]
    },
    {
     "name": "stdout",
     "output_type": "stream",
     "text": [
      "the year 2457 is not a leap year.\n"
     ]
    }
   ],
   "source": [
    "year = int(input(\"Enter the year: \"))\n",
    "\n",
    "# Check leap year\n",
    "if (year % 4 == 0 and year % 100 != 0) or (year % 400 == 0):\n",
    "    print(f\"{year} is a leap year.\")\n",
    "else:\n",
    "    print(\"the year\", f\"{year} is not a leap year.\")\n"
   ]
  },
  {
   "cell_type": "markdown",
   "id": "d2e52bdc-b200-4b0e-a934-6a8b7d33cbee",
   "metadata": {},
   "source": [
    "### Exercise 5:\n",
    "Write a Python function that checks if a number is divisible by both 3 and 5.\n",
    "\n",
    "```python\n",
    "# Exercise 5"
   ]
  },
  {
   "cell_type": "code",
   "execution_count": 27,
   "id": "3cf528ca-4da4-44f5-9b68-81becff7bfb3",
   "metadata": {},
   "outputs": [
    {
     "name": "stdout",
     "output_type": "stream",
     "text": [
      "False\n",
      "True\n",
      "False\n"
     ]
    }
   ],
   "source": [
    "def divisible_by_3_and_5(x):\n",
    "    return x % 3 == 0 and x % 5 == 0\n",
    "\n",
    "print(divisible_by_3_and_5(9)) \n",
    "print(divisible_by_3_and_5(30)) \n",
    "print(divisible_by_3_and_5(7)) "
   ]
  },
  {
   "cell_type": "markdown",
   "id": "8da22848-07ab-4371-924b-450602a3356a",
   "metadata": {},
   "source": [
    "### Exercise 6:\n",
    "Write a Python program that prints \"Hot\" if the temperature is above 30, \"Warm\" if it is between 15 and 30, and \"Cold\" if it is below 15.\n",
    "\n",
    "```python\n",
    "# Exercise 6"
   ]
  },
  {
   "cell_type": "code",
   "execution_count": 28,
   "id": "ad983edd-34e2-40cd-b793-5eca434e416a",
   "metadata": {},
   "outputs": [
    {
     "name": "stdin",
     "output_type": "stream",
     "text": [
      "Enter the temperature:  12\n"
     ]
    },
    {
     "name": "stdout",
     "output_type": "stream",
     "text": [
      "Cold\n"
     ]
    }
   ],
   "source": [
    "temperature = float(input(\"Enter the temperature: \"))\n",
    "\n",
    "if temperature > 30:\n",
    "    print(\"Hot\")\n",
    "elif 15 <= temperature <= 30:\n",
    "    print(\"Warm\")\n",
    "else:\n",
    "    print(\"Cold\")"
   ]
  },
  {
   "cell_type": "markdown",
   "id": "744fd6dc-4303-44ed-bfe2-9e64ce2494a1",
   "metadata": {},
   "source": [
    "### Exercise 7:\n",
    "Write a Python program that checks if a string contains the letter 'a'.\n",
    "\n",
    "```python\n",
    "# Exercise 7"
   ]
  },
  {
   "cell_type": "code",
   "execution_count": 34,
   "id": "16c5b951-38b8-4c81-bbf8-892ff6f65c96",
   "metadata": {},
   "outputs": [
    {
     "name": "stdin",
     "output_type": "stream",
     "text": [
      "Enter a string:  AEYUIOZQaep\n"
     ]
    },
    {
     "name": "stdout",
     "output_type": "stream",
     "text": [
      "The string contains the letter 'a'.\n"
     ]
    }
   ],
   "source": [
    "text = input(\"Enter a string: \")\n",
    "\n",
    "if 'a' in text.lower():  # .lower() rassure the uppercae is also checked\n",
    "    print(\"The string contains the letter 'a'.\")\n",
    "else:\n",
    "    print(\"The string does not contain the letter 'a'.\")"
   ]
  },
  {
   "cell_type": "markdown",
   "id": "63517711-f26c-48f9-85bb-7ddf283b9282",
   "metadata": {},
   "source": [
    "### Exercise 8:\n",
    "Write a Python function that checks if two numbers are equal, or which one is larger.\n",
    "\n",
    "```python\n",
    "# Exercise 8"
   ]
  },
  {
   "cell_type": "code",
   "execution_count": 35,
   "id": "6aac7273-ce9a-4854-b51d-133ead7b6b1e",
   "metadata": {},
   "outputs": [
    {
     "name": "stdin",
     "output_type": "stream",
     "text": [
      "Enter first number:  12\n",
      "Enter second number:  123\n"
     ]
    },
    {
     "name": "stdout",
     "output_type": "stream",
     "text": [
      "123 is greater than 12.\n"
     ]
    }
   ],
   "source": [
    "def compare_numbers(a, b):\n",
    "    if a == b:\n",
    "        return \"The numbers are equal.\"\n",
    "    elif a > b:\n",
    "        return f\"{a} is greater than {b}.\"\n",
    "    else:\n",
    "        return f\"{b} is greater than {a}.\"\n",
    "\n",
    "num1 = int(input(\"Enter first number: \"))\n",
    "num2 = int(input(\"Enter second number: \"))\n",
    "\n",
    "print(compare_numbers(num1, num2))"
   ]
  },
  {
   "cell_type": "markdown",
   "id": "0f5b981c-fc6d-462e-a4a3-a0406793c884",
   "metadata": {},
   "source": [
    "### Exercise 9:\n",
    "Write a Python program that checks if a list is empty.\n",
    "\n",
    "```python\n",
    "# Exercise 9"
   ]
  },
  {
   "cell_type": "code",
   "execution_count": 37,
   "id": "6b8c34cf-896b-4767-8f7e-a674aebf0b8e",
   "metadata": {},
   "outputs": [
    {
     "name": "stdout",
     "output_type": "stream",
     "text": [
      "The list is not empty.\n"
     ]
    }
   ],
   "source": [
    "my_list = [1]\n",
    "\n",
    "if not my_list:  # Checks if the list is empty\n",
    "    print(\"The list is empty.\")\n",
    "else:\n",
    "    print(\"The list is not empty.\")"
   ]
  },
  {
   "cell_type": "markdown",
   "id": "75c3004a-c57f-4e11-ae80-a329d819146e",
   "metadata": {},
   "source": [
    "### Exercise 10:\n",
    "Write a Python function that takes two strings and checks if they are anagrams.\n",
    "\n",
    "```python\n",
    "# Exercise 10"
   ]
  },
  {
   "cell_type": "code",
   "execution_count": 42,
   "id": "a3f163b2-6f28-41d2-9df1-9d3619151866",
   "metadata": {},
   "outputs": [
    {
     "name": "stdin",
     "output_type": "stream",
     "text": [
      "Enter the first word:  the eyes\n",
      "Enter the second word:  they see\n"
     ]
    },
    {
     "name": "stdout",
     "output_type": "stream",
     "text": [
      "The words are anagrams!\n"
     ]
    }
   ],
   "source": [
    "def are_anagrams(str1, str2):\n",
    "    # Convert both strings to lowercase and sort the characters\n",
    "    return sorted(str1.lower()) == sorted(str2.lower())\n",
    "\n",
    "word1 = input(\"Enter the first word: \")\n",
    "word2 = input(\"Enter the second word: \")\n",
    "\n",
    "if are_anagrams(word1, word2):  #Call anagram\n",
    "    print(\"The words are anagrams!\")\n",
    "else:\n",
    "    print(\"The words are not anagrams.\")"
   ]
  },
  {
   "cell_type": "markdown",
   "id": "992dfe1c-66db-4d6a-b2b0-6afb3109325c",
   "metadata": {},
   "source": [
    "### Exercise 11:\n",
    "Write a Python program that checks if a number is prime.\n",
    "\n",
    "```python\n",
    "# Exercise 11"
   ]
  },
  {
   "cell_type": "code",
   "execution_count": 72,
   "id": "7ec04017-9f6f-430f-bc89-68a47b2d0ac1",
   "metadata": {},
   "outputs": [
    {
     "name": "stdin",
     "output_type": "stream",
     "text": [
      "Enter a number:  15\n"
     ]
    },
    {
     "name": "stdout",
     "output_type": "stream",
     "text": [
      "15 is not a prime number\n"
     ]
    }
   ],
   "source": [
    "x = int(input(\"Enter a number: \"))\n",
    "\n",
    "if x <= 1:\n",
    "    print(\"Not a prime number\")\n",
    "else:\n",
    "    is_prime = True\n",
    "\n",
    "    for i in range(2, x):\n",
    "        if x % i == 0:\n",
    "            is_prime = False\n",
    "            break\n",
    "\n",
    "    if is_prime:\n",
    "        print(x, \"is a prime number\")\n",
    "    else:\n",
    "        print(x, \"is not a prime number\")"
   ]
  },
  {
   "cell_type": "markdown",
   "id": "69fb62ce-269d-4114-9d6c-87129c68c2c6",
   "metadata": {},
   "source": [
    "### Exercise 12:\n",
    "Write a Python program that checks if a list of numbers is sorted in ascending order.\n",
    "\n",
    "```python\n",
    "# Exercise 12"
   ]
  },
  {
   "cell_type": "code",
   "execution_count": 45,
   "id": "1fea5532-f619-449c-a9f1-b4d3ade18f5d",
   "metadata": {},
   "outputs": [
    {
     "name": "stdout",
     "output_type": "stream",
     "text": [
      "The list is not sorted.\n"
     ]
    }
   ],
   "source": [
    "numbers = [1, 2, 4, 5, 3]  \n",
    "if numbers == sorted(numbers):\n",
    "    print(\"The list is sorted in ascending order.\")\n",
    "else:\n",
    "    print(\"The list is not sorted.\")"
   ]
  },
  {
   "cell_type": "markdown",
   "id": "cd4a6ea2-2085-46ad-8c04-61cee2e2be00",
   "metadata": {},
   "source": [
    "### Exercise 13:\n",
    "Write a Python function that takes a character and checks if it is a digit.\n",
    "\n",
    "```python\n",
    "# Exercise 13"
   ]
  },
  {
   "cell_type": "code",
   "execution_count": 74,
   "id": "02e75767-2643-4198-864f-8fe5ed8d3c6d",
   "metadata": {},
   "outputs": [
    {
     "name": "stdin",
     "output_type": "stream",
     "text": [
      "Enter a character:  A\n"
     ]
    },
    {
     "name": "stdout",
     "output_type": "stream",
     "text": [
      "It is not a digit.\n"
     ]
    }
   ],
   "source": [
    "def is_digit(charactor):\n",
    "    return charactor.isdigit()  # Returns True if the character is a digit\n",
    "\n",
    "character = input(\"Enter a character: \")\n",
    "\n",
    "if is_digit(character):\n",
    "    print(\"It is a digit.\")\n",
    "else:\n",
    "    print(\"It is not a digit.\")"
   ]
  },
  {
   "cell_type": "markdown",
   "id": "7d99f1cc-e95e-4d19-916d-75cb730bedc8",
   "metadata": {},
   "source": [
    "### Exercise 14:\n",
    "Write a Python function that checks if a string contains only uppercase letters.\n",
    "\n",
    "```python\n",
    "# Exercise 14"
   ]
  },
  {
   "cell_type": "code",
   "execution_count": 48,
   "id": "a912309f-ba43-4336-abed-b389b449cf47",
   "metadata": {},
   "outputs": [
    {
     "name": "stdin",
     "output_type": "stream",
     "text": [
      "Enter a string:  i am a student at AIMS-Senegal\n"
     ]
    },
    {
     "name": "stdout",
     "output_type": "stream",
     "text": [
      "The string does not contain only uppercase letters.\n"
     ]
    }
   ],
   "source": [
    "def is_all_uppercase(text):\n",
    "    return text.isupper()  # is true if all letters are uppercase and there is at least one letter\n",
    "\n",
    "string = input(\"Enter a string: \")\n",
    "\n",
    "if is_all_uppercase(string):\n",
    "    print(\"The string contains only uppercase letters.\")\n",
    "else:\n",
    "    print(\"The string does not contain only uppercase letters.\")"
   ]
  },
  {
   "cell_type": "markdown",
   "id": "da54380f-1a09-41fa-a268-bbf8895be2df",
   "metadata": {},
   "source": [
    "### Exercise 15:\n",
    "Write a Python program that checks if a number is a multiple of 10.\n",
    "\n",
    "```python\n",
    "# Exercise 15"
   ]
  },
  {
   "cell_type": "code",
   "execution_count": 50,
   "id": "9b91cfa4-3c91-4c4d-9749-817b74e0d5fd",
   "metadata": {},
   "outputs": [
    {
     "name": "stdin",
     "output_type": "stream",
     "text": [
      "Enter a number:  34\n"
     ]
    },
    {
     "name": "stdout",
     "output_type": "stream",
     "text": [
      "34 is not a multiple of 10.\n"
     ]
    }
   ],
   "source": [
    "x = int(input(\"Enter a number: \"))\n",
    "\n",
    "if num % 10 == 0:\n",
    "    print(x, \"is a multiple of 10.\")\n",
    "else:\n",
    "    print(x, \"is not a multiple of 10.\")"
   ]
  },
  {
   "cell_type": "markdown",
   "id": "f63a0023-9b26-4b48-9726-36f3a555ca2c",
   "metadata": {},
   "source": [
    "### Exercise 16:\n",
    "Write a Python function that checks if a list contains any duplicates.\n",
    "\n",
    "```python\n",
    "# Exercise 16"
   ]
  },
  {
   "cell_type": "code",
   "execution_count": 51,
   "id": "20479335-c944-4357-8aa0-a05194994d06",
   "metadata": {},
   "outputs": [
    {
     "name": "stdout",
     "output_type": "stream",
     "text": [
      "The list contains duplicates.\n"
     ]
    }
   ],
   "source": [
    "def has_duplicates(liste):\n",
    "    return len(liste) != len(set(liste))\n",
    "\n",
    "my_list = [1, 2, 3, 4, 2, 4]\n",
    "\n",
    "if has_duplicates(my_list):\n",
    "    print(\"The list contains duplicates.\")\n",
    "else:\n",
    "    print(\"The list does not contain duplicates.\")"
   ]
  },
  {
   "cell_type": "markdown",
   "id": "490ee8f5-38b3-4763-a25a-9e5255ef20b6",
   "metadata": {},
   "source": [
    "### Exercise 17:\n",
    "Write a Python program that prints \"Teenager\" if the age is between 13 and 19, otherwise it prints \"Not a teenager.\"\n",
    "\n",
    "```python\n",
    "# Exercise 17"
   ]
  },
  {
   "cell_type": "code",
   "execution_count": 52,
   "id": "7cab7bfe-2c37-4ba7-ae53-e7460a45a097",
   "metadata": {},
   "outputs": [
    {
     "name": "stdin",
     "output_type": "stream",
     "text": [
      "Enter your age:  56\n"
     ]
    },
    {
     "name": "stdout",
     "output_type": "stream",
     "text": [
      "Not a teenager\n"
     ]
    }
   ],
   "source": [
    "age = int(input(\"Enter your age: \"))\n",
    "\n",
    "if 13 <= age <= 19:\n",
    "    print(\"Teenager\")\n",
    "else:\n",
    "    print(\"Not a teenager\")"
   ]
  },
  {
   "cell_type": "markdown",
   "id": "019d26b9-dbc6-4b04-a5a2-2ca36ffeda15",
   "metadata": {},
   "source": [
    "### Exercise 18:\n",
    "Write a Python function that checks if a list contains an element greater than 100.\n",
    "\n",
    "```python\n",
    "# Exercise 18"
   ]
  },
  {
   "cell_type": "code",
   "execution_count": 77,
   "id": "70c3707d-3362-471a-9c2c-e78b9c18f474",
   "metadata": {
    "scrolled": true
   },
   "outputs": [
    {
     "name": "stdout",
     "output_type": "stream",
     "text": [
      "The list contains a number greater than 100.\n"
     ]
    }
   ],
   "source": [
    "def contains_greater_than_100(lis):\n",
    "    for i in lis:\n",
    "        if i > 100:\n",
    "            return True\n",
    "    return False\n",
    "\n",
    "numbers = [10, 50, 120, 80]\n",
    "\n",
    "if contains_greater_than_100(numbers):\n",
    "    print(\"The list contains a number greater than 100.\")\n",
    "else:\n",
    "    print(\"No number greater than 100 in the list.\")\n"
   ]
  },
  {
   "cell_type": "markdown",
   "id": "43a26d48-751d-4e7f-a6d5-479459812ce6",
   "metadata": {},
   "source": [
    "### Exercise 19:\n",
    "Write a Python program that checks if a number is even or odd.\n",
    "\n",
    "```python\n",
    "# Exercise 19"
   ]
  },
  {
   "cell_type": "code",
   "execution_count": 55,
   "id": "9ebd88be-d23e-4b16-9471-0a6ff93bfc93",
   "metadata": {},
   "outputs": [
    {
     "name": "stdin",
     "output_type": "stream",
     "text": [
      "Enter a number:  45\n"
     ]
    },
    {
     "name": "stdout",
     "output_type": "stream",
     "text": [
      "45 is odd number\n"
     ]
    }
   ],
   "source": [
    "y = int(input(\"Enter a number: \"))\n",
    "\n",
    "if y % 2 == 0:\n",
    "    print(y, \"is even number\")\n",
    "else:\n",
    "    print(y, \"is odd number\")"
   ]
  },
  {
   "cell_type": "markdown",
   "id": "63cc7aaa-c428-4b6e-9e4e-2fc9d7af717f",
   "metadata": {},
   "source": [
    "### Exercise 20:\n",
    "Write a Python function that checks if a string ends with a punctuation mark.\n",
    "\n",
    "```python\n",
    "# Exercise 20"
   ]
  },
  {
   "cell_type": "code",
   "execution_count": 79,
   "id": "0956bd65-44ce-461e-b8ee-10543e86ba8c",
   "metadata": {},
   "outputs": [
    {
     "name": "stdin",
     "output_type": "stream",
     "text": [
      "Enter a sentence:  when we were young\n"
     ]
    },
    {
     "name": "stdout",
     "output_type": "stream",
     "text": [
      "The string does not end with a punctuation mark.\n"
     ]
    }
   ],
   "source": [
    "def ends_with_punctuation(text):\n",
    "    return text.endswith(('.', '!', '?','...'))\n",
    "\n",
    "sentence = input(\"Enter a sentence: \")\n",
    "\n",
    "if ends_with_punctuation(sentence):\n",
    "    print(\"The string ends with a punctuation mark.\")\n",
    "else:\n",
    "    print(\"The string does not end with a punctuation mark.\")"
   ]
  },
  {
   "cell_type": "markdown",
   "id": "00cc0b0c-0b39-4c8f-a242-8f50f4561ff5",
   "metadata": {},
   "source": [
    "### Exercise 21:\n",
    "Write a Python program that prints \"Yes\" if the number is between 1 and 100, otherwise it prints \"No.\"\n",
    "\n",
    "```python\n",
    "# Exercise 21"
   ]
  },
  {
   "cell_type": "code",
   "execution_count": 57,
   "id": "05cf719a-4d90-4837-93e2-934c8aac7d17",
   "metadata": {},
   "outputs": [
    {
     "name": "stdin",
     "output_type": "stream",
     "text": [
      "Enter a number:  13\n"
     ]
    },
    {
     "name": "stdout",
     "output_type": "stream",
     "text": [
      "Yes\n"
     ]
    }
   ],
   "source": [
    "x = int(input(\"Enter a number: \"))\n",
    "\n",
    "if 1 <= x <= 100:\n",
    "    print(\"Yes\")\n",
    "else:\n",
    "    print(\"No\")"
   ]
  },
  {
   "cell_type": "markdown",
   "id": "ae2dbab5-00f7-477a-9cc3-2f286d3a2d72",
   "metadata": {},
   "source": [
    "### Exercise 22:\n",
    "Write a Python program that checks if two strings have the same length.\n",
    "\n",
    "```python\n",
    "# Exercise 22"
   ]
  },
  {
   "cell_type": "code",
   "execution_count": 58,
   "id": "80c3d42d-32d7-4124-9544-f897c95e9c2c",
   "metadata": {},
   "outputs": [
    {
     "name": "stdin",
     "output_type": "stream",
     "text": [
      "Enter the first string:  i go to the church\n",
      "Enter the second string:  mom goes to the market\n"
     ]
    },
    {
     "name": "stdout",
     "output_type": "stream",
     "text": [
      "The two strings do not have the same length.\n"
     ]
    }
   ],
   "source": [
    "# two strings we have\n",
    "str1 = input(\"Enter the first string: \")\n",
    "str2 = input(\"Enter the second string: \")\n",
    "\n",
    "if len(str1) == len(str2):\n",
    "    print(\"The two strings have the same length.\")\n",
    "else:\n",
    "    print(\"The two strings do not have the same length.\")"
   ]
  },
  {
   "cell_type": "markdown",
   "id": "369a58b6-f9b6-4284-bdfe-817b81bc5f74",
   "metadata": {},
   "source": [
    "### Exercise 23:\n",
    "Write a Python function that checks if a number is greater than its reverse.\n",
    "\n",
    "```python\n",
    "# Exercise 23"
   ]
  },
  {
   "cell_type": "code",
   "execution_count": 83,
   "id": "cdae0eb5-7c78-452e-a243-4f87c65ea0b2",
   "metadata": {},
   "outputs": [
    {
     "name": "stdin",
     "output_type": "stream",
     "text": [
      "Enter a number:  300\n"
     ]
    },
    {
     "name": "stdout",
     "output_type": "stream",
     "text": [
      "300 is greater than its reverse.\n"
     ]
    }
   ],
   "source": [
    "def is_greater_than_reverse(num):\n",
    "\n",
    "    reversed_num = str(num)[::-1] # Convert the number to a string and reverse it\n",
    "    reserved_int = int(reversed_num) #convert string to the integer\n",
    "    return num > reserved_int\n",
    "\n",
    "n = int(input(\"Enter a number: \"))\n",
    "\n",
    "if is_greater_than_reverse(n):\n",
    "    print(f\"{n} is greater than its reverse.\")\n",
    "else:\n",
    "    print(f\"{n} is not greater than its reverse.\")"
   ]
  },
  {
   "cell_type": "markdown",
   "id": "f26f3a56-dee0-4d6b-9f24-a9d3d20d26f0",
   "metadata": {},
   "source": [
    "### Exercise 24:\n",
    "Write a Python program that checks if a password contains both letters and numbers.\n",
    "\n",
    "```python\n",
    "# Exercise 24"
   ]
  },
  {
   "cell_type": "code",
   "execution_count": 68,
   "id": "c0687f45-8d2e-4265-a883-498b6286de02",
   "metadata": {},
   "outputs": [
    {
     "name": "stdin",
     "output_type": "stream",
     "text": [
      "Enter a password:  123AZEERT\n"
     ]
    },
    {
     "name": "stdout",
     "output_type": "stream",
     "text": [
      "Valid password: contains both letters and numbers.\n"
     ]
    }
   ],
   "source": [
    "password = input(\"Enter a password: \")\n",
    "# we suppose we don't have any letter and number\n",
    "has_letter = False\n",
    "has_number = False\n",
    "#we look each caractor's password\n",
    "for charactor in password:\n",
    "    if charactor.isalpha():\n",
    "        has_letter = True\n",
    "    elif charactor.isdigit():\n",
    "        has_number = True\n",
    "#we check each caractor's password\n",
    "if has_letter and has_number:\n",
    "    print(\"Valid password: contains both letters and numbers.\")\n",
    "else:\n",
    "    print(\"Invalid password: must contain both letters and numbers.\")"
   ]
  },
  {
   "cell_type": "markdown",
   "id": "4cde9f3c-0098-401a-a467-0e861d9807d5",
   "metadata": {},
   "source": [
    "### Exercise 25:\n",
    "Write a Python program that checks if a number is between two given numbers.\n",
    "\n",
    "```python\n",
    "# Exercise 25"
   ]
  },
  {
   "cell_type": "code",
   "execution_count": 62,
   "id": "a0486800-f5ec-4fbc-9a73-e427ee16a4da",
   "metadata": {},
   "outputs": [
    {
     "name": "stdin",
     "output_type": "stream",
     "text": [
      "Enter a number:  13\n",
      "Enter the lower bound:  2\n",
      "Enter the upper bound:  15\n"
     ]
    },
    {
     "name": "stdout",
     "output_type": "stream",
     "text": [
      "13 is between 2 and 15.\n"
     ]
    }
   ],
   "source": [
    "num = int(input(\"Enter a number: \"))\n",
    "low = int(input(\"Enter the lower bound: \"))\n",
    "high = int(input(\"Enter the upper bound: \"))\n",
    "\n",
    "if low < num < high:\n",
    "    print(f\"{num} is between {low} and {high}.\")\n",
    "else:\n",
    "    print(f\"{num} is NOT between {low} and {high}.\")"
   ]
  },
  {
   "cell_type": "markdown",
   "id": "f76f1f75-5767-4cf1-949b-423528788bae",
   "metadata": {},
   "source": [
    "### Exercise 26:\n",
    "Write a Python function that checks if all characters in a string are unique.\n",
    "\n",
    "```python\n",
    "# Exercise 26"
   ]
  },
  {
   "cell_type": "code",
   "execution_count": 84,
   "id": "62a3e6df-007e-4392-a4bd-9c64ec3e5756",
   "metadata": {},
   "outputs": [
    {
     "name": "stdin",
     "output_type": "stream",
     "text": [
      "Enter a string:  lucas is my name\n"
     ]
    },
    {
     "name": "stdout",
     "output_type": "stream",
     "text": [
      "There are duplicate characters.\n"
     ]
    }
   ],
   "source": [
    "def all_unique_chars(s):\n",
    "    return len(s) == len(set(s))\n",
    "\n",
    "string = input(\"Enter a string: \")\n",
    "\n",
    "if all_unique_chars(string):\n",
    "    print(\"All characters are unique.\")\n",
    "else:\n",
    "    print(\"There are duplicate characters.\")"
   ]
  },
  {
   "cell_type": "markdown",
   "id": "ecd45c8a-bae7-46dc-afef-49c088287a64",
   "metadata": {},
   "source": [
    "### Exercise 27:\n",
    "Write a Python program that checks if a number is a perfect square.\n",
    "\n",
    "```python\n",
    "# Exercise 27"
   ]
  },
  {
   "cell_type": "code",
   "execution_count": 86,
   "id": "70f96486-dd68-4fd3-8a0f-90b7fc293823",
   "metadata": {},
   "outputs": [
    {
     "name": "stdin",
     "output_type": "stream",
     "text": [
      "Enter a number:  26\n"
     ]
    },
    {
     "name": "stdout",
     "output_type": "stream",
     "text": [
      "26 is not a perfect square.\n"
     ]
    }
   ],
   "source": [
    "import math\n",
    "\n",
    "num = int(input(\"Enter a number: \"))\n",
    "\n",
    "if num < 0:\n",
    "    print(\"Negative numbers cannot be perfect squares.\")\n",
    "else:\n",
    "    sqrt_num = math.isqrt(num)  # Integer square root\n",
    "    if sqrt_num * sqrt_num == num:\n",
    "        print(f\"{num} is a perfect square.\")\n",
    "    else:\n",
    "        print(f\"{num} is not a perfect square.\")\n"
   ]
  },
  {
   "cell_type": "markdown",
   "id": "437409d6-527a-47f6-ac1d-09ab36b36874",
   "metadata": {},
   "source": [
    "### Exercise 28:\n",
    "Write a Python function that checks if a word is a palindrome.\n",
    "\n",
    "```python\n",
    "# Exercise 28"
   ]
  },
  {
   "cell_type": "code",
   "execution_count": 88,
   "id": "ad315806-fc9a-43cf-9c9e-d2f528d6aa42",
   "metadata": {},
   "outputs": [
    {
     "name": "stdin",
     "output_type": "stream",
     "text": [
      "Enter a word:  a canal\n"
     ]
    },
    {
     "name": "stdout",
     "output_type": "stream",
     "text": [
      "a canal is not a palindrome.\n"
     ]
    }
   ],
   "source": [
    "def is_palindrome(word):\n",
    "    \n",
    "    word = word.lower()     # Convert to lowercase to make it case-insensitive\n",
    "    return word == word[::-1]   # check if word equals to reverse word\n",
    "\n",
    "word = input(\"Enter a word: \")\n",
    "\n",
    "if is_palindrome(word):\n",
    "    print(f\"{word} is a palindrome.\")\n",
    "else:\n",
    "    print(f\"{word} is not a palindrome.\")"
   ]
  },
  {
   "cell_type": "markdown",
   "id": "cf9d9b2a-75cf-48c8-a180-19a6b0215071",
   "metadata": {},
   "source": [
    "### Exercise 29:\n",
    "Write a Python program that prints \"Fizz\" if a number is divisible by 3, \"Buzz\" if it is divisible by 5, and \"FizzBuzz\" if divisible by both.\n",
    "\n",
    "```python\n",
    "# Exercise 29"
   ]
  },
  {
   "cell_type": "code",
   "execution_count": 92,
   "id": "2da3930e-fa96-4ad7-a217-c88c29a7e537",
   "metadata": {},
   "outputs": [
    {
     "name": "stdin",
     "output_type": "stream",
     "text": [
      "Enter a number:  23\n"
     ]
    },
    {
     "name": "stdout",
     "output_type": "stream",
     "text": [
      "23 is not found in the conditions\n"
     ]
    }
   ],
   "source": [
    "num = int(input(\"Enter a number: \"))\n",
    "\n",
    "if num % 3 == 0 and num % 5 == 0:\n",
    "    print(\"FizzBuzz\")\n",
    "elif num % 3 == 0:\n",
    "    print(\"Fizz\")\n",
    "elif num % 5 == 0:\n",
    "    print(\"Buzz\")\n",
    "else:\n",
    "    print(num, 'is not found in the conditions')"
   ]
  },
  {
   "cell_type": "markdown",
   "id": "f73ef196-e0c3-47e1-98ca-8cf662d65842",
   "metadata": {},
   "source": [
    "### Exercise 30:\n",
    "Write a Python program that checks if the sum of the digits of a number is even.\n",
    "\n",
    "```python\n",
    "# Exercise 30"
   ]
  },
  {
   "cell_type": "code",
   "execution_count": 104,
   "id": "1ac965bf-849a-4bd2-95ef-6b8e656c669b",
   "metadata": {},
   "outputs": [
    {
     "name": "stdin",
     "output_type": "stream",
     "text": [
      "Enter a number:  54\n"
     ]
    },
    {
     "name": "stdout",
     "output_type": "stream",
     "text": [
      "The sum of the digits is 9 and is odd.\n"
     ]
    }
   ],
   "source": [
    "num = int(input(\"Enter a number: \"))\n",
    "# value absolue for negative number\n",
    "num = abs(num)\n",
    "\n",
    "# we initialize a variable to store the sum of digits\n",
    "\n",
    "digit_sum = 0\n",
    "# we convert the number to a string\n",
    "num_str = str(num)\n",
    "\n",
    "# Add each digit to digit_sum\n",
    "for digit in num_str:\n",
    "    digit_sum = digit_sum + int(digit)\n",
    "\n",
    "# Check if the sum is even or odd\n",
    "if digit_sum % 2 == 0:\n",
    "    print(\"The sum of the digits is \", digit_sum, \"and is even.\")\n",
    "else:\n",
    "    print(\"The sum of the digits is\", digit_sum, \"and is odd.\")\n"
   ]
  },
  {
   "cell_type": "markdown",
   "id": "bb4e50f1-4bc4-4904-901c-ebbd18195044",
   "metadata": {},
   "source": [
    "### Exercise 31:\n",
    "Write a Python program that checks if a string is a valid email address.\n",
    "\n",
    "```python\n",
    "# Exercise 31"
   ]
  },
  {
   "cell_type": "code",
   "execution_count": 106,
   "id": "625d4a46-7d4d-4426-bbee-59cecd4f3590",
   "metadata": {},
   "outputs": [
    {
     "name": "stdin",
     "output_type": "stream",
     "text": [
      "Enter an email address:  jjhi.com\n"
     ]
    },
    {
     "name": "stdout",
     "output_type": "stream",
     "text": [
      "Invalid email address.\n"
     ]
    }
   ],
   "source": [
    "import re\n",
    "\n",
    "email = input(\"Enter an email address: \")\n",
    "\n",
    "# Simple regex pattern for basic email validation\n",
    "pattern = r'^[\\w\\.-]+@[\\w\\.-]+\\.\\w+$'\n",
    "\n",
    "if re.match(pattern, email):\n",
    "    print(\"Valid email address.\")\n",
    "else:\n",
    "    print(\"Invalid email address.\")"
   ]
  },
  {
   "cell_type": "markdown",
   "id": "43475018-9ae6-411a-9da4-ff09e68b96bc",
   "metadata": {},
   "source": [
    "### Exercise 32:\n",
    "Write a Python function that checks if a number is within 10 of 100 or 200.\n",
    "\n",
    "```python\n",
    "# Exercise 32"
   ]
  },
  {
   "cell_type": "code",
   "execution_count": 107,
   "id": "ddf373cc-6ac5-45e6-99bf-0aa795d6c80a",
   "metadata": {},
   "outputs": [
    {
     "name": "stdin",
     "output_type": "stream",
     "text": [
      "Enter a number:  50\n"
     ]
    },
    {
     "name": "stdout",
     "output_type": "stream",
     "text": [
      "50 is not within 10 of 100 or 200.\n"
     ]
    }
   ],
   "source": [
    "\n",
    "def near_100_or_200(number):\n",
    "    return abs(100 - number) <= 10 or abs(200 - number) <= 10\n",
    "\n",
    "n = int(input(\"Enter a number: \"))\n",
    "#the function to verify\n",
    "if near_100_or_200(n):\n",
    "    print(f\"{n} is within 10 of 100 or 200.\")\n",
    "else:\n",
    "    print(f\"{n} is not within 10 of 100 or 200.\")\n"
   ]
  },
  {
   "cell_type": "markdown",
   "id": "ca9cdeef-84b5-4e26-836c-74ede380dd9d",
   "metadata": {},
   "source": [
    "### Exercise 33:\n",
    "Write a Python program that checks if a given string is a valid URL.\n",
    "\n",
    "```python\n",
    "# Exercise 33"
   ]
  },
  {
   "cell_type": "code",
   "execution_count": 109,
   "id": "ff01185e-5aec-4a7f-ae87-1258833a6bd9",
   "metadata": {},
   "outputs": [
    {
     "name": "stdin",
     "output_type": "stream",
     "text": [
      "Enter a URL:  www.kgjkg.com\n"
     ]
    },
    {
     "name": "stdout",
     "output_type": "stream",
     "text": [
      "www.kgjkg.com is a valid URL.\n"
     ]
    }
   ],
   "source": [
    "import re\n",
    "\n",
    "url = input(\"Enter a URL: \")\n",
    "\n",
    "# Simple regex pattern for basic URL validation\n",
    "pattern = r'^(https?://)?(www\\.)?[\\w-]+\\.[\\w.-]+(/[\\w./?%&=-]*)?$'\n",
    "# put the condition\n",
    "if re.match(pattern, url):\n",
    "    print(url, \"is a valid URL.\")\n",
    "else:\n",
    "    print(url, \"is an invalid URL.\")"
   ]
  },
  {
   "cell_type": "markdown",
   "id": "6403b62d-ae6c-4c4b-965f-936c8047b007",
   "metadata": {},
   "source": [
    "### Exercise 34:\n",
    "Write a Python program that checks if a list contains all even numbers.\n",
    "\n",
    "```python\n",
    "# Exercise 34"
   ]
  },
  {
   "cell_type": "code",
   "execution_count": 110,
   "id": "bb77c95c-5d91-4242-8a07-1c574b125e1e",
   "metadata": {},
   "outputs": [
    {
     "name": "stdout",
     "output_type": "stream",
     "text": [
      "All numbers are not even.\n"
     ]
    }
   ],
   "source": [
    "numbers = [2, 4, 6, 7.5] \n",
    "\n",
    "if all(x % 2 == 0 for x in numbers):\n",
    "    print(\"All numbers are even.\")\n",
    "else:\n",
    "    print(\"All numbers are not even.\")"
   ]
  },
  {
   "cell_type": "markdown",
   "id": "57b787d3-09f2-4310-8d22-ceb2edf463f2",
   "metadata": {},
   "source": [
    "### Exercise 35:\n",
    "Write a Python program that checks if a word is longer than a given length.\n",
    "\n",
    "```python\n",
    "# Exercise 35"
   ]
  },
  {
   "cell_type": "code",
   "execution_count": 113,
   "id": "3134c1f0-69ce-4393-9d1b-846868782988",
   "metadata": {},
   "outputs": [
    {
     "name": "stdin",
     "output_type": "stream",
     "text": [
      "Enter a word:  inconditionnel \n",
      "Enter the length to compare:  13\n"
     ]
    },
    {
     "name": "stdout",
     "output_type": "stream",
     "text": [
      "The word 'inconditionnel ' is longer than 13 characters.\n"
     ]
    }
   ],
   "source": [
    "word = input(\"Enter a word: \")\n",
    "length = int(input(\"Enter the length to compare: \"))\n",
    "\n",
    "if len(word) > length:\n",
    "    print(f\"The word '{word}' is longer than {length} characters.\")\n",
    "else:\n",
    "    print(f\"The word '{word}' is not longer than {length} characters.\")\n"
   ]
  },
  {
   "cell_type": "markdown",
   "id": "2c96e7f1-4d7b-4e60-a3f5-d21956d128bd",
   "metadata": {},
   "source": [
    "### Exercise 36:\n",
    "Write a Python program that checks if a list contains only positive numbers.\n",
    "\n",
    "```python\n",
    "# Exercise 36"
   ]
  },
  {
   "cell_type": "code",
   "execution_count": 127,
   "id": "3d934f87-eca1-438e-bd27-3bb6f5088305",
   "metadata": {},
   "outputs": [
    {
     "name": "stdout",
     "output_type": "stream",
     "text": [
      "List [1, 6, 3, 9, 5] contains only positive numbers: True\n",
      "List [1, -2, 3, 4, -5] contains only positive numbers: False\n",
      "List [0, 1, 2] contains only positive numbers: False\n",
      "List [] contains only positive numbers: True\n"
     ]
    }
   ],
   "source": [
    "def positive_numbers(numbers):\n",
    "  \"\"\"\n",
    "  Checks if all numbers contains a list are strictly positive.\n",
    "\n",
    "  parameter:\n",
    "    numbers: A list of numbers (integers or floats).\n",
    "\n",
    "  Returns:\n",
    "    True if all numbers in the list are greater than 0, False in another case.\n",
    "  \"\"\"\n",
    "  for x in numbers:\n",
    "    if x <= 0:  # for any number is not strictly positive\n",
    "      return False\n",
    "  return True  # for all numbers are strictly positive\n",
    "\n",
    "list1 = [1, 6, 3, 9, 5]\n",
    "list2 = [1, -2, 3, 4, -5]\n",
    "list3 = [0, 1, 2]\n",
    "list4 = []\n",
    "\n",
    "print(f\"List {list1} contains only positive numbers: {positive_numbers(list1)}\")\n",
    "print(f\"List {list2} contains only positive numbers: {positive_numbers(list2)}\")\n",
    "print(f\"List {list3} contains only positive numbers: {positive_numbers(list3)}\")\n",
    "print(f\"List {list4} contains only positive numbers: {positive_numbers(list4)}\")"
   ]
  },
  {
   "cell_type": "markdown",
   "id": "3a01769a-e184-491e-9c93-22cb735445f3",
   "metadata": {},
   "source": [
    "### Exercise 37:\n",
    "Write a Python function that checks if a year is a century year (i.e., divisible by 100).\n",
    "\n",
    "```python\n",
    "# Exercise 37"
   ]
  },
  {
   "cell_type": "code",
   "execution_count": 131,
   "id": "cfd7c246-13ea-4cbc-9c18-580997f167f9",
   "metadata": {},
   "outputs": [
    {
     "name": "stdin",
     "output_type": "stream",
     "text": [
      "enter the year :  2100\n"
     ]
    },
    {
     "name": "stdout",
     "output_type": "stream",
     "text": [
      "True\n"
     ]
    }
   ],
   "source": [
    "def century_year(year):\n",
    "    \"\"\"\n",
    "    Check if a given year is a century year (divisible by 100).\n",
    "\n",
    "    Parameter:\n",
    "    year (int): The year to check.\n",
    "\n",
    "    Returns:\n",
    "    bool: True if the year is a century year, False otherwise.\n",
    "    \"\"\"\n",
    "    return year % 100 == 0\n",
    "year = int(input('enter the year : '))\n",
    "print(century_year(year)) "
   ]
  },
  {
   "cell_type": "markdown",
   "id": "916af330-83c5-4815-b04c-19c91a3a51e1",
   "metadata": {},
   "source": [
    "### Exercise 38:\n",
    "Write a Python program that checks if the sum of a list of numbers is greater than 100.\n",
    "\n",
    "```python\n",
    "# Exercise 38"
   ]
  },
  {
   "cell_type": "code",
   "execution_count": 132,
   "id": "90573520-2a0f-4f5d-8318-b870ba390317",
   "metadata": {},
   "outputs": [
    {
     "name": "stdout",
     "output_type": "stream",
     "text": [
      "The sum of [25, 30, 50, 2]  is greater than 100.\n"
     ]
    }
   ],
   "source": [
    "def sum_greater_than_100(numbers):\n",
    "    \"\"\"\n",
    "    Check if the sum of a list of numbers is greater than 100.\n",
    "\n",
    "    Parameter:\n",
    "    numbers: The list of numbers to sum.\n",
    "\n",
    "    Returns:\n",
    "    bool: True if the sum is greater than 100, False otherwise.\n",
    "    \"\"\"\n",
    "    total = sum(numbers)\n",
    "    return total > 100\n",
    "\n",
    "numbers = [25, 30, 50, 2]\n",
    "if sum_greater_than_100(numbers):\n",
    "    print(\"The sum of\",numbers,\" is greater than 100.\")\n",
    "else:\n",
    "    print(\"The sum of\", numbers,\" is 100 or less.\")\n"
   ]
  },
  {
   "cell_type": "markdown",
   "id": "b1620825-e3d5-456d-bcfe-5b5019632ccf",
   "metadata": {},
   "source": [
    "### Exercise 39:\n",
    "Write a Python function that checks if a given word is a substring of another string.\n",
    "\n",
    "```python\n",
    "# Exercise 39"
   ]
  },
  {
   "cell_type": "code",
   "execution_count": 135,
   "id": "58554a0a-0c00-4e82-b3fa-ac6dd7f308b6",
   "metadata": {},
   "outputs": [
    {
     "name": "stdout",
     "output_type": "stream",
     "text": [
      "True\n",
      "False\n",
      "True\n"
     ]
    }
   ],
   "source": [
    "def is_substring(word, string):\n",
    "    \"\"\"\n",
    "    Check if a word is a substring of a given string.\n",
    "\n",
    "    Parameters: we have two parameters\n",
    "    word : The word to search for.\n",
    "    string : The string to search in.\n",
    "\n",
    "    Returns:\n",
    "    bool: True if word is a substring of string, False otherwise.\n",
    "    \"\"\"\n",
    "    return word in string\n",
    "\n",
    "print(is_substring(\"cat\", \"concatenation\"))  \n",
    "print(is_substring(\"dog\", \"concatenation\"))  \n",
    "print(is_substring(\"luc\", \"lucien\"))"
   ]
  },
  {
   "cell_type": "markdown",
   "id": "a175b872-d887-46d3-acb1-52bc5436b400",
   "metadata": {},
   "source": [
    "### Exercise 40:\n",
    "Write a Python program that checks if a number is a power of 2.\n",
    "\n",
    "```python\n",
    "# Exercise 40"
   ]
  },
  {
   "cell_type": "code",
   "execution_count": 136,
   "id": "aafa0229-8adb-49d1-9255-26d5ca603938",
   "metadata": {},
   "outputs": [
    {
     "name": "stdout",
     "output_type": "stream",
     "text": [
      "1 is a power of 2\n",
      "2 is a power of 2\n",
      "3 is not a power of 2\n",
      "8 is a power of 2\n",
      "10 is not a power of 2\n",
      "16 is a power of 2\n"
     ]
    }
   ],
   "source": [
    "def is_power_of_two(n):\n",
    "    if n <= 0:  # Negative numbers \n",
    "        return False\n",
    "    \n",
    "    # Keep dividing n by 2 as long as it is divisible by 2\n",
    "    while n > 1:\n",
    "        if n % 2 != 0:\n",
    "            return False\n",
    "        n = n // 2  # Divide by 2\n",
    "    \n",
    "    return True\n",
    "\n",
    "numbers = [1, 2, 3, 8, 10, 16]\n",
    "\n",
    "# Check each number\n",
    "for i in numbers:\n",
    "    if is_power_of_two(i):\n",
    "        print(i, \"is a power of 2\")\n",
    "    else:\n",
    "        print(i, \"is not a power of 2\")\n"
   ]
  },
  {
   "cell_type": "markdown",
   "id": "b7d92490-825a-4f94-a625-33073c0f015f",
   "metadata": {},
   "source": [
    "### Exercise 41:\n",
    "Write a Python function that checks if a string contains no spaces.\n",
    "\n",
    "```python\n",
    "# Exercise 41"
   ]
  },
  {
   "cell_type": "code",
   "execution_count": 138,
   "id": "83097e5b-aa70-4eba-86ca-3d15dadda6ff",
   "metadata": {},
   "outputs": [
    {
     "name": "stdout",
     "output_type": "stream",
     "text": [
      "False\n",
      "True\n"
     ]
    }
   ],
   "source": [
    "def no_spaces(s):\n",
    "    \"\"\"\n",
    "    Check if a string contains no spaces.\n",
    "    Parameters:\n",
    "    s : The string to check.\n",
    "    Returns:\n",
    "    bool: True if the string contains no spaces, False otherwise.\n",
    "    \"\"\"\n",
    "    return ' ' not in s\n",
    "\n",
    "print(no_spaces(\"Luc isengwe\"))  \n",
    "print(no_spaces(\"Lucisengwe\")) "
   ]
  },
  {
   "cell_type": "markdown",
   "id": "3deb33b7-4c0c-403c-a40c-b72445681e49",
   "metadata": {},
   "source": [
    "### Exercise 42:\n",
    "Write a Python program that prints \"Yes\" if a number is divisible by both 2 and 3, otherwise it prints \"No.\"\n",
    "\n",
    "```python\n",
    "# Exercise 42"
   ]
  },
  {
   "cell_type": "code",
   "execution_count": 148,
   "id": "27bc7ade-72eb-4b47-b83f-4cc8dcd222a3",
   "metadata": {},
   "outputs": [
    {
     "name": "stdout",
     "output_type": "stream",
     "text": [
      "6: \n",
      "Yes\n",
      "4: \n",
      "No\n",
      "9: \n",
      "No\n",
      "12: \n",
      "Yes\n",
      "7: \n",
      "No\n"
     ]
    }
   ],
   "source": [
    "def divisible_by_2_and_3(n):\n",
    "    if n % 2 == 0 and n % 3 == 0:\n",
    "        print(\"Yes\")\n",
    "    else:\n",
    "        print(\"No\")\n",
    "\n",
    "numbers = [6, 4, 9, 12, 7]\n",
    "for x in numbers:\n",
    "    print(f\"{x}: \")\n",
    "    divisible_by_2_and_3(x)"
   ]
  },
  {
   "cell_type": "markdown",
   "id": "e174695b-45ca-4ce8-a6ab-26f9946f22cf",
   "metadata": {},
   "source": [
    "### Exercise 43:\n",
    "Write a Python program that checks if a number is a palindrome.\n",
    "\n",
    "```python\n",
    "# Exercise 43"
   ]
  },
  {
   "cell_type": "code",
   "execution_count": 149,
   "id": "7db178e6-aeab-49e1-ad16-842073fb3bcf",
   "metadata": {},
   "outputs": [
    {
     "name": "stdout",
     "output_type": "stream",
     "text": [
      "121 is palindrome? True\n",
      "123 is palindrome? False\n",
      "454 is palindrome? True\n",
      "10 is palindrome? False\n",
      "7 is palindrome? True\n"
     ]
    }
   ],
   "source": [
    "def is_palindrome(number):\n",
    "    \"\"\"\n",
    "    Check if a number is a palindrome.\n",
    "\n",
    "    Parameter:\n",
    "    number : The number to check.\n",
    "\n",
    "    Returns:\n",
    "    bool: True if the number is a palindrome, False otherwise.\n",
    "    \"\"\"\n",
    "    # Convert the number to a string\n",
    "    str_num = str(number)\n",
    "    # Check if the string is equal to its reverse\n",
    "    return str_num == str_num[::-1]\n",
    "\n",
    "numbers = [121, 123, 454, 10, 7]\n",
    "for y in numbers:\n",
    "    print(f\"{y} is palindrome? {is_palindrome(y)}\")"
   ]
  },
  {
   "cell_type": "markdown",
   "id": "2c73e688-75d8-4651-a140-b52b70044942",
   "metadata": {},
   "source": [
    "### Exercise 44:\n",
    "Write a Python function that checks if a string is made of only lowercase letters.\n",
    "\n",
    "```python\n",
    "# Exercise 44"
   ]
  },
  {
   "cell_type": "code",
   "execution_count": 151,
   "id": "70bdd1df-811f-4038-917d-6cb3f226abb9",
   "metadata": {},
   "outputs": [
    {
     "name": "stdout",
     "output_type": "stream",
     "text": [
      "True\n",
      "False\n"
     ]
    }
   ],
   "source": [
    "def is_all_lowercase(s):\n",
    "    \"\"\"\n",
    "    Check if a string is made of only lowercase letters.\n",
    "\n",
    "    Parameters:\n",
    "    s: The string to check.\n",
    "\n",
    "    Returns:\n",
    "    bool: True if the string contains only lowercase letters, False otherwise.\n",
    "    \"\"\"\n",
    "    return s.islower() and s.isalpha()\n",
    "\n",
    "print(is_all_lowercase(\"hello\"))     \n",
    "print(is_all_lowercase(\"Hello\"))     \n",
    "  "
   ]
  },
  {
   "cell_type": "markdown",
   "id": "3860ba83-1b2c-4168-9cf1-6ebefb4ca55a",
   "metadata": {},
   "source": [
    "### Exercise 45:\n",
    "Write a Python program that checks if a string starts with a specific prefix.\n",
    "\n",
    "```python\n",
    "# Exercise 45"
   ]
  },
  {
   "cell_type": "code",
   "execution_count": 154,
   "id": "b16561b9-968a-403f-9391-bcef887a63e5",
   "metadata": {},
   "outputs": [
    {
     "name": "stdout",
     "output_type": "stream",
     "text": [
      "'apple' starts with 'ap'? True\n",
      "'orange' starts with 'ap'? False\n",
      "'pineapple' starts with 'ap'? False\n",
      "'cherry' starts with 'ap'? False\n"
     ]
    }
   ],
   "source": [
    "def starts_with_prefix(s, prefix):\n",
    "    \"\"\"\n",
    "    Check if a string starts with a specific prefix.\n",
    "\n",
    "    Parameters:\n",
    "    s : The string to check.\n",
    "    prefix : The prefix to look for.\n",
    "\n",
    "    Returns:\n",
    "    bool: True if the string starts with the prefix, False otherwise.\n",
    "    \"\"\"\n",
    "    return s.startswith(prefix)\n",
    "prefix = \"ap\"\n",
    "strings = [\"apple\", \"orange\", \"pineapple\", \"cherry\"]\n",
    "\n",
    "for s in strings:\n",
    "    print(f\"'{s}' starts with '{prefix}'? {starts_with_prefix(s, prefix)}\")\n"
   ]
  },
  {
   "cell_type": "markdown",
   "id": "77a29528-4e79-4be5-a0fe-607ae62a4d72",
   "metadata": {},
   "source": [
    "### Exercise 46:\n",
    "Write a Python function that checks if a number is divisible by any number in a given list.\n",
    "\n",
    "```python\n",
    "# Exercise 46"
   ]
  },
  {
   "cell_type": "code",
   "execution_count": 156,
   "id": "8407adc2-480f-410a-96fb-a258fa07b87f",
   "metadata": {},
   "outputs": [
    {
     "name": "stdin",
     "output_type": "stream",
     "text": [
      "enter the number :  30\n"
     ]
    },
    {
     "name": "stdout",
     "output_type": "stream",
     "text": [
      "30 is divisible by at least one number in [3, 4, 5, 6].\n"
     ]
    }
   ],
   "source": [
    "def divisible_by_any(n, divisors):\n",
    "    \"\"\"\n",
    "    Check if a number is divisible by any number in a given list.\n",
    "\n",
    "    Parameters:\n",
    "    n : The number to check.\n",
    "    divisors : List of numbers to check divisibility against.\n",
    "\n",
    "    Returns:\n",
    "    bool: True if n is divisible by any number in the list, False otherwise.\n",
    "    \"\"\"\n",
    "    for x in divisors:\n",
    "        if x != 0 and n % x == 0:\n",
    "            return True\n",
    "    return False\n",
    "\n",
    "z = int(input('enter the number : '))\n",
    "divisors_list = [3, 4, 5, 6]\n",
    "\n",
    "if divisible_by_any(number, divisors_list):\n",
    "    print(f\"{number} is divisible by at least one number in {divisors_list}.\")\n",
    "else:\n",
    "    print(f\"{number} is not divisible by any number in {divisors_list}.\")\n"
   ]
  },
  {
   "cell_type": "markdown",
   "id": "4eb1f58b-a482-4e82-817e-d9b073124109",
   "metadata": {},
   "source": [
    "### Exercise 47:\n",
    "Write a Python program that prints \"Yes\" if a string has more than one occurrence of the same letter.\n",
    "\n",
    "```python\n",
    "# Exercise 47"
   ]
  },
  {
   "cell_type": "code",
   "execution_count": 159,
   "id": "a0111ad6-12b4-43df-994b-c1724f967f47",
   "metadata": {},
   "outputs": [
    {
     "name": "stdout",
     "output_type": "stream",
     "text": [
      "'apple': No\n",
      "'abcd': No\n",
      "'orange': No\n",
      "'pineapple': No\n",
      "'cherry': No\n"
     ]
    }
   ],
   "source": [
    "def has_duplicate_letters(s):\n",
    "    \"\"\"\n",
    "    Check if a string has more than one occurrence of any letter.\n",
    "\n",
    "    Parameter:\n",
    "    s : The string to check.\n",
    "\n",
    "    Returns:\n",
    "    bool: True if any letter appears more than once, False otherwise.\n",
    "    \"\"\"\n",
    "    z = set()\n",
    "    for charactor in s:\n",
    "        if char in z:\n",
    "            return True\n",
    "        z.add(charactor)\n",
    "    return False\n",
    "\n",
    "strings = [\"apple\", \"abcd\", \"orange\", \"pineapple\", \"cherry\"]\n",
    "\n",
    "for s in strings:\n",
    "    if has_duplicate_letters(s):\n",
    "        print(f\"'{s}': Yes\")\n",
    "    else:\n",
    "        print(f\"'{s}': No\")"
   ]
  },
  {
   "cell_type": "markdown",
   "id": "9567f564-0e64-4d04-9ff2-c5f061ef629f",
   "metadata": {},
   "source": [
    "### Exercise 48:\n",
    "Write a Python function that checks if a number is prime by dividing it by numbers up to its square root.\n",
    "\n",
    "```python\n",
    "# Exercise 48"
   ]
  },
  {
   "cell_type": "code",
   "execution_count": 161,
   "id": "078de9db-5ae2-4670-b660-62a280a1ec2c",
   "metadata": {},
   "outputs": [
    {
     "name": "stdout",
     "output_type": "stream",
     "text": [
      "1 is prime? False\n",
      "2 is prime? True\n",
      "12 is prime? False\n",
      "3 is prime? True\n",
      "4 is prime? False\n",
      "5 is prime? True\n"
     ]
    }
   ],
   "source": [
    "import math\n",
    "\n",
    "def is_prime(n):\n",
    "    \"\"\"\n",
    "    Check if a number is prime by testing divisibility up to its square root.\n",
    "\n",
    "    Parameter:\n",
    "    n : The number to check.\n",
    "\n",
    "    Returns:\n",
    "    bool: True if n is prime, False otherwise.\n",
    "    \"\"\"\n",
    "    if n <= 1:\n",
    "        return False\n",
    "    if n <= 3:\n",
    "        return True  # 2 and 3 are prime number\n",
    "    if n % 2 == 0 or n % 3 == 0:\n",
    "        return False  # elimine multiples of 2 and 3\n",
    "\n",
    "    # Check divisibility by numbers of the form 6k ± 1 up to sqrt(n)\n",
    "    for i in range(5, int(math.isqrt(n)) + 1, 6):\n",
    "        if n % i == 0 or n % (i + 2) == 0:\n",
    "            return False\n",
    "    return True\n",
    "\n",
    "numbers = [1, 2, 12, 3, 4, 5]\n",
    "for num in numbers:\n",
    "    print(f\"{num} is prime? {is_prime(num)}\")"
   ]
  },
  {
   "cell_type": "markdown",
   "id": "e5ada282-55ba-4783-8ad7-0905fb263716",
   "metadata": {},
   "source": [
    "### Exercise 49:\n",
    "Write a Python program that checks if a number is within 1 of a multiple of 10.\n",
    "\n",
    "```python\n",
    "# Exercise 49"
   ]
  },
  {
   "cell_type": "code",
   "execution_count": 163,
   "id": "29f66c79-29ba-4b19-9809-ed3f091b8f6f",
   "metadata": {},
   "outputs": [
    {
     "name": "stdout",
     "output_type": "stream",
     "text": [
      "19: Yes\n",
      "20: Yes\n",
      "21: Yes\n",
      "22: No\n"
     ]
    }
   ],
   "source": [
    "def multiple_of_10(n):\n",
    "    \"\"\"\n",
    "    Check if a number is within 1 of a multiple of 10.\n",
    "\n",
    "    Parameters:\n",
    "    n : The number to check.\n",
    "\n",
    "    Returns:\n",
    "    bool: True if n is within 1 of a multiple of 10, False otherwise.\n",
    "    \"\"\"\n",
    "    return n % 10 <= 1 or n % 10 >= 9\n",
    "\n",
    "numbers = [19, 20, 21, 22]\n",
    "for x in numbers:\n",
    "    if multiple_of_10(x):\n",
    "        print(f\"{x}: Yes\")\n",
    "    else:\n",
    "        print(f\"{x}: No\")"
   ]
  },
  {
   "cell_type": "markdown",
   "id": "3c3aebc4-1a29-4cb2-b242-1a5065b5a5a9",
   "metadata": {},
   "source": [
    "### Exercise 50:\n",
    "Write a Python program that prints \"In range\" if a number is between 10 and 20 (inclusive), otherwise it prints \"Out of range.\"\n",
    "\n",
    "```python\n",
    "# Exercise 50"
   ]
  },
  {
   "cell_type": "code",
   "execution_count": 166,
   "id": "8e453cd6-0bdd-4a47-a5f7-101e7feaf41f",
   "metadata": {},
   "outputs": [
    {
     "name": "stdout",
     "output_type": "stream",
     "text": [
      "5: Out of range\n",
      "10: In range\n",
      "15: In range\n",
      "20: In range\n",
      "25: Out of range\n"
     ]
    }
   ],
   "source": [
    "def check_range(n):\n",
    "    \"\"\"\n",
    "    Check if a number is between 10 and 20 and print the result.\n",
    "    \"\"\"\n",
    "    if 10 <= n <= 20:\n",
    "        print(\"In range\")\n",
    "    else:\n",
    "        print(\"Out of range\")\n",
    "\n",
    "numbers = [5, 10, 15, 20, 25]\n",
    "for x in numbers:\n",
    "    print(f\"{x}: \", end=\"\")\n",
    "    check_range(x)"
   ]
  }
 ],
 "metadata": {
  "colab": {
   "provenance": []
  },
  "kernelspec": {
   "display_name": "Python 3 (ipykernel)",
   "language": "python",
   "name": "python3"
  },
  "language_info": {
   "codemirror_mode": {
    "name": "ipython",
    "version": 3
   },
   "file_extension": ".py",
   "mimetype": "text/x-python",
   "name": "python",
   "nbconvert_exporter": "python",
   "pygments_lexer": "ipython3",
   "version": "3.13.5"
  }
 },
 "nbformat": 4,
 "nbformat_minor": 5
}
